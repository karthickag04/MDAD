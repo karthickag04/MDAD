{
 "cells": [
  {
   "cell_type": "code",
   "execution_count": 13,
   "id": "1ede4ee2-6ab0-4b3e-848c-b4ab17a5a90b",
   "metadata": {},
   "outputs": [
    {
     "name": "stdout",
     "output_type": "stream",
     "text": [
      "['abc', 'abc', 'abc']\n"
     ]
    }
   ],
   "source": [
    "# Import the re module\n",
    "import re\n",
    "\n",
    "# Basic Patterns\n",
    "# Matches exactly those characters.\n",
    "pattern1 = re.compile(r'abc')\n",
    "print(pattern1.findall('abc abc khkhl abc'))\n"
   ]
  },
  {
   "cell_type": "code",
   "execution_count": 15,
   "id": "f1a45208-5a54-4509-b766-e2a687dd81db",
   "metadata": {},
   "outputs": [
    {
     "name": "stdout",
     "output_type": "stream",
     "text": [
      "['e', 'o', 'o']\n"
     ]
    }
   ],
   "source": [
    "# Character Classes\n",
    "# Matches any one of the specified characters.\n",
    "pattern2 = re.compile(r'[aeiou]')\n",
    "print(pattern2.findall('hello world'))"
   ]
  },
  {
   "cell_type": "code",
   "execution_count": 3,
   "id": "5c4e2ca3-55b6-49ed-888f-060237b1e4e9",
   "metadata": {},
   "outputs": [
    {
     "name": "stdout",
     "output_type": "stream",
     "text": [
      "['h', 'l', 'l', ' ', 'w', 'r', 'l', 'd']\n"
     ]
    }
   ],
   "source": [
    "# Negated Character Classes\n",
    "# Matches any character not in the specified class.\n",
    "pattern3 = re.compile(r'[^aeiou]')\n",
    "print(pattern3.findall('hello world'))\n"
   ]
  },
  {
   "cell_type": "code",
   "execution_count": null,
   "id": "d188cf14-a640-4cfb-9cf8-0d249e3284d3",
   "metadata": {},
   "outputs": [],
   "source": []
  },
  {
   "cell_type": "code",
   "execution_count": 17,
   "id": "4c948875-75b8-45f8-931c-06140b8f6a6d",
   "metadata": {},
   "outputs": [
    {
     "name": "stdout",
     "output_type": "stream",
     "text": [
      "['1', '2', '3', '4', '5', '6']\n"
     ]
    }
   ],
   "source": [
    "# Predefined Character Classes\n",
    "# Matches any digit (equivalent to [0-9]).\n",
    "pattern4 = re.compile(r'\\d')\n",
    "print(pattern4.findall('abc123def456'))\n"
   ]
  },
  {
   "cell_type": "code",
   "execution_count": 20,
   "id": "09d1d6e1-919b-4bcf-846a-0d7b0608acbe",
   "metadata": {},
   "outputs": [
    {
     "name": "stdout",
     "output_type": "stream",
     "text": [
      "['Hello']\n"
     ]
    }
   ],
   "source": [
    "# Anchors\n",
    "# Matches the start of the string.\n",
    "pattern5 = re.compile(r'^Hello')\n",
    "print(pattern5.findall('Hello world'))\n"
   ]
  },
  {
   "cell_type": "code",
   "execution_count": 24,
   "id": "37ad220e-1d81-4291-985a-589744bdabb9",
   "metadata": {},
   "outputs": [
    {
     "name": "stdout",
     "output_type": "stream",
     "text": [
      "['World']\n"
     ]
    }
   ],
   "source": [
    "# Matches the end of the string.\n",
    "pattern6 = re.compile(r'World$')\n",
    "print(pattern6.findall('Hello World'))\n"
   ]
  },
  {
   "cell_type": "code",
   "execution_count": 30,
   "id": "30bdc630-f1c3-4e4b-96de-e97f6164d3ed",
   "metadata": {},
   "outputs": [
    {
     "name": "stdout",
     "output_type": "stream",
     "text": [
      "['123', '', '', '', '123', '']\n"
     ]
    }
   ],
   "source": [
    "# Quantifiers\n",
    "# Matches 0 or more repetitions of the preceding element.\n",
    "pattern7 = re.compile(r'\\d*')\n",
    "print(pattern7.findall('123abc123'))\n"
   ]
  },
  {
   "cell_type": "code",
   "execution_count": 29,
   "id": "9b0c268c-1cfb-4d23-b0d3-074bd4f37897",
   "metadata": {},
   "outputs": [
    {
     "name": "stdout",
     "output_type": "stream",
     "text": [
      "['123', '234']\n"
     ]
    }
   ],
   "source": [
    "# Matches 1 or more repetitions of the preceding element.\n",
    "pattern8 = re.compile(r'\\d+')\n",
    "print(pattern8.findall('123abcdfdfk234'))\n"
   ]
  },
  {
   "cell_type": "code",
   "execution_count": 9,
   "id": "14dcbd0c-d6c1-40c3-9f1b-2bb160e9b9bb",
   "metadata": {},
   "outputs": [
    {
     "name": "stdout",
     "output_type": "stream",
     "text": [
      "['color', 'colour']\n"
     ]
    }
   ],
   "source": [
    "# Matches 0 or 1 repetition of the preceding element.\n",
    "pattern9 = re.compile(r'colou?r')\n",
    "print(pattern9.findall('color colour'))\n"
   ]
  },
  {
   "cell_type": "code",
   "execution_count": 33,
   "id": "0e8fbdc0-f288-49a1-956a-e16951716bfd",
   "metadata": {},
   "outputs": [
    {
     "name": "stdout",
     "output_type": "stream",
     "text": [
      "['9989890']\n"
     ]
    }
   ],
   "source": [
    "# Matches exactly n repetitions of the preceding element.\n",
    "pattern10 = re.compile(r'\\d{7}')\n",
    "print(pattern10.findall('12fsfs345fdsf678fsdfds9989890'))\n"
   ]
  },
  {
   "cell_type": "code",
   "execution_count": 12,
   "id": "88df9914-6f33-4586-969b-f9e366c6bea3",
   "metadata": {},
   "outputs": [
    {
     "name": "stdout",
     "output_type": "stream",
     "text": [
      "['.', '.']\n"
     ]
    }
   ],
   "source": [
    "# Escaping Special Characters\n",
    "# Escape a special character to treat it as a literal.\n",
    "pattern18 = re.compile(r'\\.')\n",
    "print(pattern18.findall('a.b.c'))"
   ]
  },
  {
   "cell_type": "code",
   "execution_count": 55,
   "id": "1201c872-f612-437b-8ab6-921e417ce33e",
   "metadata": {},
   "outputs": [
    {
     "name": "stdout",
     "output_type": "stream",
     "text": [
      "['1', '2', '3', '4', 'd', 'f', '3', '4', 'D', 'D']\n"
     ]
    }
   ],
   "source": [
    "# find a pattern with number and string\n",
    "pattern3 = re.compile(r'[a-zA-Z0-9]')\n",
    "print(pattern3.findall('1234df34 DD'))\n",
    "\n",
    "# pattern4 = re.compile(r'a-zA-Z0-9')\n",
    "# print(pattern4.findall('abcDD353 DDfdf333 33ffDD'))\n"
   ]
  },
  {
   "cell_type": "raw",
   "id": "015488a3-a5eb-4018-b01a-869287fec901",
   "metadata": {},
   "source": [
    "\n"
   ]
  },
  {
   "cell_type": "code",
   "execution_count": 56,
   "id": "f9424acb-c7b0-46cb-bd23-ddf0839a409e",
   "metadata": {},
   "outputs": [
    {
     "name": "stdout",
     "output_type": "stream",
     "text": [
      "['1234ffdfdf34']\n"
     ]
    }
   ],
   "source": [
    "# Create a pattern to identify 1234ffdfdf34\n",
    "\n",
    "pattern5 = re.compile(r'\\d{4}[a-z]{6}\\d{2}')\n",
    "print(pattern5.findall('1234ffdfdf34 ffDDDD4424 343ffff444 ffdsdsdfsfrrr'))\n"
   ]
  },
  {
   "cell_type": "code",
   "execution_count": null,
   "id": "ce6f0e7c-1b02-4ec4-a998-159c6e21c41d",
   "metadata": {},
   "outputs": [],
   "source": []
  }
 ],
 "metadata": {
  "kernelspec": {
   "display_name": "Python 3 (ipykernel)",
   "language": "python",
   "name": "python3"
  },
  "language_info": {
   "codemirror_mode": {
    "name": "ipython",
    "version": 3
   },
   "file_extension": ".py",
   "mimetype": "text/x-python",
   "name": "python",
   "nbconvert_exporter": "python",
   "pygments_lexer": "ipython3",
   "version": "3.11.7"
  }
 },
 "nbformat": 4,
 "nbformat_minor": 5
}
