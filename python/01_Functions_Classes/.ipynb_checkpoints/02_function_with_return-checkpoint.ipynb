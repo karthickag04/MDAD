{
 "cells": [
  {
   "cell_type": "code",
   "execution_count": 1,
   "id": "64b522df-39dd-476a-a0e3-71f88ccf9c7b",
   "metadata": {},
   "outputs": [
    {
     "name": "stdout",
     "output_type": "stream",
     "text": [
      "i have car\n"
     ]
    }
   ],
   "source": [
    "def car():\n",
    "    print(\"i have car\")\n",
    "\n",
    "car()"
   ]
  },
  {
   "cell_type": "code",
   "execution_count": 2,
   "id": "5a37581e-c3d6-4a84-a4a0-62589e2576da",
   "metadata": {},
   "outputs": [
    {
     "data": {
      "text/plain": [
       "'i have car'"
      ]
     },
     "execution_count": 2,
     "metadata": {},
     "output_type": "execute_result"
    }
   ],
   "source": [
    "def car():\n",
    "    return \"i have car\"\n",
    "\n",
    "print(car()"
   ]
  },
  {
   "cell_type": "code",
   "execution_count": 6,
   "id": "25fc3a23-8fa1-4b4a-bec6-056306522409",
   "metadata": {},
   "outputs": [
    {
     "name": "stdout",
     "output_type": "stream",
     "text": [
      "i have car\n",
      "None\n"
     ]
    }
   ],
   "source": [
    "# trying to assign the output to variable without return type\n",
    "\n",
    "def car1():\n",
    "    print(\"i have car\")\n",
    "\n",
    "result = car1()\n",
    "print(result)"
   ]
  },
  {
   "cell_type": "code",
   "execution_count": 9,
   "id": "b6295eb3-b433-40b5-90e2-68d7b9a3ee03",
   "metadata": {},
   "outputs": [
    {
     "name": "stdout",
     "output_type": "stream",
     "text": [
      "i have car\n"
     ]
    }
   ],
   "source": [
    "# trying to assign the output to variable with return type\n",
    "\n",
    "def car1():\n",
    "   \n",
    "    return \"i have car\"\n",
    "\n",
    "result = car1()\n",
    "print(result)"
   ]
  },
  {
   "cell_type": "code",
   "execution_count": null,
   "id": "f0c370e2-d8b3-4031-8c5b-f575a3c9084f",
   "metadata": {},
   "outputs": [],
   "source": []
  }
 ],
 "metadata": {
  "kernelspec": {
   "display_name": "Python 3 (ipykernel)",
   "language": "python",
   "name": "python3"
  },
  "language_info": {
   "codemirror_mode": {
    "name": "ipython",
    "version": 3
   },
   "file_extension": ".py",
   "mimetype": "text/x-python",
   "name": "python",
   "nbconvert_exporter": "python",
   "pygments_lexer": "ipython3",
   "version": "3.11.7"
  }
 },
 "nbformat": 4,
 "nbformat_minor": 5
}
