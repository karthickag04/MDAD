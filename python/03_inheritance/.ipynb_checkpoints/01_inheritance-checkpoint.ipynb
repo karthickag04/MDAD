{
 "cells": [
  {
   "cell_type": "code",
   "execution_count": 3,
   "id": "0bfa375d-6f24-42bf-bc9b-269d8686cd86",
   "metadata": {},
   "outputs": [],
   "source": [
    "## Inheritance"
   ]
  },
  {
   "cell_type": "code",
   "execution_count": 4,
   "id": "3119661c-284f-46a8-819c-3b8a6c5cff7a",
   "metadata": {},
   "outputs": [],
   "source": [
    "# Inheritance allows us to define a class that inherits all the methods and properties from another class.\n",
    "\n",
    "# Parent class is the class being inherited from, also called base class.\n",
    "\n",
    "# Child class is the class that inherits from another class, also called derived class."
   ]
  },
  {
   "cell_type": "code",
   "execution_count": 5,
   "id": "46f7d77b-6bbd-4da4-9579-081072a8c4b6",
   "metadata": {},
   "outputs": [],
   "source": [
    "# type of inheritance\n",
    "    \n",
    "    # 1. Single \n",
    "    # 2. Multiple \n",
    "    # 3. Multilevel \n",
    "    # 4. Hierarchical \n",
    "    # 5. Hybrid "
   ]
  },
  {
   "cell_type": "code",
   "execution_count": 24,
   "id": "8f1d04ee-4dd6-4da7-abe3-30d70313bd51",
   "metadata": {},
   "outputs": [
    {
     "name": "stdout",
     "output_type": "stream",
     "text": [
      "i have bike\n",
      "i have a car\n"
     ]
    }
   ],
   "source": [
    "# 1. Single\n",
    "\n",
    "class Father:\n",
    "    def __init__(self):\n",
    "        self.car()\n",
    "        self.house()\n",
    "        \n",
    "    def car(self):\n",
    "        print(\"i have a car\")\n",
    "    def house(self):\n",
    "        print(\"i have a house \")\n",
    "\n",
    "class Son(Father):\n",
    "    def __init__(self):\n",
    "        self.bike()\n",
    "        super().car()\n",
    "        \n",
    "    def bike(self):\n",
    "        print(\"i have bike\")\n",
    "\n",
    "\n",
    "assetsofson = Son()"
   ]
  },
  {
   "cell_type": "code",
   "execution_count": 25,
   "id": "14b859c5-09b2-4132-92de-c48bd9063d80",
   "metadata": {},
   "outputs": [
    {
     "name": "stdout",
     "output_type": "stream",
     "text": [
      "i have a 15 kg Gold asset\n"
     ]
    }
   ],
   "source": [
    "# 1. Multiple\n",
    "\n",
    "class Father:\n",
    "    def __init__(self):\n",
    "        self.car()\n",
    "        self.house()\n",
    "        \n",
    "    def car(self):\n",
    "        print(\"i have a car\")\n",
    "    def house(self):\n",
    "        print(\"i have a house \")\n",
    "        \n",
    "class Mother:\n",
    "    def __init__(self):\n",
    "        self.Gold()\n",
    "        \n",
    "    def Gold(self):\n",
    "        print(\"i have a 15 kg Gold asset\")\n",
    "    \n",
    "\n",
    "class Son(Father, Mother):\n",
    "    def __init__(self):\n",
    "        self.bike()\n",
    "        super().car()\n",
    "        \n",
    "    def bike(self):\n",
    "        print(\"i have bike\")\n",
    "\n",
    "\n",
    "# assetsofson = Son()"
   ]
  },
  {
   "cell_type": "code",
   "execution_count": null,
   "id": "847b7b59-d1e7-4fbd-95fd-2ec2bf84ff97",
   "metadata": {},
   "outputs": [],
   "source": []
  }
 ],
 "metadata": {
  "kernelspec": {
   "display_name": "Python 3 (ipykernel)",
   "language": "python",
   "name": "python3"
  },
  "language_info": {
   "codemirror_mode": {
    "name": "ipython",
    "version": 3
   },
   "file_extension": ".py",
   "mimetype": "text/x-python",
   "name": "python",
   "nbconvert_exporter": "python",
   "pygments_lexer": "ipython3",
   "version": "3.11.7"
  }
 },
 "nbformat": 4,
 "nbformat_minor": 5
}
