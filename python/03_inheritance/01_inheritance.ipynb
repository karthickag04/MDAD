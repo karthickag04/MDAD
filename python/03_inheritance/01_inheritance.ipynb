{
 "cells": [
  {
   "cell_type": "code",
   "execution_count": 3,
   "id": "0bfa375d-6f24-42bf-bc9b-269d8686cd86",
   "metadata": {},
   "outputs": [],
   "source": [
    "## Inheritance"
   ]
  },
  {
   "cell_type": "code",
   "execution_count": 4,
   "id": "3119661c-284f-46a8-819c-3b8a6c5cff7a",
   "metadata": {},
   "outputs": [],
   "source": [
    "# Inheritance allows us to define a class that inherits all the methods and properties from another class.\n",
    "\n",
    "# Parent class is the class being inherited from, also called base class.\n",
    "\n",
    "# Child class is the class that inherits from another class, also called derived class."
   ]
  },
  {
   "cell_type": "code",
   "execution_count": 5,
   "id": "46f7d77b-6bbd-4da4-9579-081072a8c4b6",
   "metadata": {},
   "outputs": [],
   "source": [
    "# type of inheritance\n",
    "    \n",
    "    # 1. Single \n",
    "    # 2. Multiple \n",
    "    # 3. Multilevel \n",
    "    # 4. Hierarchical \n",
    "    # 5. Hybrid "
   ]
  },
  {
   "cell_type": "code",
   "execution_count": 24,
   "id": "8f1d04ee-4dd6-4da7-abe3-30d70313bd51",
   "metadata": {},
   "outputs": [
    {
     "name": "stdout",
     "output_type": "stream",
     "text": [
      "i have bike\n",
      "i have a car\n"
     ]
    }
   ],
   "source": [
    "# 1. Single\n",
    "\n",
    "class Father:\n",
    "    def __init__(self):\n",
    "        self.car()\n",
    "        self.house()\n",
    "        \n",
    "    def car(self):\n",
    "        print(\"i have a car\")\n",
    "    def house(self):\n",
    "        print(\"i have a house \")\n",
    "\n",
    "class Son(Father):\n",
    "    def __init__(self):\n",
    "        self.bike()\n",
    "        super().car()\n",
    "        \n",
    "    def bike(self):\n",
    "        print(\"i have bike\")\n",
    "\n",
    "\n",
    "assetsofson = Son()"
   ]
  },
  {
   "cell_type": "code",
   "execution_count": 32,
   "id": "14b859c5-09b2-4132-92de-c48bd9063d80",
   "metadata": {},
   "outputs": [
    {
     "name": "stdout",
     "output_type": "stream",
     "text": [
      "i have bike\n",
      "i have a car\n",
      "i have a house \n",
      "i have a 15 kg Gold asset\n"
     ]
    }
   ],
   "source": [
    "# 2. Multiple\n",
    "\n",
    "class Father:\n",
    "    def __init__(self):\n",
    "        self.car()\n",
    "        self.house()\n",
    "        \n",
    "    def car(self):\n",
    "        print(\"i have a car\")\n",
    "    def house(self):\n",
    "        print(\"i have a house \")\n",
    "        \n",
    "class Mother:\n",
    "    def __init__(self):\n",
    "        self.Gold()\n",
    "        \n",
    "    def Gold(self):\n",
    "        print(\"i have a 15 kg Gold asset\")\n",
    "    \n",
    "\n",
    "class Son(Father, Mother):\n",
    "    def __init__(self):\n",
    "        self.bike()\n",
    "        super().car()\n",
    "        super().house()\n",
    "        super().Gold()\n",
    "       \n",
    "        \n",
    "    def bike(self):\n",
    "        print(\"i have bike\")\n",
    "\n",
    "\n",
    "assetsofson = Son()"
   ]
  },
  {
   "cell_type": "code",
   "execution_count": 36,
   "id": "5e997be4-0c02-49d0-8a2b-6bd5715f8a2c",
   "metadata": {},
   "outputs": [
    {
     "name": "stdout",
     "output_type": "stream",
     "text": [
      "i have bike\n",
      "i have a car\n",
      "i have a house \n"
     ]
    }
   ],
   "source": [
    "# 3. Multilevel\n",
    "\n",
    "class Father:\n",
    "    def __init__(self):\n",
    "        self.car()\n",
    "        self.house()\n",
    "        \n",
    "    def car(self):\n",
    "        print(\"i have a car\")\n",
    "    def house(self):\n",
    "        print(\"i have a house \")\n",
    "        \n",
    "    \n",
    "\n",
    "class Son(Father):\n",
    "    def __init__(self):\n",
    "        self.bike()\n",
    "        super().car()\n",
    "        super().house()\n",
    "       \n",
    "        \n",
    "    def bike(self):\n",
    "        print(\"i have bike\")\n",
    "\n",
    "class GrandSon(Son):\n",
    "    def __init__(self):\n",
    "        super().__init__()\n",
    "\n",
    "assetsofGson = GrandSon()"
   ]
  },
  {
   "cell_type": "code",
   "execution_count": 60,
   "id": "d36869b4-c074-498c-9497-4ab8e4e1a66a",
   "metadata": {},
   "outputs": [
    {
     "name": "stdout",
     "output_type": "stream",
     "text": [
      "this is my daughter car\n"
     ]
    }
   ],
   "source": [
    "# 3. Multilevel with return type\n",
    "\n",
    "class Father:\n",
    "    def __init__(self, car, tvchannel):\n",
    "        self.car= car\n",
    "        self.tvchannel = tvchannel\n",
    "        \n",
    "    def car(self):\n",
    "        return self.car\n",
    "    def tvchannel(self):\n",
    "        return self.tvchannel\n",
    "\n",
    "class Son(Father):\n",
    "    def __init__(self,car,tvchannel,bike):\n",
    "        super().__init__(car,tvchannel)\n",
    "        self.bike=bike          \n",
    "               \n",
    "    def bike(self):\n",
    "        return self.bike\n",
    "\n",
    "    def assets(self):\n",
    "        if super().car() == \"bmw\":\n",
    "            print(\"this is udhayanith car\")\n",
    "        elif super().car() == \"audi\":\n",
    "            print(\"this is my daughter car\")\n",
    "        else:\n",
    "            print(\"this is my father car\")\n",
    "        \n",
    "\n",
    "assetsofson = Son(\"audi\", \"suntv\", \"tvs\")\n",
    "\n",
    "assetsofson.assets()"
   ]
  },
  {
   "cell_type": "code",
   "execution_count": null,
   "id": "847b7b59-d1e7-4fbd-95fd-2ec2bf84ff97",
   "metadata": {},
   "outputs": [],
   "source": []
  }
 ],
 "metadata": {
  "kernelspec": {
   "display_name": "Python 3 (ipykernel)",
   "language": "python",
   "name": "python3"
  },
  "language_info": {
   "codemirror_mode": {
    "name": "ipython",
    "version": 3
   },
   "file_extension": ".py",
   "mimetype": "text/x-python",
   "name": "python",
   "nbconvert_exporter": "python",
   "pygments_lexer": "ipython3",
   "version": "3.11.7"
  }
 },
 "nbformat": 4,
 "nbformat_minor": 5
}
