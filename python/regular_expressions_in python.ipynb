{
 "cells": [
  {
   "cell_type": "code",
   "execution_count": 1,
   "id": "687166db-0350-42bf-a42d-ba0043cb7a68",
   "metadata": {},
   "outputs": [],
   "source": [
    "# Import the re module\n",
    "import re"
   ]
  },
  {
   "cell_type": "code",
   "execution_count": 5,
   "id": "df09f8cd-fbf3-43c3-8806-8eee22d1dfea",
   "metadata": {},
   "outputs": [],
   "source": [
    "# re.compile()\n",
    "# Compiles a regular expression pattern into a regex object.\n",
    "# pattern = re.compile(r'\\d+')\n"
   ]
  },
  {
   "cell_type": "code",
   "execution_count": 19,
   "id": "2382bac7-1451-4be3-8702-164335a6bd94",
   "metadata": {},
   "outputs": [
    {
     "name": "stdout",
     "output_type": "stream",
     "text": [
      "Match found: 123\n"
     ]
    }
   ],
   "source": [
    "# re.match()\n",
    "# Determines if the regex matches at the beginning of the string.\n",
    "match = pattern.match('123abc')\n",
    "if match:\n",
    "    print(f'Match found: {match.group()}')\n",
    "else:\n",
    "    print('No match')\n"
   ]
  },
  {
   "cell_type": "code",
   "execution_count": 21,
   "id": "99ca9f70-f6df-44df-b79e-1ded22a6d907",
   "metadata": {},
   "outputs": [
    {
     "name": "stdout",
     "output_type": "stream",
     "text": [
      "Match found: 123\n"
     ]
    }
   ],
   "source": [
    "# re.search()\n",
    "# Searches the entire string for the first occurrence of the pattern.\n",
    "match = pattern.search('abc123def3434')\n",
    "if match:\n",
    "    print(f'Match found: {match.group()}')\n",
    "else:\n",
    "    print('No match')"
   ]
  },
  {
   "cell_type": "code",
   "execution_count": 36,
   "id": "00fb174e-00f5-49e8-b972-902e4860017e",
   "metadata": {},
   "outputs": [
    {
     "name": "stdout",
     "output_type": "stream",
     "text": [
      "['123', '456', '789']\n"
     ]
    }
   ],
   "source": [
    "# re.findall()\n",
    "# Finds all non-overlapping matches of the pattern in the string and returns them as a list.\n",
    "matches = pattern.findall('abc123def456ghi789')\n",
    "# matches = pattern.findall('I recently purchased the Godrej 1.5 Ton 3 Star Inverter Split AC (Model: AC 1.5T SIC 18TTC3-WWA, White) from your platform, and I felt compelled to share my experience with this outstanding product.From the moment I switched on the Godrej AC, I was greeted with efficient and rapid cooling. The 1.5-ton capacity is perfect for my room size, and the inverter technology ensures that the cooling is not only quick but also consistent, maintaining a pleasant temperature without any fluctuations. This feature has undoubtedly made a significant difference in my overall comfort.What impressed me the most is the energy efficiency of this AC. Being a 3-star rated appliance, it not only cools effectively but also ensures that my electricity bills remain reasonable. This balance between performance and energy conservation is something I truly appreciate.')\n",
    "print(matches)"
   ]
  },
  {
   "cell_type": "code",
   "execution_count": 33,
   "id": "a7e7dbc4-1615-4d54-bb25-7f8550be3527",
   "metadata": {},
   "outputs": [
    {
     "name": "stdout",
     "output_type": "stream",
     "text": [
      "Match found: 123\n",
      "Match found: 456\n",
      "Match found: 789\n"
     ]
    }
   ],
   "source": [
    "# re.finditer()\n",
    "# Finds all non-overlapping matches of the pattern in the string and returns them as an iterator of match objects.\n",
    "matches = pattern.finditer('abc123def456ghi789')\n",
    "for match in matches:\n",
    "    print(f'Match found: {match.group()}')\n"
   ]
  },
  {
   "cell_type": "code",
   "execution_count": 10,
   "id": "fa1c4ebe-ffe5-4e0d-a5a3-c4c7a0312c37",
   "metadata": {},
   "outputs": [
    {
     "name": "stdout",
     "output_type": "stream",
     "text": [
      "['abc', 'def', 'ghi', '']\n"
     ]
    }
   ],
   "source": [
    "# re.split()\n",
    "# Splits the string by the occurrences of the pattern.\n",
    "result = pattern.split('abc123def456ghi789')\n",
    "print(result)\n"
   ]
  },
  {
   "cell_type": "code",
   "execution_count": 11,
   "id": "05491fa5-c454-4abd-835f-34dbe2f11aaf",
   "metadata": {},
   "outputs": [
    {
     "name": "stdout",
     "output_type": "stream",
     "text": [
      "abc#def#ghi#\n"
     ]
    }
   ],
   "source": [
    "# re.sub()\n",
    "# Replaces the leftmost non-overlapping occurrences of the pattern with a replacement string.\n",
    "result = pattern.sub('#', 'abc123def456ghi789')\n",
    "print(result)\n"
   ]
  },
  {
   "cell_type": "code",
   "execution_count": 34,
   "id": "220c8aaf-96af-4415-a579-d77cd79d4ea9",
   "metadata": {},
   "outputs": [
    {
     "name": "stdout",
     "output_type": "stream",
     "text": [
      "abc#def#ghi#\n",
      "Number of substitutions: 3\n"
     ]
    }
   ],
   "source": [
    "# re.subn()\n",
    "# Similar to re.sub(), but also returns the number of substitutions made.\n",
    "result, num_subs = pattern.subn('#', 'abc123def456ghi789')\n",
    "print(result)\n",
    "print(f'Number of substitutions: {num_subs}')\n",
    "# print('Number of substitutions:', num_subs)"
   ]
  },
  {
   "cell_type": "code",
   "execution_count": null,
   "id": "1ce391e3-46f0-4dea-96e7-39105ef4ce22",
   "metadata": {},
   "outputs": [],
   "source": []
  }
 ],
 "metadata": {
  "kernelspec": {
   "display_name": "Python 3 (ipykernel)",
   "language": "python",
   "name": "python3"
  },
  "language_info": {
   "codemirror_mode": {
    "name": "ipython",
    "version": 3
   },
   "file_extension": ".py",
   "mimetype": "text/x-python",
   "name": "python",
   "nbconvert_exporter": "python",
   "pygments_lexer": "ipython3",
   "version": "3.11.7"
  }
 },
 "nbformat": 4,
 "nbformat_minor": 5
}
