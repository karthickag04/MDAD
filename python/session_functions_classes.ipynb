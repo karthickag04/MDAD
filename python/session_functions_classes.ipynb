{
 "cells": [
  {
   "cell_type": "code",
   "execution_count": 2,
   "id": "f984d23a-1c8c-4451-bdba-c81049497659",
   "metadata": {},
   "outputs": [],
   "source": [
    "## addition program"
   ]
  },
  {
   "cell_type": "code",
   "execution_count": 3,
   "id": "306f1e2b-91cd-4281-ad80-7151dfd1f5a8",
   "metadata": {},
   "outputs": [
    {
     "name": "stdout",
     "output_type": "stream",
     "text": [
      "addition of x and y :  20\n"
     ]
    }
   ],
   "source": [
    "x = 10\n",
    "y = 10\n",
    "z = x + y\n",
    "print(\"addition of x and y : \", z)"
   ]
  },
  {
   "cell_type": "code",
   "execution_count": 6,
   "id": "760009b9-4934-4179-8ce2-1fd4406dcd32",
   "metadata": {},
   "outputs": [],
   "source": [
    "## to reuse the code"
   ]
  },
  {
   "cell_type": "code",
   "execution_count": 8,
   "id": "bd4186a2-ef5f-4ca8-a43d-037a383d613e",
   "metadata": {},
   "outputs": [
    {
     "name": "stdout",
     "output_type": "stream",
     "text": [
      "addition of x and y : 20\n"
     ]
    }
   ],
   "source": [
    "## functions in python\n",
    "\n",
    "# keyword \"def\" to define a function\n",
    "\n",
    "\n",
    "def addition():\n",
    "    x = 10\n",
    "    y = 10\n",
    "    z = x + y\n",
    "    print(\"addition of x and y :\" , z)\n",
    "\n",
    "# call the fuction to execute\n",
    "addition()"
   ]
  },
  {
   "cell_type": "code",
   "execution_count": 11,
   "id": "13f088d1-74a6-42ff-8186-6d41e35d590d",
   "metadata": {},
   "outputs": [
    {
     "name": "stdout",
     "output_type": "stream",
     "text": [
      "addition of x and y : 20\n",
      "addition of x and y : 20\n",
      "addition of x and y : 20\n"
     ]
    }
   ],
   "source": [
    "# trying to reuse the method/function defined already\n",
    "addition()\n",
    "addition()\n",
    "addition()"
   ]
  },
  {
   "cell_type": "code",
   "execution_count": 13,
   "id": "8b333dc6-875a-477f-91a1-6fa80d8107ad",
   "metadata": {},
   "outputs": [
    {
     "name": "stdout",
     "output_type": "stream",
     "text": [
      "addition of x and y : 30\n"
     ]
    }
   ],
   "source": [
    "# functions with arguments - it can be single or multiple\n",
    "def addition(x,y):\n",
    "    z = x + y\n",
    "    print(\"addition of x and y :\" , z)\n",
    "\n",
    "# call the fuction to execute\n",
    "addition(10,20)"
   ]
  },
  {
   "cell_type": "code",
   "execution_count": 14,
   "id": "4236ccc1-a2e3-4f70-9652-ca4f712a20f8",
   "metadata": {},
   "outputs": [
    {
     "name": "stdout",
     "output_type": "stream",
     "text": [
      "addition of x and y : 12\n",
      "addition of x and y : 64\n",
      "addition of x and y : 50\n"
     ]
    }
   ],
   "source": [
    "# trying to reuse the method/function defined already with arguments\n",
    "addition(10,2)\n",
    "addition(14,50)\n",
    "addition(20,30)"
   ]
  },
  {
   "cell_type": "code",
   "execution_count": 16,
   "id": "a0140000-c2a7-4960-b1e5-2f62374009e9",
   "metadata": {},
   "outputs": [
    {
     "name": "stdout",
     "output_type": "stream",
     "text": [
      "multiplication of x,y and xx : 8\n"
     ]
    }
   ],
   "source": [
    "# functions examples 02\n",
    "# functions with arguments - it can be single or multiple\n",
    "def multiplication(x,y,xx):\n",
    "    z = x * y * xx\n",
    "    print(\"multiplication of x,y and xx :\" , z)\n",
    "\n",
    "# call the fuction to execute\n",
    "multiplication(2,2,2)"
   ]
  },
  {
   "cell_type": "code",
   "execution_count": 21,
   "id": "e9f14034-7ff1-4607-bb05-52ee1d0f4789",
   "metadata": {},
   "outputs": [
    {
     "name": "stdout",
     "output_type": "stream",
     "text": [
      "multiplication of x,y and xx : 8\n",
      "addition of x and y : 30\n"
     ]
    }
   ],
   "source": [
    "# calling previoulsy declared method/function inside the function\n",
    "def multiplication(x,y,xx):\n",
    "    z = x * y * xx\n",
    "    print(\"multiplication of x,y and xx :\" , z)\n",
    "    addition(10,20)\n",
    "\n",
    "# call the fuction to execute\n",
    "multiplication(2,2,2)"
   ]
  },
  {
   "cell_type": "code",
   "execution_count": 27,
   "id": "01ae42f8-ed1d-4b66-91ca-7683f314d7f9",
   "metadata": {},
   "outputs": [
    {
     "name": "stdout",
     "output_type": "stream",
     "text": [
      "Addition of x and y  : 4\n",
      "subraction of x and y  : 0\n",
      "multiplication of x and y  : 4\n",
      "division of x and y  : 1.0\n",
      "modulus of x and y  : 0\n",
      "****************************\n",
      "****************************\n",
      "Addition of x and y  : 4\n",
      "subraction of x and y  : 0\n",
      "multiplication of x and y  : 4\n",
      "division of x and y  : 1.0\n",
      "modulus of x and y  : 0\n"
     ]
    }
   ],
   "source": [
    "# doing arithmatic operation in function\n",
    "\n",
    "def ArithmaticOp(x,y):\n",
    "    z = x + y \n",
    "    print(\"Addition of x and y  :\" , z)\n",
    "    z = x - y \n",
    "    print(\"subraction of x and y  :\" , z)\n",
    "    z = x * y \n",
    "    print(\"multiplication of x and y  :\" , z)\n",
    "    z = x / y \n",
    "    print(\"division of x and y  :\" , z)\n",
    "    z = x % y \n",
    "    print(\"modulus of x and y  :\" , z)\n",
    "\n",
    "    \n",
    "    z1 = x + y \n",
    "    z2 = x - y \n",
    "    z3 = x * y \n",
    "    z4 = x / y \n",
    "    z5 = x % y \n",
    "    \n",
    "    print(\"****************************\")\n",
    "    print(\"****************************\")\n",
    "    print(\"Addition of x and y  :\" , z1)\n",
    "    print(\"subraction of x and y  :\" , z2)\n",
    "    print(\"multiplication of x and y  :\" , z3)\n",
    "    print(\"division of x and y  :\" , z4)\n",
    "    print(\"modulus of x and y  :\" , z5)\n",
    "    \n",
    "# call the fuction to execute\n",
    "ArithmaticOp(2,2)\n"
   ]
  },
  {
   "cell_type": "code",
   "execution_count": 23,
   "id": "1d86e36c-5499-49e9-be83-039c9209f884",
   "metadata": {},
   "outputs": [],
   "source": [
    "## "
   ]
  },
  {
   "cell_type": "code",
   "execution_count": 24,
   "id": "ef44f6d3-8e58-4012-b369-bd0b2a6b8103",
   "metadata": {},
   "outputs": [],
   "source": [
    "##"
   ]
  },
  {
   "cell_type": "code",
   "execution_count": 25,
   "id": "4c4658ab-4ba1-423b-bc12-61a8f7fe5aa2",
   "metadata": {},
   "outputs": [],
   "source": [
    "##"
   ]
  },
  {
   "cell_type": "code",
   "execution_count": 28,
   "id": "f16c659e-a4f8-47e7-9555-d04aaa318cf9",
   "metadata": {},
   "outputs": [],
   "source": [
    "## Class in python\n",
    "\n",
    "# keyword to define class is \"class\""
   ]
  },
  {
   "cell_type": "code",
   "execution_count": 36,
   "id": "aeb3ea18-2db2-4c0a-84a2-16a4086a9b03",
   "metadata": {},
   "outputs": [],
   "source": [
    "# declaring the class with single method\n",
    "class ArithmaticOp:\n",
    "    def addition(self):\n",
    "        x = 20\n",
    "        y = 20\n",
    "        z = x + y\n",
    "        print(\"Addition of x and y using function declared inside the class : \", z)"
   ]
  },
  {
   "cell_type": "code",
   "execution_count": 31,
   "id": "12021e5a-ee6e-419c-9f7f-d42660a28a20",
   "metadata": {},
   "outputs": [
    {
     "name": "stdout",
     "output_type": "stream",
     "text": [
      "addition of x and y : 20\n"
     ]
    }
   ],
   "source": [
    "# this is the previously declared addition method not from class\n",
    "addition(10,10)"
   ]
  },
  {
   "cell_type": "code",
   "execution_count": 37,
   "id": "0143b4f5-25b6-489b-b44e-e65ab94a1303",
   "metadata": {},
   "outputs": [
    {
     "name": "stdout",
     "output_type": "stream",
     "text": [
      "Addition of x and y using function declared inside the class :  40\n"
     ]
    }
   ],
   "source": [
    "# this is the method declared inside the class\n",
    "\n",
    "# calling the method using class objects\n",
    "\n",
    "arithop = ArithmaticOp()\n",
    "arithop.addition()"
   ]
  },
  {
   "cell_type": "code",
   "execution_count": 41,
   "id": "c4e33a48-e5c9-428f-8bb2-fe4bce84b36a",
   "metadata": {},
   "outputs": [],
   "source": [
    "# class demo 02\n",
    "# declaring the class with Multiple functions\n",
    "class ArithmaticOpDemo2:\n",
    "    def addition(self):\n",
    "        x = 20\n",
    "        y = 20\n",
    "        z = x + y\n",
    "        print(\"Addition of x and y using function declared inside the class : \", z)\n",
    "        \n",
    "    def subtraction(self):\n",
    "        x = 20\n",
    "        y = 20\n",
    "        z = x - y\n",
    "        print(\"Subtraction of x and y using function declared inside the class : \", z)\n",
    "        \n",
    "    def multiply(self):\n",
    "        x = 20\n",
    "        y = 20\n",
    "        z = x * y\n",
    "        print(\"Addition of x and y using function declared inside the class : \", z)\n"
   ]
  },
  {
   "cell_type": "code",
   "execution_count": 43,
   "id": "715df9a0-d5e2-49fc-a552-3a517fa8be2d",
   "metadata": {},
   "outputs": [
    {
     "name": "stdout",
     "output_type": "stream",
     "text": [
      "Addition of x and y using function declared inside the class :  40\n",
      "Subtraction of x and y using function declared inside the class :  0\n",
      "Addition of x and y using function declared inside the class :  400\n",
      "*****************\n",
      "Addition of x and y using function declared inside the class :  40\n"
     ]
    }
   ],
   "source": [
    "# call the methods/functions inside the class using objects\n",
    "# calling class demo 2 functions\n",
    "ao2 = ArithmaticOpDemo2()\n",
    "ao2.addition()\n",
    "ao2.subtraction()\n",
    "ao2.multiply()\n",
    "\n",
    "print(\"*****************\")\n",
    "#calling the functions of demo class one using objects\n",
    "ao1 = ArithmaticOp()\n",
    "ao1.addition()"
   ]
  },
  {
   "cell_type": "code",
   "execution_count": 44,
   "id": "6c1157de-b08a-4944-b4b9-0b6d1a55f935",
   "metadata": {},
   "outputs": [],
   "source": [
    "# class demo 03\n",
    "# declaring the class with Multiple functions with arguments\n",
    "class ArithmaticOpDemo3:\n",
    "    def addition(self,x,y):\n",
    "        z = x + y\n",
    "        print(\"Addition of x and y using function declared inside the class : \", z)\n",
    "        \n",
    "    def subtraction(self,x,y):\n",
    "        z = x - y\n",
    "        print(\"Subtraction of x and y using function declared inside the class : \", z)\n",
    "        \n",
    "    def multiply(self,x,y):\n",
    "        z = x * y\n",
    "        print(\"Addition of x and y using function declared inside the class : \", z)\n"
   ]
  },
  {
   "cell_type": "code",
   "execution_count": 45,
   "id": "623f5c9d-e3a1-44f7-9fcf-76516b165d50",
   "metadata": {},
   "outputs": [
    {
     "ename": "TypeError",
     "evalue": "ArithmaticOpDemo3.addition() missing 2 required positional arguments: 'x' and 'y'",
     "output_type": "error",
     "traceback": [
      "\u001b[1;31m---------------------------------------------------------------------------\u001b[0m",
      "\u001b[1;31mTypeError\u001b[0m                                 Traceback (most recent call last)",
      "Cell \u001b[1;32mIn[45], line 4\u001b[0m\n\u001b[0;32m      1\u001b[0m \u001b[38;5;66;03m# call the methods/functions inside the class using objects\u001b[39;00m\n\u001b[0;32m      2\u001b[0m \u001b[38;5;66;03m# calling class demo 2 functions\u001b[39;00m\n\u001b[0;32m      3\u001b[0m ao3 \u001b[38;5;241m=\u001b[39m ArithmaticOpDemo3()\n\u001b[1;32m----> 4\u001b[0m ao3\u001b[38;5;241m.\u001b[39maddition()\n\u001b[0;32m      5\u001b[0m ao3\u001b[38;5;241m.\u001b[39msubtraction()\n\u001b[0;32m      6\u001b[0m ao3\u001b[38;5;241m.\u001b[39mmultiply()\n",
      "\u001b[1;31mTypeError\u001b[0m: ArithmaticOpDemo3.addition() missing 2 required positional arguments: 'x' and 'y'"
     ]
    }
   ],
   "source": [
    "# call the methods/functions inside the class using objects\n",
    "# calling class demo 3 functions\n",
    "ao3 = ArithmaticOpDemo3()\n",
    "ao3.addition()\n",
    "ao3.subtraction()\n",
    "ao3.multiply()\n",
    "\n",
    "# to overcome the below error need to pass arguments "
   ]
  },
  {
   "cell_type": "code",
   "execution_count": 46,
   "id": "6cdbc5f2-1cb8-4d0e-a713-c9eb8ce4eb4f",
   "metadata": {},
   "outputs": [
    {
     "name": "stdout",
     "output_type": "stream",
     "text": [
      "Addition of x and y using function declared inside the class :  13\n",
      "Subtraction of x and y using function declared inside the class :  -2\n",
      "Addition of x and y using function declared inside the class :  4\n"
     ]
    }
   ],
   "source": [
    "# calling class demo 3 functions with arguments to overcome the above issues\n",
    "ao3 = ArithmaticOpDemo3()\n",
    "ao3.addition(12,1)\n",
    "ao3.subtraction(10,12)\n",
    "ao3.multiply(2,2)\n"
   ]
  },
  {
   "cell_type": "code",
   "execution_count": 53,
   "id": "42165cff-452e-404d-bf9e-5a41b5d9ff10",
   "metadata": {},
   "outputs": [
    {
     "name": "stdout",
     "output_type": "stream",
     "text": [
      "Welcome to Arithmatic Operation demo\n",
      "Addition of x and y using function declared inside the class :  30\n",
      "Subtraction of x and y using function declared inside the class :  -10\n",
      "Addition of x and y using function declared inside the class :  200\n",
      "****************\n",
      "Welcome to Arithmatic Operation demo\n",
      "Addition of x and y using function declared inside the class :  10\n",
      "Subtraction of x and y using function declared inside the class :  0\n",
      "Addition of x and y using function declared inside the class :  25\n"
     ]
    }
   ],
   "source": [
    "# class demo 04\n",
    "# using constructor\n",
    "\n",
    "# declaring the class with Multiple functions with arguments\n",
    "class ArithmaticOpDemo4:\n",
    "    def __init__(self,a,b):  # this is the constructor \n",
    "        print(\"Welcome to Arithmatic Operation demo\")\n",
    "        self.addition(a,b)\n",
    "        self.subtraction(a,b)\n",
    "        self.multiply(a,b)\n",
    "\n",
    "    \n",
    "    def addition(self,x,y):\n",
    "        z = x + y\n",
    "        print(\"Addition of x and y using function declared inside the class : \", z)\n",
    "        \n",
    "    def subtraction(self,x,y):\n",
    "        z = x - y\n",
    "        print(\"Subtraction of x and y using function declared inside the class : \", z)\n",
    "        \n",
    "    def multiply(self,x,y):\n",
    "        z = x * y\n",
    "        print(\"Addition of x and y using function declared inside the class : \", z)\n",
    "\n",
    "\n",
    "# initializing the class to the object\n",
    "\n",
    "aod4 = ArithmaticOpDemo4(10,20) \n",
    "# if given value inside class itself constrctor's statements in  \"__intit__()\" will be executed  \n",
    "print(\"****************\")\n",
    "aod4 = ArithmaticOpDemo4(5,5)"
   ]
  },
  {
   "cell_type": "code",
   "execution_count": 60,
   "id": "cd13cad3-6920-42b4-8c7d-b60e6c0f72be",
   "metadata": {},
   "outputs": [
    {
     "name": "stdout",
     "output_type": "stream",
     "text": [
      "Welcome to Arithmatic Operation demo\n",
      "Addition of x and y using function declared inside the class :  20\n",
      "Subtraction of x and y using function declared inside the class :  0\n",
      "Addition of x and y using function declared inside the class :  100\n",
      "****************\n"
     ]
    }
   ],
   "source": [
    "# class demo 05\n",
    "# using constructor\n",
    "\n",
    "# passing value to the constructor instead of each functions \n",
    "# previous demo 4 demostrated with functions with arugument example \"def addition(self, x,y)\" \n",
    "# but in this example arguments (a, b) will be passing through constructor and assigned the a, b values into x, y respectivly\n",
    "# declaring the class with Multiple functions with arguments\n",
    "class ArithmaticOpDemo5:\n",
    "    def __init__(self,a,b):  # this is the constructor \n",
    "        print(\"Welcome to Arithmatic Operation demo\")\n",
    "        self.x=a \n",
    "        self.y=b\n",
    "\n",
    "    \n",
    "    def addition(self):\n",
    "        z = x + y\n",
    "        print(\"Addition of x and y using function declared inside the class : \", z)\n",
    "        \n",
    "    def subtraction(self):\n",
    "        z = x - y\n",
    "        print(\"Subtraction of x and y using function declared inside the class : \", z)\n",
    "        \n",
    "    def multiply(self):\n",
    "        z = x * y\n",
    "        print(\"Addition of x and y using function declared inside the class : \", z)\n",
    "\n",
    "\n",
    "# initializing the class to the object\n",
    "\n",
    "aod4 = ArithmaticOpDemo5(10,20) \n",
    "aod4.addition()\n",
    "aod4.subtraction()\n",
    "aod4.multiply()\n",
    "# if we given value inside class itself constrctor's statements in  \"__intit__()\" will assign it to respective variables namely x and y  \n",
    "print(\"****************\")\n"
   ]
  },
  {
   "cell_type": "code",
   "execution_count": null,
   "id": "cfe5602e-d6c1-43c7-b709-6f363f4c06c6",
   "metadata": {},
   "outputs": [],
   "source": []
  }
 ],
 "metadata": {
  "kernelspec": {
   "display_name": "Python 3 (ipykernel)",
   "language": "python",
   "name": "python3"
  },
  "language_info": {
   "codemirror_mode": {
    "name": "ipython",
    "version": 3
   },
   "file_extension": ".py",
   "mimetype": "text/x-python",
   "name": "python",
   "nbconvert_exporter": "python",
   "pygments_lexer": "ipython3",
   "version": "3.11.7"
  }
 },
 "nbformat": 4,
 "nbformat_minor": 5
}
