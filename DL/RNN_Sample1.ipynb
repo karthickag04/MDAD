{
 "cells": [
  {
   "cell_type": "code",
   "execution_count": 1,
   "metadata": {},
   "outputs": [],
   "source": [
    "import numpy as np\n",
    "import tensorflow as tf\n",
    "import random\n",
    "\n",
    "from tensorflow.keras.preprocessing.text import Tokenizer\n",
    "from tensorflow.keras.preprocessing.sequence import pad_sequences\n",
    "from tensorflow.keras.models import Sequential\n",
    "from tensorflow.keras.layers import Embedding, LSTM, Dense\n",
    "from sklearn.model_selection import train_test_split\n"
   ]
  },
  {
   "cell_type": "code",
   "execution_count": 4,
   "metadata": {},
   "outputs": [
    {
     "data": {
      "text/html": [
       "<pre style=\"white-space:pre;overflow-x:auto;line-height:normal;font-family:Menlo,'DejaVu Sans Mono',consolas,'Courier New',monospace\"><span style=\"font-weight: bold\">Model: \"sequential_2\"</span>\n",
       "</pre>\n"
      ],
      "text/plain": [
       "\u001b[1mModel: \"sequential_2\"\u001b[0m\n"
      ]
     },
     "metadata": {},
     "output_type": "display_data"
    },
    {
     "data": {
      "text/html": [
       "<pre style=\"white-space:pre;overflow-x:auto;line-height:normal;font-family:Menlo,'DejaVu Sans Mono',consolas,'Courier New',monospace\">┏━━━━━━━━━━━━━━━━━━━━━━━━━━━━━━━━━┳━━━━━━━━━━━━━━━━━━━━━━━━┳━━━━━━━━━━━━━━━┓\n",
       "┃<span style=\"font-weight: bold\"> Layer (type)                    </span>┃<span style=\"font-weight: bold\"> Output Shape           </span>┃<span style=\"font-weight: bold\">       Param # </span>┃\n",
       "┡━━━━━━━━━━━━━━━━━━━━━━━━━━━━━━━━━╇━━━━━━━━━━━━━━━━━━━━━━━━╇━━━━━━━━━━━━━━━┩\n",
       "│ embedding_2 (<span style=\"color: #0087ff; text-decoration-color: #0087ff\">Embedding</span>)         │ ?                      │   <span style=\"color: #00af00; text-decoration-color: #00af00\">0</span> (unbuilt) │\n",
       "├─────────────────────────────────┼────────────────────────┼───────────────┤\n",
       "│ lstm_2 (<span style=\"color: #0087ff; text-decoration-color: #0087ff\">LSTM</span>)                   │ ?                      │   <span style=\"color: #00af00; text-decoration-color: #00af00\">0</span> (unbuilt) │\n",
       "├─────────────────────────────────┼────────────────────────┼───────────────┤\n",
       "│ dense_2 (<span style=\"color: #0087ff; text-decoration-color: #0087ff\">Dense</span>)                 │ ?                      │   <span style=\"color: #00af00; text-decoration-color: #00af00\">0</span> (unbuilt) │\n",
       "└─────────────────────────────────┴────────────────────────┴───────────────┘\n",
       "</pre>\n"
      ],
      "text/plain": [
       "┏━━━━━━━━━━━━━━━━━━━━━━━━━━━━━━━━━┳━━━━━━━━━━━━━━━━━━━━━━━━┳━━━━━━━━━━━━━━━┓\n",
       "┃\u001b[1m \u001b[0m\u001b[1mLayer (type)                   \u001b[0m\u001b[1m \u001b[0m┃\u001b[1m \u001b[0m\u001b[1mOutput Shape          \u001b[0m\u001b[1m \u001b[0m┃\u001b[1m \u001b[0m\u001b[1m      Param #\u001b[0m\u001b[1m \u001b[0m┃\n",
       "┡━━━━━━━━━━━━━━━━━━━━━━━━━━━━━━━━━╇━━━━━━━━━━━━━━━━━━━━━━━━╇━━━━━━━━━━━━━━━┩\n",
       "│ embedding_2 (\u001b[38;5;33mEmbedding\u001b[0m)         │ ?                      │   \u001b[38;5;34m0\u001b[0m (unbuilt) │\n",
       "├─────────────────────────────────┼────────────────────────┼───────────────┤\n",
       "│ lstm_2 (\u001b[38;5;33mLSTM\u001b[0m)                   │ ?                      │   \u001b[38;5;34m0\u001b[0m (unbuilt) │\n",
       "├─────────────────────────────────┼────────────────────────┼───────────────┤\n",
       "│ dense_2 (\u001b[38;5;33mDense\u001b[0m)                 │ ?                      │   \u001b[38;5;34m0\u001b[0m (unbuilt) │\n",
       "└─────────────────────────────────┴────────────────────────┴───────────────┘\n"
      ]
     },
     "metadata": {},
     "output_type": "display_data"
    },
    {
     "data": {
      "text/html": [
       "<pre style=\"white-space:pre;overflow-x:auto;line-height:normal;font-family:Menlo,'DejaVu Sans Mono',consolas,'Courier New',monospace\"><span style=\"font-weight: bold\"> Total params: </span><span style=\"color: #00af00; text-decoration-color: #00af00\">0</span> (0.00 B)\n",
       "</pre>\n"
      ],
      "text/plain": [
       "\u001b[1m Total params: \u001b[0m\u001b[38;5;34m0\u001b[0m (0.00 B)\n"
      ]
     },
     "metadata": {},
     "output_type": "display_data"
    },
    {
     "data": {
      "text/html": [
       "<pre style=\"white-space:pre;overflow-x:auto;line-height:normal;font-family:Menlo,'DejaVu Sans Mono',consolas,'Courier New',monospace\"><span style=\"font-weight: bold\"> Trainable params: </span><span style=\"color: #00af00; text-decoration-color: #00af00\">0</span> (0.00 B)\n",
       "</pre>\n"
      ],
      "text/plain": [
       "\u001b[1m Trainable params: \u001b[0m\u001b[38;5;34m0\u001b[0m (0.00 B)\n"
      ]
     },
     "metadata": {},
     "output_type": "display_data"
    },
    {
     "data": {
      "text/html": [
       "<pre style=\"white-space:pre;overflow-x:auto;line-height:normal;font-family:Menlo,'DejaVu Sans Mono',consolas,'Courier New',monospace\"><span style=\"font-weight: bold\"> Non-trainable params: </span><span style=\"color: #00af00; text-decoration-color: #00af00\">0</span> (0.00 B)\n",
       "</pre>\n"
      ],
      "text/plain": [
       "\u001b[1m Non-trainable params: \u001b[0m\u001b[38;5;34m0\u001b[0m (0.00 B)\n"
      ]
     },
     "metadata": {},
     "output_type": "display_data"
    },
    {
     "name": "stdout",
     "output_type": "stream",
     "text": [
      "Epoch 1/10\n",
      "6/6 - 4s - 659ms/step - accuracy: 0.5000 - loss: 0.6977 - val_accuracy: 0.7500 - val_loss: 0.6799\n",
      "Epoch 2/10\n",
      "6/6 - 1s - 114ms/step - accuracy: 0.5000 - loss: 0.6924 - val_accuracy: 0.7500 - val_loss: 0.6824\n",
      "Epoch 3/10\n",
      "6/6 - 0s - 25ms/step - accuracy: 0.5000 - loss: 0.6918 - val_accuracy: 0.7500 - val_loss: 0.6848\n",
      "Epoch 4/10\n",
      "6/6 - 0s - 33ms/step - accuracy: 0.5000 - loss: 0.6901 - val_accuracy: 0.7500 - val_loss: 0.6869\n",
      "Epoch 5/10\n",
      "6/6 - 0s - 25ms/step - accuracy: 0.5833 - loss: 0.6874 - val_accuracy: 0.7500 - val_loss: 0.6849\n",
      "Epoch 6/10\n",
      "6/6 - 0s - 33ms/step - accuracy: 0.6667 - loss: 0.6841 - val_accuracy: 0.7500 - val_loss: 0.6870\n",
      "Epoch 7/10\n",
      "6/6 - 0s - 30ms/step - accuracy: 0.9167 - loss: 0.6764 - val_accuracy: 0.7500 - val_loss: 0.6843\n",
      "Epoch 8/10\n",
      "6/6 - 0s - 25ms/step - accuracy: 0.8333 - loss: 0.6655 - val_accuracy: 0.7500 - val_loss: 0.6878\n",
      "Epoch 9/10\n",
      "6/6 - 0s - 28ms/step - accuracy: 0.9167 - loss: 0.6369 - val_accuracy: 0.7500 - val_loss: 0.6900\n",
      "Epoch 10/10\n",
      "6/6 - 0s - 30ms/step - accuracy: 0.9167 - loss: 0.5841 - val_accuracy: 0.7500 - val_loss: 0.6863\n",
      "\n",
      "Test Loss: 0.7315\n",
      "Test Accuracy: 0.2500\n",
      "\u001b[1m1/1\u001b[0m \u001b[32m━━━━━━━━━━━━━━━━━━━━\u001b[0m\u001b[37m\u001b[0m \u001b[1m0s\u001b[0m 285ms/step\n",
      "\n",
      "Predictions on new sentences:\n",
      "Text: i absolutely loved the film so amazing\n",
      "Predicted sentiment = Positive (score: 0.5423)\n",
      "\n",
      "Text: it was a terrible movie i regret watching\n",
      "Predicted sentiment = Negative (score: 0.4711)\n",
      "\n",
      "Text: wonderful storytelling but the acting was dull\n",
      "Predicted sentiment = Negative (score: 0.4210)\n",
      "\n"
     ]
    }
   ],
   "source": [
    "\n",
    "# ------------------------------------------------------\n",
    "# 1) Sample Toy Dataset (20 sentences, 10 pos, 10 neg)\n",
    "# ------------------------------------------------------\n",
    "positive_sentences = [\n",
    "    \"i love this movie it is wonderful\",\n",
    "    \"this film is amazing and i enjoyed it\",\n",
    "    \"great plot and superb acting loved it\",\n",
    "    \"highly recommended so good watch it\",\n",
    "    \"excellent storyline i really liked it\",\n",
    "    \"fantastic film i will watch again\",\n",
    "    \"outstanding movie had a nice time\",\n",
    "    \"lovely direction and wonderful script\",\n",
    "    \"truly awesome film i recommend it\",\n",
    "    \"incredible experience definitely positive\"\n",
    "]\n",
    "\n",
    "negative_sentences = [\n",
    "    \"this movie is terrible i hate it\",\n",
    "    \"boring film do not watch it again\",\n",
    "    \"i dislike the story it was dull\",\n",
    "    \"awful direction poor script overall\",\n",
    "    \"this was a waste of time and money\",\n",
    "    \"very bad film no redeeming features\",\n",
    "    \"not recommended the worst movie ever\",\n",
    "    \"horrible experience i left midway\",\n",
    "    \"completely disappointing never again\",\n",
    "    \"i really hated every part of this\"\n",
    "]\n",
    "\n",
    "all_sentences = positive_sentences + negative_sentences\n",
    "labels = np.array([1]*len(positive_sentences) + [0]*len(negative_sentences))  # 1=pos, 0=neg\n",
    "\n",
    "# ------------------------------------------------------\n",
    "# 2) Shuffle & Split the Data\n",
    "# ------------------------------------------------------\n",
    "# Combine text + labels, shuffle, then split\n",
    "combined = list(zip(all_sentences, labels))\n",
    "random.shuffle(combined)\n",
    "shuffled_sentences, shuffled_labels = zip(*combined)\n",
    "\n",
    "shuffled_sentences = np.array(shuffled_sentences)\n",
    "shuffled_labels = np.array(shuffled_labels)\n",
    "\n",
    "# Let's do an 80/20 split for train vs test\n",
    "train_sentences, test_sentences, train_labels, test_labels = train_test_split(\n",
    "    shuffled_sentences, shuffled_labels, \n",
    "    test_size=0.2, \n",
    "    random_state=42\n",
    ")\n",
    "\n",
    "# We'll further split out a validation set from the training data, 75/25\n",
    "train_sentences, val_sentences, train_labels, val_labels = train_test_split(\n",
    "    train_sentences, train_labels, \n",
    "    test_size=0.25,  # 0.25 of the training => 0.20 * 0.25 = total 5 test, 3 val, 12 train\n",
    "    random_state=42\n",
    ")\n",
    "\n",
    "# ------------------------------------------------------\n",
    "# 3) Tokenize & Pad Sequences\n",
    "# ------------------------------------------------------\n",
    "# Hyperparameters for tokenizing\n",
    "vocab_size = 500\n",
    "max_length = 10  # maximum words in a sequence\n",
    "\n",
    "tokenizer = Tokenizer(num_words=vocab_size, oov_token=\"<UNK>\")\n",
    "tokenizer.fit_on_texts(train_sentences)\n",
    "\n",
    "def tokenize_and_pad(texts, tokenizer, max_len):\n",
    "    seqs = tokenizer.texts_to_sequences(texts)\n",
    "    padded = pad_sequences(seqs, maxlen=max_len, padding='post', truncating='post')\n",
    "    return padded\n",
    "\n",
    "train_padded = tokenize_and_pad(train_sentences, tokenizer, max_length)\n",
    "val_padded   = tokenize_and_pad(val_sentences,   tokenizer, max_length)\n",
    "test_padded  = tokenize_and_pad(test_sentences,  tokenizer, max_length)\n",
    "\n",
    "# ------------------------------------------------------\n",
    "# 4) Build the LSTM Model\n",
    "# ------------------------------------------------------\n",
    "embedding_dim = 16\n",
    "model = Sequential([\n",
    "    Embedding(input_dim=vocab_size, \n",
    "              output_dim=embedding_dim, \n",
    "              input_length=max_length),\n",
    "    LSTM(32),  # You can change the LSTM units to experiment\n",
    "    Dense(1, activation='sigmoid')\n",
    "])\n",
    "\n",
    "model.compile(optimizer='adam', loss='binary_crossentropy', metrics=['accuracy'])\n",
    "model.summary()\n",
    "\n",
    "# ------------------------------------------------------\n",
    "# 5) Train the Model\n",
    "# ------------------------------------------------------\n",
    "epochs = 10\n",
    "history = model.fit(\n",
    "    train_padded, \n",
    "    train_labels,\n",
    "    validation_data=(val_padded, val_labels),\n",
    "    epochs=epochs,\n",
    "    batch_size=2,  # small batch_size for demonstration\n",
    "    verbose=2\n",
    ")\n",
    "\n",
    "# ------------------------------------------------------\n",
    "# 6) Evaluate on Test Data\n",
    "# ------------------------------------------------------\n",
    "loss, accuracy = model.evaluate(test_padded, test_labels, verbose=0)\n",
    "print(f\"\\nTest Loss: {loss:.4f}\")\n",
    "print(f\"Test Accuracy: {accuracy:.4f}\")\n",
    "\n",
    "# ------------------------------------------------------\n",
    "# 7) Make Predictions\n",
    "# ------------------------------------------------------\n",
    "new_texts = [\n",
    "    \"i absolutely loved the film so amazing\",\n",
    "    \"it was a terrible movie i regret watching\",\n",
    "    \"wonderful storytelling but the acting was dull\"\n",
    "]\n",
    "new_padded = tokenize_and_pad(new_texts, tokenizer, max_length)\n",
    "\n",
    "predictions = model.predict(new_padded)\n",
    "print(\"\\nPredictions on new sentences:\")\n",
    "for text, pred in zip(new_texts, predictions):\n",
    "    sentiment = \"Positive\" if pred[0] > 0.5 else \"Negative\"\n",
    "    print(f\"Text: {text}\")\n",
    "    print(f\"Predicted sentiment = {sentiment} (score: {pred[0]:.4f})\\n\")\n"
   ]
  }
 ],
 "metadata": {
  "kernelspec": {
   "display_name": "text_env",
   "language": "python",
   "name": "python3"
  },
  "language_info": {
   "codemirror_mode": {
    "name": "ipython",
    "version": 3
   },
   "file_extension": ".py",
   "mimetype": "text/x-python",
   "name": "python",
   "nbconvert_exporter": "python",
   "pygments_lexer": "ipython3",
   "version": "3.9.20"
  }
 },
 "nbformat": 4,
 "nbformat_minor": 2
}
