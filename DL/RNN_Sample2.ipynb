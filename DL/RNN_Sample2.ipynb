{
 "cells": [
  {
   "cell_type": "code",
   "execution_count": 14,
   "metadata": {},
   "outputs": [],
   "source": [
    "import numpy as np\n",
    "import tensorflow as tf\n",
    "import random\n",
    "\n",
    "from tensorflow.keras.preprocessing.text import Tokenizer\n",
    "from tensorflow.keras.preprocessing.sequence import pad_sequences\n",
    "from tensorflow.keras.models import Sequential\n",
    "from tensorflow.keras.layers import Embedding, LSTM, Dense\n",
    "from sklearn.model_selection import train_test_split\n"
   ]
  },
  {
   "cell_type": "code",
   "execution_count": 37,
   "metadata": {},
   "outputs": [],
   "source": [
    "\n",
    "# ------------------------------------------------------\n",
    "# 1) Sample Toy Dataset (20 sentences, 10 pos, 10 neg)\n",
    "# ------------------------------------------------------\n",
    "positive_sentences = [\n",
    "    \"i love this movie it is wonderful\",\n",
    "    \"this film is amazing and i enjoyed it\",\n",
    "    \"great plot and superb acting loved it\",\n",
    "    \"highly recommended so good watch it\",\n",
    "    \"excellent storyline i really liked it\",\n",
    "    \"fantastic film i will watch again\",\n",
    "    \"outstanding movie had a nice time\",\n",
    "    \"lovely direction and wonderful script\",\n",
    "    \"truly awesome film i recommend it\",\n",
    "    \"incredible experience definitely positive\"\n",
    "]\n",
    "\n",
    "negative_sentences = [\n",
    "    \"this movie is terrible i hate it\",\n",
    "    \"boring film do not watch it again\",\n",
    "    \"i dislike the story it was dull\",\n",
    "    \"awful direction poor script overall\",\n",
    "    \"this was a waste of time and money\",\n",
    "    \"very bad film no redeeming features\",\n",
    "    \"not recommended the worst movie ever\",\n",
    "    \"horrible experience i left midway\",\n",
    "    \"completely disappointing never again\",\n",
    "    \"i really hated every part of this\"\n",
    "]\n",
    "\n",
    "all_sentences = positive_sentences + negative_sentences\n",
    "labels = np.array([1]*len(positive_sentences) + [0]*len(negative_sentences))  # 1=pos, 0=neg\n"
   ]
  },
  {
   "cell_type": "code",
   "execution_count": 38,
   "metadata": {},
   "outputs": [],
   "source": [
    "\n",
    "# ------------------------------------------------------\n",
    "# 2) Shuffle & Split the Data\n",
    "# ------------------------------------------------------\n",
    "# Combine text + labels, shuffle, then split\n",
    "combined = list(zip(all_sentences, labels))\n",
    "random.shuffle(combined)\n",
    "shuffled_sentences, shuffled_labels = zip(*combined)\n",
    "\n",
    "shuffled_sentences = np.array(shuffled_sentences)\n",
    "shuffled_labels = np.array(shuffled_labels)\n"
   ]
  },
  {
   "cell_type": "code",
   "execution_count": 39,
   "metadata": {},
   "outputs": [],
   "source": [
    "\n",
    "# Let's do an 80/20 split for train vs test\n",
    "train_sentences, test_sentences, train_labels, test_labels = train_test_split(\n",
    "    shuffled_sentences, shuffled_labels, \n",
    "    test_size=0.2, \n",
    "    random_state=42\n",
    ")\n",
    "\n",
    "# We'll further split out a validation set from the training data, 75/25\n",
    "train_sentences, val_sentences, train_labels, val_labels = train_test_split(\n",
    "    train_sentences, train_labels, \n",
    "    test_size=0.25,  # 0.25 of the training => 0.20 * 0.25 = total 5 test, 3 val, 12 train\n",
    "    random_state=42\n",
    ")"
   ]
  },
  {
   "cell_type": "code",
   "execution_count": 31,
   "metadata": {},
   "outputs": [
    {
     "name": "stdout",
     "output_type": "stream",
     "text": [
      "Found 'terrible' in training: this movie is terrible i hate it\n"
     ]
    }
   ],
   "source": [
    "for sent in train_sentences:\n",
    "    if \"terrible\" in sent:\n",
    "        print(\"Found 'terrible' in training:\", sent)\n"
   ]
  },
  {
   "cell_type": "code",
   "execution_count": 32,
   "metadata": {},
   "outputs": [],
   "source": [
    "\n",
    "\n",
    "# ------------------------------------------------------\n",
    "# 3) Tokenize & Pad Sequences\n",
    "# ------------------------------------------------------\n",
    "# Hyperparameters for tokenizing\n",
    "vocab_size = 2000\n",
    "max_length = 10  # maximum words in a sequence\n",
    "\n",
    "tokenizer = Tokenizer(num_words=vocab_size, oov_token=\"<UNK>\")\n",
    "tokenizer.fit_on_texts(train_sentences)\n",
    "\n",
    "def tokenize_and_pad(texts, tokenizer, max_len):\n",
    "    seqs = tokenizer.texts_to_sequences(texts)\n",
    "    padded = pad_sequences(seqs, maxlen=max_len, padding='post', truncating='post')\n",
    "    return padded\n",
    "\n",
    "train_padded = tokenize_and_pad(train_sentences, tokenizer, max_length)\n",
    "val_padded   = tokenize_and_pad(val_sentences,   tokenizer, max_length)\n",
    "test_padded  = tokenize_and_pad(test_sentences,  tokenizer, max_length)\n"
   ]
  },
  {
   "cell_type": "code",
   "execution_count": 33,
   "metadata": {},
   "outputs": [
    {
     "data": {
      "text/html": [
       "<pre style=\"white-space:pre;overflow-x:auto;line-height:normal;font-family:Menlo,'DejaVu Sans Mono',consolas,'Courier New',monospace\"><span style=\"font-weight: bold\">Model: \"sequential_5\"</span>\n",
       "</pre>\n"
      ],
      "text/plain": [
       "\u001b[1mModel: \"sequential_5\"\u001b[0m\n"
      ]
     },
     "metadata": {},
     "output_type": "display_data"
    },
    {
     "data": {
      "text/html": [
       "<pre style=\"white-space:pre;overflow-x:auto;line-height:normal;font-family:Menlo,'DejaVu Sans Mono',consolas,'Courier New',monospace\">┏━━━━━━━━━━━━━━━━━━━━━━━━━━━━━━━━━┳━━━━━━━━━━━━━━━━━━━━━━━━┳━━━━━━━━━━━━━━━┓\n",
       "┃<span style=\"font-weight: bold\"> Layer (type)                    </span>┃<span style=\"font-weight: bold\"> Output Shape           </span>┃<span style=\"font-weight: bold\">       Param # </span>┃\n",
       "┡━━━━━━━━━━━━━━━━━━━━━━━━━━━━━━━━━╇━━━━━━━━━━━━━━━━━━━━━━━━╇━━━━━━━━━━━━━━━┩\n",
       "│ embedding_5 (<span style=\"color: #0087ff; text-decoration-color: #0087ff\">Embedding</span>)         │ ?                      │   <span style=\"color: #00af00; text-decoration-color: #00af00\">0</span> (unbuilt) │\n",
       "├─────────────────────────────────┼────────────────────────┼───────────────┤\n",
       "│ lstm_5 (<span style=\"color: #0087ff; text-decoration-color: #0087ff\">LSTM</span>)                   │ ?                      │   <span style=\"color: #00af00; text-decoration-color: #00af00\">0</span> (unbuilt) │\n",
       "├─────────────────────────────────┼────────────────────────┼───────────────┤\n",
       "│ dense_5 (<span style=\"color: #0087ff; text-decoration-color: #0087ff\">Dense</span>)                 │ ?                      │   <span style=\"color: #00af00; text-decoration-color: #00af00\">0</span> (unbuilt) │\n",
       "└─────────────────────────────────┴────────────────────────┴───────────────┘\n",
       "</pre>\n"
      ],
      "text/plain": [
       "┏━━━━━━━━━━━━━━━━━━━━━━━━━━━━━━━━━┳━━━━━━━━━━━━━━━━━━━━━━━━┳━━━━━━━━━━━━━━━┓\n",
       "┃\u001b[1m \u001b[0m\u001b[1mLayer (type)                   \u001b[0m\u001b[1m \u001b[0m┃\u001b[1m \u001b[0m\u001b[1mOutput Shape          \u001b[0m\u001b[1m \u001b[0m┃\u001b[1m \u001b[0m\u001b[1m      Param #\u001b[0m\u001b[1m \u001b[0m┃\n",
       "┡━━━━━━━━━━━━━━━━━━━━━━━━━━━━━━━━━╇━━━━━━━━━━━━━━━━━━━━━━━━╇━━━━━━━━━━━━━━━┩\n",
       "│ embedding_5 (\u001b[38;5;33mEmbedding\u001b[0m)         │ ?                      │   \u001b[38;5;34m0\u001b[0m (unbuilt) │\n",
       "├─────────────────────────────────┼────────────────────────┼───────────────┤\n",
       "│ lstm_5 (\u001b[38;5;33mLSTM\u001b[0m)                   │ ?                      │   \u001b[38;5;34m0\u001b[0m (unbuilt) │\n",
       "├─────────────────────────────────┼────────────────────────┼───────────────┤\n",
       "│ dense_5 (\u001b[38;5;33mDense\u001b[0m)                 │ ?                      │   \u001b[38;5;34m0\u001b[0m (unbuilt) │\n",
       "└─────────────────────────────────┴────────────────────────┴───────────────┘\n"
      ]
     },
     "metadata": {},
     "output_type": "display_data"
    },
    {
     "data": {
      "text/html": [
       "<pre style=\"white-space:pre;overflow-x:auto;line-height:normal;font-family:Menlo,'DejaVu Sans Mono',consolas,'Courier New',monospace\"><span style=\"font-weight: bold\"> Total params: </span><span style=\"color: #00af00; text-decoration-color: #00af00\">0</span> (0.00 B)\n",
       "</pre>\n"
      ],
      "text/plain": [
       "\u001b[1m Total params: \u001b[0m\u001b[38;5;34m0\u001b[0m (0.00 B)\n"
      ]
     },
     "metadata": {},
     "output_type": "display_data"
    },
    {
     "data": {
      "text/html": [
       "<pre style=\"white-space:pre;overflow-x:auto;line-height:normal;font-family:Menlo,'DejaVu Sans Mono',consolas,'Courier New',monospace\"><span style=\"font-weight: bold\"> Trainable params: </span><span style=\"color: #00af00; text-decoration-color: #00af00\">0</span> (0.00 B)\n",
       "</pre>\n"
      ],
      "text/plain": [
       "\u001b[1m Trainable params: \u001b[0m\u001b[38;5;34m0\u001b[0m (0.00 B)\n"
      ]
     },
     "metadata": {},
     "output_type": "display_data"
    },
    {
     "data": {
      "text/html": [
       "<pre style=\"white-space:pre;overflow-x:auto;line-height:normal;font-family:Menlo,'DejaVu Sans Mono',consolas,'Courier New',monospace\"><span style=\"font-weight: bold\"> Non-trainable params: </span><span style=\"color: #00af00; text-decoration-color: #00af00\">0</span> (0.00 B)\n",
       "</pre>\n"
      ],
      "text/plain": [
       "\u001b[1m Non-trainable params: \u001b[0m\u001b[38;5;34m0\u001b[0m (0.00 B)\n"
      ]
     },
     "metadata": {},
     "output_type": "display_data"
    }
   ],
   "source": [
    "\n",
    "# ------------------------------------------------------\n",
    "# 4) Build the LSTM Model\n",
    "# ------------------------------------------------------\n",
    "embedding_dim = 16\n",
    "model = Sequential([\n",
    "    Embedding(input_dim=vocab_size, \n",
    "              output_dim=embedding_dim, \n",
    "              input_length=max_length),\n",
    "    LSTM(64),  # You can change the LSTM units to experiment\n",
    "    Dense(1, activation='sigmoid')\n",
    "])\n",
    "\n",
    "model.compile(optimizer='adam', loss='binary_crossentropy', metrics=['accuracy'])\n",
    "model.summary()\n"
   ]
  },
  {
   "cell_type": "code",
   "execution_count": 34,
   "metadata": {},
   "outputs": [
    {
     "name": "stdout",
     "output_type": "stream",
     "text": [
      "Epoch 1/30\n",
      "6/6 - 4s - 605ms/step - accuracy: 0.6667 - loss: 0.6886 - val_accuracy: 0.2500 - val_loss: 0.7119\n",
      "Epoch 2/30\n",
      "6/6 - 0s - 25ms/step - accuracy: 0.6667 - loss: 0.6807 - val_accuracy: 0.2500 - val_loss: 0.7257\n",
      "Epoch 3/30\n",
      "6/6 - 0s - 26ms/step - accuracy: 0.6667 - loss: 0.6686 - val_accuracy: 0.2500 - val_loss: 0.7370\n",
      "Epoch 4/30\n",
      "6/6 - 0s - 26ms/step - accuracy: 0.6667 - loss: 0.6627 - val_accuracy: 0.2500 - val_loss: 0.7586\n",
      "Epoch 5/30\n",
      "6/6 - 0s - 26ms/step - accuracy: 0.6667 - loss: 0.6430 - val_accuracy: 0.2500 - val_loss: 0.7744\n",
      "Epoch 6/30\n",
      "6/6 - 0s - 26ms/step - accuracy: 0.6667 - loss: 0.6399 - val_accuracy: 0.2500 - val_loss: 0.8217\n",
      "Epoch 7/30\n",
      "6/6 - 0s - 32ms/step - accuracy: 0.6667 - loss: 0.6064 - val_accuracy: 0.2500 - val_loss: 0.8692\n",
      "Epoch 8/30\n",
      "6/6 - 0s - 30ms/step - accuracy: 0.6667 - loss: 0.5706 - val_accuracy: 0.2500 - val_loss: 0.9110\n",
      "Epoch 9/30\n",
      "6/6 - 0s - 25ms/step - accuracy: 0.6667 - loss: 0.5493 - val_accuracy: 0.2500 - val_loss: 1.1066\n",
      "Epoch 10/30\n",
      "6/6 - 0s - 31ms/step - accuracy: 0.6667 - loss: 0.4761 - val_accuracy: 0.2500 - val_loss: 1.1372\n",
      "Epoch 11/30\n",
      "6/6 - 0s - 29ms/step - accuracy: 0.7500 - loss: 0.3671 - val_accuracy: 0.2500 - val_loss: 0.9825\n",
      "Epoch 12/30\n",
      "6/6 - 0s - 26ms/step - accuracy: 0.8333 - loss: 0.2619 - val_accuracy: 0.2500 - val_loss: 0.8523\n",
      "Epoch 13/30\n",
      "6/6 - 0s - 26ms/step - accuracy: 1.0000 - loss: 0.1747 - val_accuracy: 0.2500 - val_loss: 0.7425\n",
      "Epoch 14/30\n",
      "6/6 - 0s - 27ms/step - accuracy: 1.0000 - loss: 0.1220 - val_accuracy: 0.5000 - val_loss: 0.6357\n",
      "Epoch 15/30\n",
      "6/6 - 0s - 25ms/step - accuracy: 1.0000 - loss: 0.0944 - val_accuracy: 0.7500 - val_loss: 0.4839\n",
      "Epoch 16/30\n",
      "6/6 - 0s - 35ms/step - accuracy: 1.0000 - loss: 0.0665 - val_accuracy: 1.0000 - val_loss: 0.3724\n",
      "Epoch 17/30\n",
      "6/6 - 0s - 50ms/step - accuracy: 1.0000 - loss: 0.0482 - val_accuracy: 1.0000 - val_loss: 0.2977\n",
      "Epoch 18/30\n",
      "6/6 - 0s - 26ms/step - accuracy: 1.0000 - loss: 0.0380 - val_accuracy: 1.0000 - val_loss: 0.2388\n",
      "Epoch 19/30\n",
      "6/6 - 0s - 33ms/step - accuracy: 1.0000 - loss: 0.0293 - val_accuracy: 1.0000 - val_loss: 0.1903\n",
      "Epoch 20/30\n",
      "6/6 - 0s - 27ms/step - accuracy: 1.0000 - loss: 0.0190 - val_accuracy: 1.0000 - val_loss: 0.1596\n",
      "Epoch 21/30\n",
      "6/6 - 0s - 26ms/step - accuracy: 1.0000 - loss: 0.0139 - val_accuracy: 1.0000 - val_loss: 0.1354\n",
      "Epoch 22/30\n",
      "6/6 - 0s - 26ms/step - accuracy: 1.0000 - loss: 0.0094 - val_accuracy: 1.0000 - val_loss: 0.1192\n",
      "Epoch 23/30\n",
      "6/6 - 0s - 25ms/step - accuracy: 1.0000 - loss: 0.0071 - val_accuracy: 1.0000 - val_loss: 0.1061\n",
      "Epoch 24/30\n",
      "6/6 - 0s - 26ms/step - accuracy: 1.0000 - loss: 0.0055 - val_accuracy: 1.0000 - val_loss: 0.0968\n",
      "Epoch 25/30\n",
      "6/6 - 0s - 25ms/step - accuracy: 1.0000 - loss: 0.0044 - val_accuracy: 1.0000 - val_loss: 0.0876\n",
      "Epoch 26/30\n",
      "6/6 - 0s - 34ms/step - accuracy: 1.0000 - loss: 0.0035 - val_accuracy: 1.0000 - val_loss: 0.0846\n",
      "Epoch 27/30\n",
      "6/6 - 0s - 70ms/step - accuracy: 1.0000 - loss: 0.0031 - val_accuracy: 1.0000 - val_loss: 0.0821\n",
      "Epoch 28/30\n",
      "6/6 - 0s - 57ms/step - accuracy: 1.0000 - loss: 0.0027 - val_accuracy: 1.0000 - val_loss: 0.0800\n",
      "Epoch 29/30\n",
      "6/6 - 0s - 27ms/step - accuracy: 1.0000 - loss: 0.0024 - val_accuracy: 1.0000 - val_loss: 0.0786\n",
      "Epoch 30/30\n",
      "6/6 - 0s - 33ms/step - accuracy: 1.0000 - loss: 0.0022 - val_accuracy: 1.0000 - val_loss: 0.0785\n"
     ]
    }
   ],
   "source": [
    "\n",
    "# ------------------------------------------------------\n",
    "# 5) Train the Model\n",
    "# ------------------------------------------------------\n",
    "epochs = 30\n",
    "history = model.fit(\n",
    "    train_padded, \n",
    "    train_labels,\n",
    "    validation_data=(val_padded, val_labels),\n",
    "    epochs=epochs,\n",
    "    batch_size=2,  # small batch_size for demonstration\n",
    "    verbose=2\n",
    ")\n"
   ]
  },
  {
   "cell_type": "code",
   "execution_count": 35,
   "metadata": {},
   "outputs": [
    {
     "name": "stdout",
     "output_type": "stream",
     "text": [
      "\n",
      "Test Loss: 2.7199\n",
      "Test Accuracy: 0.5000\n"
     ]
    }
   ],
   "source": [
    "\n",
    "# ------------------------------------------------------\n",
    "# 6) Evaluate on Test Data\n",
    "# ------------------------------------------------------\n",
    "loss, accuracy = model.evaluate(test_padded, test_labels, verbose=0)\n",
    "print(f\"\\nTest Loss: {loss:.4f}\")\n",
    "print(f\"Test Accuracy: {accuracy:.4f}\")\n"
   ]
  },
  {
   "cell_type": "code",
   "execution_count": 36,
   "metadata": {},
   "outputs": [
    {
     "name": "stdout",
     "output_type": "stream",
     "text": [
      "WARNING:tensorflow:6 out of the last 7 calls to <function TensorFlowTrainer.make_predict_function.<locals>.one_step_on_data_distributed at 0x00000209A80E9E50> triggered tf.function retracing. Tracing is expensive and the excessive number of tracings could be due to (1) creating @tf.function repeatedly in a loop, (2) passing tensors with different shapes, (3) passing Python objects instead of tensors. For (1), please define your @tf.function outside of the loop. For (2), @tf.function has reduce_retracing=True option that can avoid unnecessary retracing. For (3), please refer to https://www.tensorflow.org/guide/function#controlling_retracing and https://www.tensorflow.org/api_docs/python/tf/function for  more details.\n",
      "\u001b[1m1/1\u001b[0m \u001b[32m━━━━━━━━━━━━━━━━━━━━\u001b[0m\u001b[37m\u001b[0m \u001b[1m0s\u001b[0m 309ms/step\n",
      "\n",
      "Predictions on new sentences:\n",
      "Text: i absolutely loved the film so amazing\n",
      "Predicted sentiment = Positive (score: 0.9874)\n",
      "\n",
      "Text: it was a terrible movie i regret watching\n",
      "Predicted sentiment = Negative (score: 0.0121)\n",
      "\n",
      "Text: wonderful storytelling but the acting was dull\n",
      "Predicted sentiment = Positive (score: 0.9974)\n",
      "\n"
     ]
    }
   ],
   "source": [
    "\n",
    "# ------------------------------------------------------\n",
    "# 7) Make Predictions\n",
    "# ------------------------------------------------------\n",
    "new_texts = [\n",
    "    \"i absolutely loved the film so amazing\",\n",
    "    \"it was a terrible movie i regret watching\",\n",
    "    \"wonderful storytelling but the acting was dull\"\n",
    "]\n",
    "new_padded = tokenize_and_pad(new_texts, tokenizer, max_length)\n",
    "\n",
    "predictions = model.predict(new_padded)\n",
    "print(\"\\nPredictions on new sentences:\")\n",
    "for text, pred in zip(new_texts, predictions):\n",
    "    sentiment = \"Positive\" if pred[0] > 0.5 else \"Negative\"\n",
    "    print(f\"Text: {text}\")\n",
    "    print(f\"Predicted sentiment = {sentiment} (score: {pred[0]:.4f})\\n\")\n"
   ]
  },
  {
   "cell_type": "code",
   "execution_count": 25,
   "metadata": {},
   "outputs": [
    {
     "name": "stdout",
     "output_type": "stream",
     "text": [
      "{'<UNK>': 1, 'i': 2, 'it': 3, 'this': 4, 'film': 5, 'and': 6, 'recommended': 7, 'the': 8, 'movie': 9, 'watch': 10, 'wonderful': 11, 'really': 12, 'is': 13, 'was': 14, 'of': 15, 'not': 16, 'worst': 17, 'ever': 18, 'truly': 19, 'awesome': 20, 'recommend': 21, 'highly': 22, 'so': 23, 'good': 24, 'fantastic': 25, 'will': 26, 'again': 27, 'lovely': 28, 'direction': 29, 'script': 30, 'excellent': 31, 'storyline': 32, 'liked': 33, 'love': 34, 'a': 35, 'waste': 36, 'time': 37, 'money': 38, 'dislike': 39, 'story': 40, 'dull': 41, 'horrible': 42, 'experience': 43, 'left': 44, 'midway': 45, 'hated': 46, 'every': 47, 'part': 48, 'amazing': 49, 'enjoyed': 50}\n"
     ]
    }
   ],
   "source": [
    "print(tokenizer.word_index)\n"
   ]
  }
 ],
 "metadata": {
  "kernelspec": {
   "display_name": "text_env",
   "language": "python",
   "name": "python3"
  },
  "language_info": {
   "codemirror_mode": {
    "name": "ipython",
    "version": 3
   },
   "file_extension": ".py",
   "mimetype": "text/x-python",
   "name": "python",
   "nbconvert_exporter": "python",
   "pygments_lexer": "ipython3",
   "version": "3.9.20"
  }
 },
 "nbformat": 4,
 "nbformat_minor": 2
}
