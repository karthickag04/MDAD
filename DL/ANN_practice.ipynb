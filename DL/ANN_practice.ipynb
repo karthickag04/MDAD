{
 "cells": [
  {
   "cell_type": "code",
   "execution_count": 1,
   "metadata": {},
   "outputs": [
    {
     "name": "stdout",
     "output_type": "stream",
     "text": [
      "Requirement already satisfied: pandas in c:\\users\\dell\\.conda\\envs\\text_env\\lib\\site-packages (2.2.3)\n",
      "Requirement already satisfied: numpy in c:\\users\\dell\\.conda\\envs\\text_env\\lib\\site-packages (2.0.2)\n",
      "Requirement already satisfied: scikit-learn in c:\\users\\dell\\.conda\\envs\\text_env\\lib\\site-packages (1.6.0)\n",
      "Requirement already satisfied: tensorflow in c:\\users\\dell\\.conda\\envs\\text_env\\lib\\site-packages (2.18.0)\n",
      "Requirement already satisfied: python-dateutil>=2.8.2 in c:\\users\\dell\\.conda\\envs\\text_env\\lib\\site-packages (from pandas) (2.9.0.post0)\n",
      "Requirement already satisfied: pytz>=2020.1 in c:\\users\\dell\\.conda\\envs\\text_env\\lib\\site-packages (from pandas) (2024.2)\n",
      "Requirement already satisfied: tzdata>=2022.7 in c:\\users\\dell\\.conda\\envs\\text_env\\lib\\site-packages (from pandas) (2024.2)\n",
      "Requirement already satisfied: scipy>=1.6.0 in c:\\users\\dell\\.conda\\envs\\text_env\\lib\\site-packages (from scikit-learn) (1.13.1)\n",
      "Requirement already satisfied: joblib>=1.2.0 in c:\\users\\dell\\.conda\\envs\\text_env\\lib\\site-packages (from scikit-learn) (1.4.2)\n",
      "Requirement already satisfied: threadpoolctl>=3.1.0 in c:\\users\\dell\\.conda\\envs\\text_env\\lib\\site-packages (from scikit-learn) (3.5.0)\n",
      "Requirement already satisfied: tensorflow-intel==2.18.0 in c:\\users\\dell\\.conda\\envs\\text_env\\lib\\site-packages (from tensorflow) (2.18.0)\n",
      "Requirement already satisfied: absl-py>=1.0.0 in c:\\users\\dell\\.conda\\envs\\text_env\\lib\\site-packages (from tensorflow-intel==2.18.0->tensorflow) (2.1.0)\n",
      "Requirement already satisfied: astunparse>=1.6.0 in c:\\users\\dell\\.conda\\envs\\text_env\\lib\\site-packages (from tensorflow-intel==2.18.0->tensorflow) (1.6.3)\n",
      "Requirement already satisfied: flatbuffers>=24.3.25 in c:\\users\\dell\\.conda\\envs\\text_env\\lib\\site-packages (from tensorflow-intel==2.18.0->tensorflow) (24.12.23)\n",
      "Requirement already satisfied: gast!=0.5.0,!=0.5.1,!=0.5.2,>=0.2.1 in c:\\users\\dell\\.conda\\envs\\text_env\\lib\\site-packages (from tensorflow-intel==2.18.0->tensorflow) (0.6.0)\n",
      "Requirement already satisfied: google-pasta>=0.1.1 in c:\\users\\dell\\.conda\\envs\\text_env\\lib\\site-packages (from tensorflow-intel==2.18.0->tensorflow) (0.2.0)\n",
      "Requirement already satisfied: libclang>=13.0.0 in c:\\users\\dell\\.conda\\envs\\text_env\\lib\\site-packages (from tensorflow-intel==2.18.0->tensorflow) (18.1.1)\n",
      "Requirement already satisfied: opt-einsum>=2.3.2 in c:\\users\\dell\\.conda\\envs\\text_env\\lib\\site-packages (from tensorflow-intel==2.18.0->tensorflow) (3.4.0)\n",
      "Requirement already satisfied: packaging in c:\\users\\dell\\.conda\\envs\\text_env\\lib\\site-packages (from tensorflow-intel==2.18.0->tensorflow) (24.2)\n",
      "Requirement already satisfied: protobuf!=4.21.0,!=4.21.1,!=4.21.2,!=4.21.3,!=4.21.4,!=4.21.5,<6.0.0dev,>=3.20.3 in c:\\users\\dell\\.conda\\envs\\text_env\\lib\\site-packages (from tensorflow-intel==2.18.0->tensorflow) (5.29.2)\n",
      "Requirement already satisfied: requests<3,>=2.21.0 in c:\\users\\dell\\.conda\\envs\\text_env\\lib\\site-packages (from tensorflow-intel==2.18.0->tensorflow) (2.32.3)\n",
      "Requirement already satisfied: setuptools in c:\\users\\dell\\.conda\\envs\\text_env\\lib\\site-packages (from tensorflow-intel==2.18.0->tensorflow) (75.1.0)\n",
      "Requirement already satisfied: six>=1.12.0 in c:\\users\\dell\\.conda\\envs\\text_env\\lib\\site-packages (from tensorflow-intel==2.18.0->tensorflow) (1.16.0)\n",
      "Requirement already satisfied: termcolor>=1.1.0 in c:\\users\\dell\\.conda\\envs\\text_env\\lib\\site-packages (from tensorflow-intel==2.18.0->tensorflow) (2.5.0)\n",
      "Requirement already satisfied: typing-extensions>=3.6.6 in c:\\users\\dell\\.conda\\envs\\text_env\\lib\\site-packages (from tensorflow-intel==2.18.0->tensorflow) (4.12.2)\n",
      "Requirement already satisfied: wrapt>=1.11.0 in c:\\users\\dell\\.conda\\envs\\text_env\\lib\\site-packages (from tensorflow-intel==2.18.0->tensorflow) (1.16.0)\n",
      "Requirement already satisfied: grpcio<2.0,>=1.24.3 in c:\\users\\dell\\.conda\\envs\\text_env\\lib\\site-packages (from tensorflow-intel==2.18.0->tensorflow) (1.68.1)\n",
      "Requirement already satisfied: tensorboard<2.19,>=2.18 in c:\\users\\dell\\.conda\\envs\\text_env\\lib\\site-packages (from tensorflow-intel==2.18.0->tensorflow) (2.18.0)\n",
      "Requirement already satisfied: keras>=3.5.0 in c:\\users\\dell\\.conda\\envs\\text_env\\lib\\site-packages (from tensorflow-intel==2.18.0->tensorflow) (3.7.0)\n",
      "Requirement already satisfied: h5py>=3.11.0 in c:\\users\\dell\\.conda\\envs\\text_env\\lib\\site-packages (from tensorflow-intel==2.18.0->tensorflow) (3.12.1)\n",
      "Requirement already satisfied: ml-dtypes<0.5.0,>=0.4.0 in c:\\users\\dell\\.conda\\envs\\text_env\\lib\\site-packages (from tensorflow-intel==2.18.0->tensorflow) (0.4.1)\n",
      "Requirement already satisfied: tensorflow-io-gcs-filesystem>=0.23.1 in c:\\users\\dell\\.conda\\envs\\text_env\\lib\\site-packages (from tensorflow-intel==2.18.0->tensorflow) (0.31.0)\n",
      "Requirement already satisfied: wheel<1.0,>=0.23.0 in c:\\users\\dell\\.conda\\envs\\text_env\\lib\\site-packages (from astunparse>=1.6.0->tensorflow-intel==2.18.0->tensorflow) (0.44.0)\n",
      "Requirement already satisfied: rich in c:\\users\\dell\\.conda\\envs\\text_env\\lib\\site-packages (from keras>=3.5.0->tensorflow-intel==2.18.0->tensorflow) (13.9.4)\n",
      "Requirement already satisfied: namex in c:\\users\\dell\\.conda\\envs\\text_env\\lib\\site-packages (from keras>=3.5.0->tensorflow-intel==2.18.0->tensorflow) (0.0.8)\n",
      "Requirement already satisfied: optree in c:\\users\\dell\\.conda\\envs\\text_env\\lib\\site-packages (from keras>=3.5.0->tensorflow-intel==2.18.0->tensorflow) (0.13.1)\n",
      "Requirement already satisfied: charset-normalizer<4,>=2 in c:\\users\\dell\\.conda\\envs\\text_env\\lib\\site-packages (from requests<3,>=2.21.0->tensorflow-intel==2.18.0->tensorflow) (3.4.0)\n",
      "Requirement already satisfied: idna<4,>=2.5 in c:\\users\\dell\\.conda\\envs\\text_env\\lib\\site-packages (from requests<3,>=2.21.0->tensorflow-intel==2.18.0->tensorflow) (3.10)\n",
      "Requirement already satisfied: urllib3<3,>=1.21.1 in c:\\users\\dell\\.conda\\envs\\text_env\\lib\\site-packages (from requests<3,>=2.21.0->tensorflow-intel==2.18.0->tensorflow) (2.2.3)\n",
      "Requirement already satisfied: certifi>=2017.4.17 in c:\\users\\dell\\.conda\\envs\\text_env\\lib\\site-packages (from requests<3,>=2.21.0->tensorflow-intel==2.18.0->tensorflow) (2024.8.30)\n",
      "Requirement already satisfied: markdown>=2.6.8 in c:\\users\\dell\\.conda\\envs\\text_env\\lib\\site-packages (from tensorboard<2.19,>=2.18->tensorflow-intel==2.18.0->tensorflow) (3.7)\n",
      "Requirement already satisfied: tensorboard-data-server<0.8.0,>=0.7.0 in c:\\users\\dell\\.conda\\envs\\text_env\\lib\\site-packages (from tensorboard<2.19,>=2.18->tensorflow-intel==2.18.0->tensorflow) (0.7.2)\n",
      "Requirement already satisfied: werkzeug>=1.0.1 in c:\\users\\dell\\.conda\\envs\\text_env\\lib\\site-packages (from tensorboard<2.19,>=2.18->tensorflow-intel==2.18.0->tensorflow) (3.1.3)\n",
      "Requirement already satisfied: importlib-metadata>=4.4 in c:\\users\\dell\\.conda\\envs\\text_env\\lib\\site-packages (from markdown>=2.6.8->tensorboard<2.19,>=2.18->tensorflow-intel==2.18.0->tensorflow) (8.5.0)\n",
      "Requirement already satisfied: MarkupSafe>=2.1.1 in c:\\users\\dell\\.conda\\envs\\text_env\\lib\\site-packages (from werkzeug>=1.0.1->tensorboard<2.19,>=2.18->tensorflow-intel==2.18.0->tensorflow) (3.0.2)\n",
      "Requirement already satisfied: markdown-it-py>=2.2.0 in c:\\users\\dell\\.conda\\envs\\text_env\\lib\\site-packages (from rich->keras>=3.5.0->tensorflow-intel==2.18.0->tensorflow) (3.0.0)\n",
      "Requirement already satisfied: pygments<3.0.0,>=2.13.0 in c:\\users\\dell\\.conda\\envs\\text_env\\lib\\site-packages (from rich->keras>=3.5.0->tensorflow-intel==2.18.0->tensorflow) (2.18.0)\n",
      "Requirement already satisfied: zipp>=3.20 in c:\\users\\dell\\.conda\\envs\\text_env\\lib\\site-packages (from importlib-metadata>=4.4->markdown>=2.6.8->tensorboard<2.19,>=2.18->tensorflow-intel==2.18.0->tensorflow) (3.21.0)\n",
      "Requirement already satisfied: mdurl~=0.1 in c:\\users\\dell\\.conda\\envs\\text_env\\lib\\site-packages (from markdown-it-py>=2.2.0->rich->keras>=3.5.0->tensorflow-intel==2.18.0->tensorflow) (0.1.2)\n",
      "Note: you may need to restart the kernel to use updated packages.\n"
     ]
    }
   ],
   "source": [
    "%pip install pandas numpy scikit-learn tensorflow"
   ]
  },
  {
   "cell_type": "code",
   "execution_count": 2,
   "metadata": {},
   "outputs": [],
   "source": [
    "import pandas as pd\n",
    "import numpy as np\n",
    "\n",
    "# For splitting data\n",
    "from sklearn.model_selection import train_test_split\n",
    "\n",
    "# For scaling numerical features\n",
    "from sklearn.preprocessing import StandardScaler, LabelEncoder\n",
    "\n",
    "# For metrics\n",
    "from sklearn.metrics import classification_report, confusion_matrix\n",
    "\n",
    "# Deep learning imports\n",
    "import tensorflow as tf\n",
    "from tensorflow.keras.models import Sequential\n",
    "from tensorflow.keras.layers import Dense\n"
   ]
  },
  {
   "cell_type": "code",
   "execution_count": 3,
   "metadata": {},
   "outputs": [],
   "source": [
    "# 1. LOAD THE DATA\n",
    "# ----------------------------------------------------------------------------\n",
    "# Replace 'data.csv' with the actual path if your CSV is named differently \n",
    "# or located elsewhere.\n",
    "df = pd.read_csv(\"data/cancer_dataset.csv\")"
   ]
  },
  {
   "cell_type": "code",
   "execution_count": 4,
   "metadata": {},
   "outputs": [
    {
     "name": "stdout",
     "output_type": "stream",
     "text": [
      "Data shape: (569, 32)\n",
      "         id diagnosis  radius_mean  texture_mean  perimeter_mean  area_mean  \\\n",
      "0    842302         M        17.99         10.38          122.80     1001.0   \n",
      "1    842517         M        20.57         17.77          132.90     1326.0   \n",
      "2  84300903         M        19.69         21.25          130.00     1203.0   \n",
      "3  84348301         M        11.42         20.38           77.58      386.1   \n",
      "4  84358402         M        20.29         14.34          135.10     1297.0   \n",
      "\n",
      "   smoothness_mean  compactness_mean  concavity_mean  concave points_mean  \\\n",
      "0          0.11840           0.27760          0.3001              0.14710   \n",
      "1          0.08474           0.07864          0.0869              0.07017   \n",
      "2          0.10960           0.15990          0.1974              0.12790   \n",
      "3          0.14250           0.28390          0.2414              0.10520   \n",
      "4          0.10030           0.13280          0.1980              0.10430   \n",
      "\n",
      "   ...  radius_worst  texture_worst  perimeter_worst  area_worst  \\\n",
      "0  ...         25.38          17.33           184.60      2019.0   \n",
      "1  ...         24.99          23.41           158.80      1956.0   \n",
      "2  ...         23.57          25.53           152.50      1709.0   \n",
      "3  ...         14.91          26.50            98.87       567.7   \n",
      "4  ...         22.54          16.67           152.20      1575.0   \n",
      "\n",
      "   smoothness_worst  compactness_worst  concavity_worst  concave points_worst  \\\n",
      "0            0.1622             0.6656           0.7119                0.2654   \n",
      "1            0.1238             0.1866           0.2416                0.1860   \n",
      "2            0.1444             0.4245           0.4504                0.2430   \n",
      "3            0.2098             0.8663           0.6869                0.2575   \n",
      "4            0.1374             0.2050           0.4000                0.1625   \n",
      "\n",
      "   symmetry_worst  fractal_dimension_worst  \n",
      "0          0.4601                  0.11890  \n",
      "1          0.2750                  0.08902  \n",
      "2          0.3613                  0.08758  \n",
      "3          0.6638                  0.17300  \n",
      "4          0.2364                  0.07678  \n",
      "\n",
      "[5 rows x 32 columns]\n"
     ]
    }
   ],
   "source": [
    "\n",
    "\n",
    "# 2. QUICK DATA INSPECTION & CLEANING\n",
    "# ----------------------------------------------------------------------------\n",
    "print(\"Data shape:\", df.shape)\n",
    "print(df.head())\n",
    "\n",
    "\n"
   ]
  },
  {
   "cell_type": "code",
   "execution_count": 5,
   "metadata": {},
   "outputs": [
    {
     "name": "stdout",
     "output_type": "stream",
     "text": [
      "\n",
      "Missing values:\n",
      " id                         0\n",
      "diagnosis                  0\n",
      "radius_mean                0\n",
      "texture_mean               0\n",
      "perimeter_mean             0\n",
      "area_mean                  0\n",
      "smoothness_mean            0\n",
      "compactness_mean           0\n",
      "concavity_mean             0\n",
      "concave points_mean        0\n",
      "symmetry_mean              0\n",
      "fractal_dimension_mean     0\n",
      "radius_se                  0\n",
      "texture_se                 0\n",
      "perimeter_se               0\n",
      "area_se                    0\n",
      "smoothness_se              0\n",
      "compactness_se             0\n",
      "concavity_se               0\n",
      "concave points_se          0\n",
      "symmetry_se                0\n",
      "fractal_dimension_se       0\n",
      "radius_worst               0\n",
      "texture_worst              0\n",
      "perimeter_worst            0\n",
      "area_worst                 0\n",
      "smoothness_worst           0\n",
      "compactness_worst          0\n",
      "concavity_worst            0\n",
      "concave points_worst       0\n",
      "symmetry_worst             0\n",
      "fractal_dimension_worst    0\n",
      "dtype: int64\n"
     ]
    }
   ],
   "source": [
    "# Check for missing values (if any)\n",
    "print(\"\\nMissing values:\\n\", df.isnull().sum())\n",
    "\n"
   ]
  },
  {
   "cell_type": "code",
   "execution_count": 6,
   "metadata": {},
   "outputs": [],
   "source": [
    "# In many breast cancer datasets, 'id' is often just an identifier and\n",
    "# is not predictive. We'll drop it if present.\n",
    "if 'id' in df.columns:\n",
    "    df.drop(columns=['id'], inplace=True)"
   ]
  },
  {
   "cell_type": "code",
   "execution_count": 7,
   "metadata": {},
   "outputs": [
    {
     "data": {
      "text/plain": [
       "0      1\n",
       "1      1\n",
       "2      1\n",
       "3      1\n",
       "4      1\n",
       "      ..\n",
       "564    1\n",
       "565    1\n",
       "566    1\n",
       "567    1\n",
       "568    0\n",
       "Name: diagnosis, Length: 569, dtype: int64"
      ]
     },
     "execution_count": 7,
     "metadata": {},
     "output_type": "execute_result"
    }
   ],
   "source": [
    "\n",
    "# 3. PREPROCESS THE TARGET (diagnosis)\n",
    "# ----------------------------------------------------------------------------\n",
    "# Typically, 'B' = Benign = 0, 'M' = Malignant = 1\n",
    "# Let's encode that:\n",
    "label_encoder = LabelEncoder()\n",
    "df['diagnosis'] = label_encoder.fit_transform(df['diagnosis'])  \n",
    "# After encoding: B -> 0, M -> 1\n",
    "df['diagnosis']"
   ]
  },
  {
   "cell_type": "code",
   "execution_count": 8,
   "metadata": {},
   "outputs": [],
   "source": [
    "\n",
    "\n",
    "# 4. SPLIT INTO FEATURES (X) AND TARGET (y)\n",
    "# ----------------------------------------------------------------------------\n",
    "X = df.drop(columns=['diagnosis'])  # all columns except diagnosis\n",
    "y = df['diagnosis']                 # target column\n"
   ]
  },
  {
   "cell_type": "code",
   "execution_count": 9,
   "metadata": {},
   "outputs": [],
   "source": [
    "\n",
    "\n",
    "# 5. TRAIN-TEST SPLIT\n",
    "# ----------------------------------------------------------------------------\n",
    "X_train, X_test, y_train, y_test = train_test_split(\n",
    "    X, y, \n",
    "    test_size=0.2,      # 20% test\n",
    "    random_state=42,    # for reproducibility\n",
    "    stratify=y          # keep the same class distribution\n",
    ")\n"
   ]
  },
  {
   "cell_type": "code",
   "execution_count": 10,
   "metadata": {},
   "outputs": [],
   "source": [
    "\n",
    "# 6. SCALE THE FEATURES\n",
    "# ----------------------------------------------------------------------------\n",
    "scaler = StandardScaler()\n",
    "X_train_scaled = scaler.fit_transform(X_train)\n",
    "X_test_scaled  = scaler.transform(X_test)"
   ]
  },
  {
   "cell_type": "code",
   "execution_count": 11,
   "metadata": {},
   "outputs": [
    {
     "data": {
      "text/plain": [
       "(455, 30)"
      ]
     },
     "execution_count": 11,
     "metadata": {},
     "output_type": "execute_result"
    }
   ],
   "source": [
    "X_train.shape"
   ]
  },
  {
   "cell_type": "code",
   "execution_count": 14,
   "metadata": {},
   "outputs": [
    {
     "data": {
      "text/plain": [
       "30"
      ]
     },
     "execution_count": 14,
     "metadata": {},
     "output_type": "execute_result"
    }
   ],
   "source": [
    "X_train.shape[1]"
   ]
  },
  {
   "cell_type": "code",
   "execution_count": 15,
   "metadata": {},
   "outputs": [
    {
     "name": "stderr",
     "output_type": "stream",
     "text": [
      "c:\\Users\\DELL\\.conda\\envs\\text_env\\lib\\site-packages\\keras\\src\\layers\\core\\dense.py:87: UserWarning: Do not pass an `input_shape`/`input_dim` argument to a layer. When using Sequential models, prefer using an `Input(shape)` object as the first layer in the model instead.\n",
      "  super().__init__(activity_regularizer=activity_regularizer, **kwargs)\n"
     ]
    }
   ],
   "source": [
    "\n",
    "# 7. BUILD THE ANN MODEL\n",
    "# ----------------------------------------------------------------------------\n",
    "# Here’s a simple 3-layer network with:\n",
    "#   - input_dim = number of features\n",
    "#   - hidden layer 1 with 16 neurons (relu)\n",
    "#   - hidden layer 2 with 8 neurons (relu)\n",
    "#   - output layer with 1 neuron (sigmoid for binary classification)\n",
    "\n",
    "model = Sequential([\n",
    "    Dense(units=16, activation='relu', input_dim=X_train.shape[1]),\n",
    "    Dense(units=8, activation='relu'),\n",
    "    Dense(units=1, activation='sigmoid')  # single output node for binary classification\n",
    "])"
   ]
  },
  {
   "cell_type": "code",
   "execution_count": 16,
   "metadata": {},
   "outputs": [],
   "source": [
    "\n",
    "\n",
    "# 8. COMPILE THE MODEL\n",
    "# ----------------------------------------------------------------------------\n",
    "# Use 'binary_crossentropy' for a 2-class problem, 'adam' optimizer is typical\n",
    "model.compile(optimizer='adam', loss='binary_crossentropy', metrics=['accuracy'])\n"
   ]
  },
  {
   "cell_type": "code",
   "execution_count": 17,
   "metadata": {},
   "outputs": [
    {
     "name": "stdout",
     "output_type": "stream",
     "text": [
      "Epoch 1/50\n",
      "31/31 - 3s - 110ms/step - accuracy: 0.4478 - loss: 0.6809 - val_accuracy: 0.5165 - val_loss: 0.6551\n",
      "Epoch 2/50\n",
      "31/31 - 1s - 30ms/step - accuracy: 0.6978 - loss: 0.5501 - val_accuracy: 0.7033 - val_loss: 0.5457\n",
      "Epoch 3/50\n",
      "31/31 - 0s - 11ms/step - accuracy: 0.8654 - loss: 0.4568 - val_accuracy: 0.8242 - val_loss: 0.4516\n",
      "Epoch 4/50\n",
      "31/31 - 1s - 22ms/step - accuracy: 0.9258 - loss: 0.3664 - val_accuracy: 0.9121 - val_loss: 0.3550\n",
      "Epoch 5/50\n",
      "31/31 - 0s - 10ms/step - accuracy: 0.9423 - loss: 0.2762 - val_accuracy: 0.9341 - val_loss: 0.2784\n",
      "Epoch 6/50\n",
      "31/31 - 0s - 11ms/step - accuracy: 0.9615 - loss: 0.2063 - val_accuracy: 0.9341 - val_loss: 0.2255\n",
      "Epoch 7/50\n",
      "31/31 - 0s - 10ms/step - accuracy: 0.9725 - loss: 0.1615 - val_accuracy: 0.9451 - val_loss: 0.1931\n",
      "Epoch 8/50\n",
      "31/31 - 0s - 13ms/step - accuracy: 0.9753 - loss: 0.1324 - val_accuracy: 0.9451 - val_loss: 0.1745\n",
      "Epoch 9/50\n",
      "31/31 - 0s - 9ms/step - accuracy: 0.9753 - loss: 0.1123 - val_accuracy: 0.9341 - val_loss: 0.1606\n",
      "Epoch 10/50\n",
      "31/31 - 0s - 11ms/step - accuracy: 0.9780 - loss: 0.0976 - val_accuracy: 0.9451 - val_loss: 0.1527\n",
      "Epoch 11/50\n",
      "31/31 - 0s - 9ms/step - accuracy: 0.9835 - loss: 0.0867 - val_accuracy: 0.9451 - val_loss: 0.1460\n",
      "Epoch 12/50\n",
      "31/31 - 0s - 9ms/step - accuracy: 0.9835 - loss: 0.0790 - val_accuracy: 0.9451 - val_loss: 0.1418\n",
      "Epoch 13/50\n",
      "31/31 - 0s - 11ms/step - accuracy: 0.9835 - loss: 0.0732 - val_accuracy: 0.9451 - val_loss: 0.1410\n",
      "Epoch 14/50\n",
      "31/31 - 0s - 15ms/step - accuracy: 0.9835 - loss: 0.0677 - val_accuracy: 0.9451 - val_loss: 0.1392\n",
      "Epoch 15/50\n",
      "31/31 - 0s - 11ms/step - accuracy: 0.9835 - loss: 0.0635 - val_accuracy: 0.9451 - val_loss: 0.1358\n",
      "Epoch 16/50\n",
      "31/31 - 0s - 12ms/step - accuracy: 0.9835 - loss: 0.0598 - val_accuracy: 0.9451 - val_loss: 0.1384\n",
      "Epoch 17/50\n",
      "31/31 - 0s - 10ms/step - accuracy: 0.9835 - loss: 0.0571 - val_accuracy: 0.9451 - val_loss: 0.1360\n",
      "Epoch 18/50\n",
      "31/31 - 0s - 9ms/step - accuracy: 0.9863 - loss: 0.0540 - val_accuracy: 0.9451 - val_loss: 0.1371\n",
      "Epoch 19/50\n",
      "31/31 - 0s - 11ms/step - accuracy: 0.9890 - loss: 0.0516 - val_accuracy: 0.9451 - val_loss: 0.1361\n",
      "Epoch 20/50\n",
      "31/31 - 0s - 11ms/step - accuracy: 0.9918 - loss: 0.0503 - val_accuracy: 0.9451 - val_loss: 0.1407\n",
      "Epoch 21/50\n",
      "31/31 - 0s - 10ms/step - accuracy: 0.9918 - loss: 0.0470 - val_accuracy: 0.9451 - val_loss: 0.1371\n",
      "Epoch 22/50\n",
      "31/31 - 1s - 22ms/step - accuracy: 0.9918 - loss: 0.0448 - val_accuracy: 0.9451 - val_loss: 0.1357\n",
      "Epoch 23/50\n",
      "31/31 - 0s - 11ms/step - accuracy: 0.9918 - loss: 0.0431 - val_accuracy: 0.9451 - val_loss: 0.1361\n",
      "Epoch 24/50\n",
      "31/31 - 1s - 20ms/step - accuracy: 0.9945 - loss: 0.0419 - val_accuracy: 0.9451 - val_loss: 0.1283\n",
      "Epoch 25/50\n",
      "31/31 - 0s - 10ms/step - accuracy: 0.9945 - loss: 0.0402 - val_accuracy: 0.9451 - val_loss: 0.1299\n",
      "Epoch 26/50\n",
      "31/31 - 0s - 15ms/step - accuracy: 0.9945 - loss: 0.0391 - val_accuracy: 0.9451 - val_loss: 0.1316\n",
      "Epoch 27/50\n",
      "31/31 - 0s - 16ms/step - accuracy: 0.9945 - loss: 0.0377 - val_accuracy: 0.9451 - val_loss: 0.1307\n",
      "Epoch 28/50\n",
      "31/31 - 0s - 9ms/step - accuracy: 0.9945 - loss: 0.0365 - val_accuracy: 0.9451 - val_loss: 0.1326\n",
      "Epoch 29/50\n",
      "31/31 - 0s - 11ms/step - accuracy: 0.9945 - loss: 0.0354 - val_accuracy: 0.9451 - val_loss: 0.1294\n",
      "Epoch 30/50\n",
      "31/31 - 0s - 11ms/step - accuracy: 0.9945 - loss: 0.0343 - val_accuracy: 0.9451 - val_loss: 0.1293\n",
      "Epoch 31/50\n",
      "31/31 - 0s - 10ms/step - accuracy: 0.9945 - loss: 0.0337 - val_accuracy: 0.9451 - val_loss: 0.1323\n",
      "Epoch 32/50\n",
      "31/31 - 1s - 23ms/step - accuracy: 0.9945 - loss: 0.0324 - val_accuracy: 0.9451 - val_loss: 0.1321\n",
      "Epoch 33/50\n",
      "31/31 - 0s - 9ms/step - accuracy: 0.9945 - loss: 0.0315 - val_accuracy: 0.9451 - val_loss: 0.1291\n",
      "Epoch 34/50\n",
      "31/31 - 0s - 10ms/step - accuracy: 0.9945 - loss: 0.0304 - val_accuracy: 0.9451 - val_loss: 0.1275\n",
      "Epoch 35/50\n",
      "31/31 - 0s - 10ms/step - accuracy: 0.9945 - loss: 0.0296 - val_accuracy: 0.9451 - val_loss: 0.1305\n",
      "Epoch 36/50\n",
      "31/31 - 0s - 13ms/step - accuracy: 0.9945 - loss: 0.0289 - val_accuracy: 0.9451 - val_loss: 0.1317\n",
      "Epoch 37/50\n",
      "31/31 - 0s - 8ms/step - accuracy: 0.9945 - loss: 0.0282 - val_accuracy: 0.9451 - val_loss: 0.1303\n",
      "Epoch 38/50\n",
      "31/31 - 0s - 11ms/step - accuracy: 0.9945 - loss: 0.0275 - val_accuracy: 0.9451 - val_loss: 0.1390\n",
      "Epoch 39/50\n",
      "31/31 - 0s - 10ms/step - accuracy: 0.9945 - loss: 0.0267 - val_accuracy: 0.9451 - val_loss: 0.1340\n",
      "Epoch 40/50\n",
      "31/31 - 0s - 9ms/step - accuracy: 0.9945 - loss: 0.0256 - val_accuracy: 0.9451 - val_loss: 0.1298\n",
      "Epoch 41/50\n",
      "31/31 - 0s - 8ms/step - accuracy: 0.9945 - loss: 0.0255 - val_accuracy: 0.9451 - val_loss: 0.1356\n",
      "Epoch 42/50\n",
      "31/31 - 0s - 9ms/step - accuracy: 0.9945 - loss: 0.0243 - val_accuracy: 0.9451 - val_loss: 0.1315\n",
      "Epoch 43/50\n",
      "31/31 - 0s - 9ms/step - accuracy: 0.9945 - loss: 0.0235 - val_accuracy: 0.9560 - val_loss: 0.1313\n",
      "Epoch 44/50\n",
      "31/31 - 0s - 10ms/step - accuracy: 0.9945 - loss: 0.0228 - val_accuracy: 0.9560 - val_loss: 0.1325\n",
      "Epoch 45/50\n",
      "31/31 - 0s - 9ms/step - accuracy: 0.9945 - loss: 0.0223 - val_accuracy: 0.9560 - val_loss: 0.1315\n",
      "Epoch 46/50\n",
      "31/31 - 0s - 13ms/step - accuracy: 0.9945 - loss: 0.0216 - val_accuracy: 0.9560 - val_loss: 0.1320\n",
      "Epoch 47/50\n",
      "31/31 - 0s - 8ms/step - accuracy: 0.9945 - loss: 0.0213 - val_accuracy: 0.9560 - val_loss: 0.1377\n",
      "Epoch 48/50\n",
      "31/31 - 0s - 9ms/step - accuracy: 0.9945 - loss: 0.0203 - val_accuracy: 0.9560 - val_loss: 0.1338\n",
      "Epoch 49/50\n",
      "31/31 - 0s - 9ms/step - accuracy: 0.9945 - loss: 0.0196 - val_accuracy: 0.9560 - val_loss: 0.1354\n",
      "Epoch 50/50\n",
      "31/31 - 0s - 8ms/step - accuracy: 0.9945 - loss: 0.0186 - val_accuracy: 0.9560 - val_loss: 0.1326\n"
     ]
    }
   ],
   "source": [
    "# 9. TRAIN (FIT) THE MODEL\n",
    "# ----------------------------------------------------------------------------\n",
    "history = model.fit(\n",
    "    X_train_scaled, \n",
    "    y_train, \n",
    "    validation_split=0.2,   # further split the training data into train/val\n",
    "    epochs=50,              # you can tune the epoch count\n",
    "    batch_size=12,          # you can tune batch size\n",
    "    verbose=2\n",
    ")"
   ]
  },
  {
   "cell_type": "code",
   "execution_count": 18,
   "metadata": {},
   "outputs": [
    {
     "name": "stdout",
     "output_type": "stream",
     "text": [
      "\n",
      "Test Loss: 0.0459\n",
      "Test Accuracy: 0.9825\n"
     ]
    }
   ],
   "source": [
    "\n",
    "# 10. EVALUATE THE MODEL\n",
    "# ----------------------------------------------------------------------------\n",
    "# Evaluate on the test set\n",
    "loss, accuracy = model.evaluate(X_test_scaled, y_test, verbose=0)\n",
    "print(\"\\nTest Loss: {:.4f}\".format(loss))\n",
    "print(\"Test Accuracy: {:.4f}\".format(accuracy))\n"
   ]
  },
  {
   "cell_type": "code",
   "execution_count": 19,
   "metadata": {},
   "outputs": [
    {
     "name": "stdout",
     "output_type": "stream",
     "text": [
      "\u001b[1m4/4\u001b[0m \u001b[32m━━━━━━━━━━━━━━━━━━━━\u001b[0m\u001b[37m\u001b[0m \u001b[1m0s\u001b[0m 60ms/step\n",
      "\n",
      "Confusion Matrix:\n",
      "[[71  1]\n",
      " [ 1 41]]\n",
      "\n",
      "Classification Report:\n",
      "              precision    recall  f1-score   support\n",
      "\n",
      "           0       0.99      0.99      0.99        72\n",
      "           1       0.98      0.98      0.98        42\n",
      "\n",
      "    accuracy                           0.98       114\n",
      "   macro avg       0.98      0.98      0.98       114\n",
      "weighted avg       0.98      0.98      0.98       114\n",
      "\n"
     ]
    }
   ],
   "source": [
    "\n",
    "\n",
    "\n",
    "\n",
    "# 11. MAKE PREDICTIONS & DISPLAY CLASSIFICATION REPORT\n",
    "# ----------------------------------------------------------------------------\n",
    "y_pred_prob = model.predict(X_test_scaled)\n",
    "# Convert probabilities to binary predictions (0 or 1) using 0.5 threshold\n",
    "y_pred = (y_pred_prob > 0.5).astype(\"int32\").ravel()\n",
    "\n",
    "print(\"\\nConfusion Matrix:\")\n",
    "print(confusion_matrix(y_test, y_pred))\n",
    "\n",
    "print(\"\\nClassification Report:\")\n",
    "print(classification_report(y_test, y_pred))\n"
   ]
  }
 ],
 "metadata": {
  "kernelspec": {
   "display_name": "text_env",
   "language": "python",
   "name": "python3"
  },
  "language_info": {
   "codemirror_mode": {
    "name": "ipython",
    "version": 3
   },
   "file_extension": ".py",
   "mimetype": "text/x-python",
   "name": "python",
   "nbconvert_exporter": "python",
   "pygments_lexer": "ipython3",
   "version": "3.9.20"
  }
 },
 "nbformat": 4,
 "nbformat_minor": 2
}
