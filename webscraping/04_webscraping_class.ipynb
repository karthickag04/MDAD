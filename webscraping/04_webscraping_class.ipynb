{
 "cells": [
  {
   "cell_type": "code",
   "execution_count": 1,
   "metadata": {},
   "outputs": [],
   "source": [
    "from bs4 import BeautifulSoup\n",
    "import requests, pandas as pd"
   ]
  },
  {
   "cell_type": "code",
   "execution_count": 90,
   "metadata": {},
   "outputs": [],
   "source": [
    "import requests\n",
    "\n",
    "link = \"https://www.imdb.com/search/title/?genres=adventure&explore=genres&title_type=feature\"\n",
    "\n",
    "headers = {\n",
    "    \"User-Agent\": \"Mozilla/5.0 (Windows NT 10.0; Win64; x64) AppleWebKit/537.36 (KHTML, like Gecko) Chrome/114.0.0.0 Safari/537.36\"\n",
    "}\n",
    "\n",
    "try:\n",
    "    html_page = requests.get(link, headers=headers)\n",
    "    html_page.raise_for_status()  # Will raise an exception for HTTP errors\n",
    "    # print(html_page.text)  # Display the HTML content of the page\n",
    "\n",
    "    all_content=BeautifulSoup(html_page.text, 'html.parser')\n",
    "except requests.exceptions.RequestException as e:\n",
    "    print(f\"Error fetching the page: {e}\")\n"
   ]
  },
  {
   "cell_type": "code",
   "execution_count": null,
   "metadata": {},
   "outputs": [],
   "source": []
  },
  {
   "cell_type": "code",
   "execution_count": 88,
   "metadata": {},
   "outputs": [],
   "source": [
    "import re\n",
    "\n",
    "div_content=all_content.find('ul', class_=\"ipc-metadata-list\")\n",
    "# print(div_content)\n",
    "\n",
    "list_li=[]\n",
    "\n",
    "for li in div_content.find_all('li'):\n",
    "    Image_link=li.find(class_='ipc-media')\n",
    "    # external_links = Image_link.find_all('img',class_=\"ipc-image\", href=re.compile(r'^https://'))\n",
    "    \n",
    "    # print(external_links)\n",
    "    if Image_link:\n",
    "            # Extract the img tag\n",
    "            img_tag = Image_link.find('img', class_=\"ipc-image\")\n",
    "            if img_tag:\n",
    "                img_src = img_tag.get('src')\n",
    "                # Check if src starts with https://\n",
    "                if img_src and img_src.startswith('https://'):\n",
    "                    list_li.append(img_src)\n",
    "                print(img_src)\n",
    "                list_li.append(img_src)\n",
    "\n",
    "    title_text=li.find('h3', class_='ipc-title__text')\n",
    "    print(title_text.text)\n",
    "    list_li.append(title_text.text)\n",
    "    year_duration_cert_info=li.find('div', class_=\"sc-b189961a-7\")\n",
    "    # year=year_of_release.find('span',class_=\"sc-b189961a-8\")\n",
    "    items=[]\n",
    "    for item in year_duration_cert_info.find_all('span'):\n",
    "         items.append(item.text.strip())\n",
    "        #  print(items)\n",
    "    try:\n",
    "        year=items[0]\n",
    "        movie_duration=items[1]\n",
    "        certification=items[2]\n",
    "        print(year)\n",
    "        list_li.append(year)\n",
    "        print(movie_duration)\n",
    "        list_li.append(movie_duration)\n",
    "        print(certification)    \n",
    "        list_li.append(certification)    \n",
    "        rating_votecount_meta_info=li.find('span', class_=\"sc-b189961a-1\")\n",
    "        rating=rating_votecount_meta_info.find('span', class_=\"ipc-rating-star--rating\")\n",
    "        print(rating.text)\n",
    "        list_li.append(rating.text)\n",
    "        rating_vote_count=rating_votecount_meta_info.find('span', class_=\"ipc-rating-star--voteCount\")\n",
    "        print(rating_vote_count.text)\n",
    "        list_li.append(rating_vote_count.text)\n",
    "        metascore=rating_votecount_meta_info.find('span', class_=\"sc-b0901df4-0\")\n",
    "        print(metascore.text)\n",
    "        list_li.append(metascore.text)\n",
    "        content_desc=li.find('div',class_=\"ipc-html-content-inner-div\")\n",
    "        print(content_desc.text)\n",
    "        list_li.append(content_desc.text)\n",
    "\n",
    "\n",
    "    except Exception as e:\n",
    "        print(e)         \n",
    "    # print(year_of_release)\n",
    "    # for year in year_of_release:\n",
    "        # print(year[0])\n",
    "\n",
    "    # these above will create a single list which keeps each movie items as list. \n",
    "    # need to modify the loop to get only each movies records separatly\n"
   ]
  }
 ],
 "metadata": {
  "kernelspec": {
   "display_name": "Python 3",
   "language": "python",
   "name": "python3"
  },
  "language_info": {
   "codemirror_mode": {
    "name": "ipython",
    "version": 3
   },
   "file_extension": ".py",
   "mimetype": "text/x-python",
   "name": "python",
   "nbconvert_exporter": "python",
   "pygments_lexer": "ipython3",
   "version": "3.12.4"
  }
 },
 "nbformat": 4,
 "nbformat_minor": 2
}
