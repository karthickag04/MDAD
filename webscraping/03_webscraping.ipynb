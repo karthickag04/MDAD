{
 "cells": [
  {
   "cell_type": "code",
   "execution_count": 10,
   "metadata": {},
   "outputs": [],
   "source": [
    "from bs4 import BeautifulSoup\n",
    "import requests, pandas as pd"
   ]
  },
  {
   "cell_type": "code",
   "execution_count": 2,
   "metadata": {},
   "outputs": [
    {
     "name": "stdout",
     "output_type": "stream",
     "text": [
      "Defaulting to user installation because normal site-packages is not writeable\n",
      "Collecting bs4\n",
      "  Using cached bs4-0.0.2-py2.py3-none-any.whl.metadata (411 bytes)\n",
      "Collecting beautifulsoup4 (from bs4)\n",
      "  Downloading beautifulsoup4-4.12.3-py3-none-any.whl.metadata (3.8 kB)\n",
      "Collecting soupsieve>1.2 (from beautifulsoup4->bs4)\n",
      "  Downloading soupsieve-2.6-py3-none-any.whl.metadata (4.6 kB)\n",
      "Using cached bs4-0.0.2-py2.py3-none-any.whl (1.2 kB)\n",
      "Downloading beautifulsoup4-4.12.3-py3-none-any.whl (147 kB)\n",
      "   ---------------------------------------- 0.0/147.9 kB ? eta -:--:--\n",
      "   -------------------------------------- - 143.4/147.9 kB 4.3 MB/s eta 0:00:01\n",
      "   ---------------------------------------- 147.9/147.9 kB 2.9 MB/s eta 0:00:00\n",
      "Downloading soupsieve-2.6-py3-none-any.whl (36 kB)\n",
      "Installing collected packages: soupsieve, beautifulsoup4, bs4\n",
      "Successfully installed beautifulsoup4-4.12.3 bs4-0.0.2 soupsieve-2.6\n",
      "Note: you may need to restart the kernel to use updated packages.\n"
     ]
    },
    {
     "name": "stderr",
     "output_type": "stream",
     "text": [
      "\n",
      "[notice] A new release of pip is available: 24.0 -> 24.2\n",
      "[notice] To update, run: python.exe -m pip install --upgrade pip\n"
     ]
    }
   ],
   "source": [
    "%pip install bs4"
   ]
  },
  {
   "cell_type": "code",
   "execution_count": 3,
   "metadata": {},
   "outputs": [
    {
     "name": "stdout",
     "output_type": "stream",
     "text": [
      "Defaulting to user installation because normal site-packages is not writeableNote: you may need to restart the kernel to use updated packages.\n",
      "\n",
      "Collecting requests\n",
      "  Downloading requests-2.32.3-py3-none-any.whl.metadata (4.6 kB)\n",
      "Collecting charset-normalizer<4,>=2 (from requests)\n",
      "  Downloading charset_normalizer-3.3.2-cp312-cp312-win_amd64.whl.metadata (34 kB)\n",
      "Collecting idna<4,>=2.5 (from requests)\n",
      "  Downloading idna-3.8-py3-none-any.whl.metadata (9.9 kB)\n",
      "Collecting urllib3<3,>=1.21.1 (from requests)\n",
      "  Downloading urllib3-2.2.2-py3-none-any.whl.metadata (6.4 kB)\n",
      "Collecting certifi>=2017.4.17 (from requests)\n",
      "  Downloading certifi-2024.8.30-py3-none-any.whl.metadata (2.2 kB)\n",
      "Downloading requests-2.32.3-py3-none-any.whl (64 kB)\n",
      "   ---------------------------------------- 0.0/64.9 kB ? eta -:--:--\n",
      "   ---------------------------------------- 64.9/64.9 kB ? eta 0:00:00\n",
      "Downloading certifi-2024.8.30-py3-none-any.whl (167 kB)\n",
      "   ---------------------------------------- 0.0/167.3 kB ? eta -:--:--\n",
      "   ---------------------------------------- 167.3/167.3 kB 5.1 MB/s eta 0:00:00\n",
      "Downloading charset_normalizer-3.3.2-cp312-cp312-win_amd64.whl (100 kB)\n",
      "   ---------------------------------------- 0.0/100.4 kB ? eta -:--:--\n",
      "   ---------------------------------------- 100.4/100.4 kB 6.0 MB/s eta 0:00:00\n",
      "Downloading idna-3.8-py3-none-any.whl (66 kB)\n",
      "   ---------------------------------------- 0.0/66.9 kB ? eta -:--:--\n",
      "   ---------------------------------------- 66.9/66.9 kB ? eta 0:00:00\n",
      "Downloading urllib3-2.2.2-py3-none-any.whl (121 kB)\n",
      "   ---------------------------------------- 0.0/121.4 kB ? eta -:--:--\n",
      "   ---------------------------------------- 121.4/121.4 kB 7.0 MB/s eta 0:00:00\n",
      "Installing collected packages: urllib3, idna, charset-normalizer, certifi, requests\n",
      "Successfully installed certifi-2024.8.30 charset-normalizer-3.3.2 idna-3.8 requests-2.32.3 urllib3-2.2.2\n"
     ]
    },
    {
     "name": "stderr",
     "output_type": "stream",
     "text": [
      "\n",
      "[notice] A new release of pip is available: 24.0 -> 24.2\n",
      "[notice] To update, run: python.exe -m pip install --upgrade pip\n"
     ]
    }
   ],
   "source": [
    "%pip install requests"
   ]
  },
  {
   "cell_type": "code",
   "execution_count": 4,
   "metadata": {},
   "outputs": [],
   "source": [
    "link=\"https://en.wikipedia.org/wiki/List_of_countries_by_GDP_(nominal)\""
   ]
  },
  {
   "cell_type": "markdown",
   "metadata": {},
   "source": [
    "**Available Parsers in BeautifulSoup:**\n",
    "\n",
    "    html.parser:\n",
    "\n",
    "        Built into Python's standard library.\n",
    "        Fast, but may not be as lenient with malformed HTML.\n",
    "    lxml:\n",
    "\n",
    "        Requires the lxml library.\n",
    "        Very fast, robust, and supports both HTML and XML.\n",
    "        More tolerant of poorly formed HTML.\n",
    "    html5lib:\n",
    "\n",
    "        Requires the html5lib library.\n",
    "        Parses HTML exactly like a web browser would, following the HTML5 specification.\n",
    "        Slowest, but the most lenient and handles malformed HTML very well.\n",
    "    xml:\n",
    "\n",
    "        Built into Python, but more suited for XML documents.\n",
    "        Strict with XML content, may not handle HTML well."
   ]
  },
  {
   "cell_type": "code",
   "execution_count": 11,
   "metadata": {},
   "outputs": [],
   "source": [
    "# using html.parser to extract all the text as a parser tree\n",
    "\n",
    "try:\n",
    "    htmlpage_response=requests.get(link)\n",
    "    # print(htmlpage_response.text)\n",
    "    soup=BeautifulSoup(htmlpage_response.text,'html.parser')\n",
    "    # print(soup)\n",
    "except Exception as e:\n",
    "    print(e)\n",
    "\n"
   ]
  },
  {
   "cell_type": "code",
   "execution_count": 12,
   "metadata": {},
   "outputs": [
    {
     "name": "stdout",
     "output_type": "stream",
     "text": [
      "[<ol class=\"references\">\n",
      "<li id=\"cite_note-China-THM-1\"><span class=\"mw-cite-backlink\">^ <a href=\"#cite_ref-China-THM_1-0\"><sup><i><b>a</b></i></sup></a> <a href=\"#cite_ref-China-THM_1-1\"><sup><i><b>b</b></i></sup></a> <a href=\"#cite_ref-China-THM_1-2\"><sup><i><b>c</b></i></sup></a></span> <span class=\"reference-text\">Figures for China exclude <a href=\"/wiki/Taiwan\" title=\"Taiwan\">Taiwan</a>, and the <a href=\"/wiki/Special_administrative_regions_of_China\" title=\"Special administrative regions of China\">special administrative regions</a> of <a href=\"/wiki/Hong_Kong\" title=\"Hong Kong\">Hong Kong</a> and <a href=\"/wiki/Macau\" title=\"Macau\">Macau</a>.</span>\n",
      "</li>\n",
      "<li id=\"cite_note-3\"><span class=\"mw-cite-backlink\"><b><a href=\"#cite_ref-3\">^</a></b></span> <span class=\"reference-text\">Based on the best available GDP figure for each country at the time of creation (16 June 2024). Best available GDP figure was defined as the latest available figure from the <a href=\"/wiki/International_Monetary_Fund\" title=\"International Monetary Fund\">International Monetary Fund</a> (including forecasts for the current year), otherwise the latest available figure from the <a href=\"/wiki/World_Bank\" title=\"World Bank\">World Bank</a>, otherwise the latest available figure from the <a href=\"/wiki/United_Nations_Statistics_Division\" title=\"United Nations Statistics Division\">United Nations Statistics Division</a>; however, countries that didn't have any figure for a year more recent than 2019 were not included at all. For almost all countries, the latest IMF forecast figure for 2024 was used.</span>\n",
      "</li>\n",
      "<li id=\"cite_note-China-HM-18\"><span class=\"mw-cite-backlink\"><b><a href=\"#cite_ref-China-HM_18-0\">^</a></b></span> <span class=\"reference-text\">Figures exclude the <a href=\"/wiki/Special_administrative_regions_of_China\" title=\"Special administrative regions of China\">special administrative regions</a> of <a href=\"/wiki/Hong_Kong\" title=\"Hong Kong\">Hong Kong</a> and <a href=\"/wiki/Macau\" title=\"Macau\">Macau</a>.</span>\n",
      "</li>\n",
      "<li id=\"cite_note-Taiwan_China-19\"><span class=\"mw-cite-backlink\"><b><a href=\"#cite_ref-Taiwan_China_19-0\">^</a></b></span> <span class=\"reference-text\">The name used in the IMF report is \"Taiwan Province of China\".</span>\n",
      "</li>\n",
      "<li id=\"cite_note-HongKong_China-20\"><span class=\"mw-cite-backlink\"><b><a href=\"#cite_ref-HongKong_China_20-0\">^</a></b></span> <span class=\"reference-text\">The name used in the IMF report is \"Hong Kong SAR\".</span>\n",
      "</li>\n",
      "<li id=\"cite_note-Ukraine-21\"><span class=\"mw-cite-backlink\">^ <a href=\"#cite_ref-Ukraine_21-0\"><sup><i><b>a</b></i></sup></a> <a href=\"#cite_ref-Ukraine_21-1\"><sup><i><b>b</b></i></sup></a> <a href=\"#cite_ref-Ukraine_21-2\"><sup><i><b>c</b></i></sup></a></span> <span class=\"reference-text\">Figures exclude the <a href=\"/wiki/Autonomous_Republic_of_Crimea\" title=\"Autonomous Republic of Crimea\">Autonomous Republic of Crimea</a> and <a href=\"/wiki/Sevastopol\" title=\"Sevastopol\">Sevastopol</a>.</span>\n",
      "</li>\n",
      "<li id=\"cite_note-Morocco-22\"><span class=\"mw-cite-backlink\"><b><a href=\"#cite_ref-Morocco_22-0\">^</a></b></span> <span class=\"reference-text\">Includes <a href=\"/wiki/Western_Sahara\" title=\"Western Sahara\">Western Sahara</a></span>\n",
      "</li>\n",
      "<li id=\"cite_note-Tanzania-23\"><span class=\"mw-cite-backlink\"><b><a href=\"#cite_ref-Tanzania_23-0\">^</a></b></span> <span class=\"reference-text\">The UN figure excludes the autonomous region of <a href=\"/wiki/Zanzibar\" title=\"Zanzibar\">Zanzibar</a>.</span>\n",
      "</li>\n",
      "<li id=\"cite_note-Macau_China-24\"><span class=\"mw-cite-backlink\"><b><a href=\"#cite_ref-Macau_China_24-0\">^</a></b></span> <span class=\"reference-text\">The name used in the IMF report is \"Macao SAR\".</span>\n",
      "</li>\n",
      "<li id=\"cite_note-Cyprus-25\"><span class=\"mw-cite-backlink\">^ <a href=\"#cite_ref-Cyprus_25-0\"><sup><i><b>a</b></i></sup></a> <a href=\"#cite_ref-Cyprus_25-1\"><sup><i><b>b</b></i></sup></a> <a href=\"#cite_ref-Cyprus_25-2\"><sup><i><b>c</b></i></sup></a></span> <span class=\"reference-text\">Data are for the area controlled by the Government of the Republic of Cyprus.</span>\n",
      "</li>\n",
      "<li id=\"cite_note-Georgia-26\"><span class=\"mw-cite-backlink\">^ <a href=\"#cite_ref-Georgia_26-0\"><sup><i><b>a</b></i></sup></a> <a href=\"#cite_ref-Georgia_26-1\"><sup><i><b>b</b></i></sup></a> <a href=\"#cite_ref-Georgia_26-2\"><sup><i><b>c</b></i></sup></a></span> <span class=\"reference-text\">Excludes <a href=\"/wiki/Abkhazia\" title=\"Abkhazia\">Abkhazia</a> and <a href=\"/wiki/South_Ossetia\" title=\"South Ossetia\">South Ossetia</a></span>\n",
      "</li>\n",
      "<li id=\"cite_note-WBG-27\"><span class=\"mw-cite-backlink\">^ <a href=\"#cite_ref-WBG_27-0\"><sup><i><b>a</b></i></sup></a> <a href=\"#cite_ref-WBG_27-1\"><sup><i><b>b</b></i></sup></a></span> <span class=\"reference-text\">The name used in the IMF and World Bank reports is \"West Bank and Gaza\".</span>\n",
      "</li>\n",
      "<li id=\"cite_note-Palestine-28\"><span class=\"mw-cite-backlink\"><b><a href=\"#cite_ref-Palestine_28-0\">^</a></b></span> <span class=\"reference-text\">The name used by the UN is \"State of Palestine\".</span>\n",
      "</li>\n",
      "<li id=\"cite_note-Moldova-29\"><span class=\"mw-cite-backlink\">^ <a href=\"#cite_ref-Moldova_29-0\"><sup><i><b>a</b></i></sup></a> <a href=\"#cite_ref-Moldova_29-1\"><sup><i><b>b</b></i></sup></a> <a href=\"#cite_ref-Moldova_29-2\"><sup><i><b>c</b></i></sup></a></span> <span class=\"reference-text\">Excludes data for <a href=\"/wiki/Transnistria\" title=\"Transnistria\">Transnistria</a></span>\n",
      "</li>\n",
      "</ol>]\n"
     ]
    }
   ],
   "source": [
    "# Find the first element with the class 'intro'\n",
    "Reference_content = soup.find(class_='mw-references-wrap')\n",
    "\n",
    "print(Reference_content.contents)  # Output: This is an introductory paragraph.\n",
    "\n"
   ]
  },
  {
   "cell_type": "code",
   "execution_count": 13,
   "metadata": {},
   "outputs": [
    {
     "name": "stdout",
     "output_type": "stream",
     "text": [
      "[{'Serial_Number': 1, 'Reference_Text': ' a b c Figures for China exclude Taiwan, and the special administrative regions of Hong Kong and Macau.'}, {'Serial_Number': 2, 'Reference_Text': \" Based on the best available GDP figure for each country at the time of creation (16 June 2024). Best available GDP figure was defined as the latest available figure from the International Monetary Fund (including forecasts for the current year), otherwise the latest available figure from the World Bank, otherwise the latest available figure from the United Nations Statistics Division; however, countries that didn't have any figure for a year more recent than 2019 were not included at all. For almost all countries, the latest IMF forecast figure for 2024 was used.\"}, {'Serial_Number': 3, 'Reference_Text': ' Figures exclude the special administrative regions of Hong Kong and Macau.'}, {'Serial_Number': 4, 'Reference_Text': ' The name used in the IMF report is \"Taiwan Province of China\".'}, {'Serial_Number': 5, 'Reference_Text': ' The name used in the IMF report is \"Hong Kong SAR\".'}, {'Serial_Number': 6, 'Reference_Text': ' a b c Figures exclude the Autonomous Republic of Crimea and Sevastopol.'}, {'Serial_Number': 7, 'Reference_Text': ' Includes Western Sahara'}, {'Serial_Number': 8, 'Reference_Text': ' The UN figure excludes the autonomous region of Zanzibar.'}, {'Serial_Number': 9, 'Reference_Text': ' The name used in the IMF report is \"Macao SAR\".'}, {'Serial_Number': 10, 'Reference_Text': ' a b c Data are for the area controlled by the Government of the Republic of Cyprus.'}, {'Serial_Number': 11, 'Reference_Text': ' a b c Excludes Abkhazia and South Ossetia'}, {'Serial_Number': 12, 'Reference_Text': ' a b The name used in the IMF and World Bank reports is \"West Bank and Gaza\".'}, {'Serial_Number': 13, 'Reference_Text': ' The name used by the UN is \"State of Palestine\".'}, {'Serial_Number': 14, 'Reference_Text': ' a b c Excludes data for Transnistria'}]\n"
     ]
    }
   ],
   "source": [
    "ref_list_content = []\n",
    "listcount=1\n",
    "for li in Reference_content.find_all('li'):\n",
    "    # ref_list_content.append(li.text.strip())\n",
    "\n",
    "    # list_of_ref=str(listcount) , li.text.strip().replace(\"^\",\"\")\n",
    "    reference_text=li.text.strip().replace(\"^\",\"\")\n",
    "    # print(reference_text)\n",
    "\n",
    "    ref_list_content.append({\n",
    "        'Serial_Number': listcount,\n",
    "        'Reference_Text': reference_text\n",
    "    })\n",
    "    \n",
    "    # list_of_ref=(list(list_of_ref[listcount]).replace(\".\",\"\"))\n",
    "    listcount+=1\n",
    "print(ref_list_content)"
   ]
  },
  {
   "cell_type": "code",
   "execution_count": 45,
   "metadata": {},
   "outputs": [
    {
     "data": {
      "text/html": [
       "<div>\n",
       "<style scoped>\n",
       "    .dataframe tbody tr th:only-of-type {\n",
       "        vertical-align: middle;\n",
       "    }\n",
       "\n",
       "    .dataframe tbody tr th {\n",
       "        vertical-align: top;\n",
       "    }\n",
       "\n",
       "    .dataframe thead th {\n",
       "        text-align: right;\n",
       "    }\n",
       "</style>\n",
       "<table border=\"1\" class=\"dataframe\">\n",
       "  <thead>\n",
       "    <tr style=\"text-align: right;\">\n",
       "      <th></th>\n",
       "      <th>Serial_Number</th>\n",
       "      <th>Reference_Text</th>\n",
       "    </tr>\n",
       "  </thead>\n",
       "  <tbody>\n",
       "    <tr>\n",
       "      <th>0</th>\n",
       "      <td>1</td>\n",
       "      <td>a b c Figures for China exclude Taiwan, and t...</td>\n",
       "    </tr>\n",
       "    <tr>\n",
       "      <th>1</th>\n",
       "      <td>2</td>\n",
       "      <td>Based on the best available GDP figure for ea...</td>\n",
       "    </tr>\n",
       "    <tr>\n",
       "      <th>2</th>\n",
       "      <td>3</td>\n",
       "      <td>Figures exclude the special administrative re...</td>\n",
       "    </tr>\n",
       "    <tr>\n",
       "      <th>3</th>\n",
       "      <td>4</td>\n",
       "      <td>The name used in the IMF report is \"Taiwan Pr...</td>\n",
       "    </tr>\n",
       "    <tr>\n",
       "      <th>4</th>\n",
       "      <td>5</td>\n",
       "      <td>The name used in the IMF report is \"Hong Kong...</td>\n",
       "    </tr>\n",
       "  </tbody>\n",
       "</table>\n",
       "</div>"
      ],
      "text/plain": [
       "   Serial_Number                                     Reference_Text\n",
       "0              1   a b c Figures for China exclude Taiwan, and t...\n",
       "1              2   Based on the best available GDP figure for ea...\n",
       "2              3   Figures exclude the special administrative re...\n",
       "3              4   The name used in the IMF report is \"Taiwan Pr...\n",
       "4              5   The name used in the IMF report is \"Hong Kong..."
      ]
     },
     "execution_count": 45,
     "metadata": {},
     "output_type": "execute_result"
    }
   ],
   "source": [
    "df=pd.DataFrame(ref_list_content)\n",
    "df.head()"
   ]
  },
  {
   "cell_type": "code",
   "execution_count": 15,
   "metadata": {},
   "outputs": [
    {
     "ename": "ModuleNotFoundError",
     "evalue": "No module named '_version'",
     "output_type": "error",
     "traceback": [
      "\u001b[1;31m---------------------------------------------------------------------------\u001b[0m",
      "\u001b[1;31mModuleNotFoundError\u001b[0m                       Traceback (most recent call last)",
      "Cell \u001b[1;32mIn[15], line 1\u001b[0m\n\u001b[1;32m----> 1\u001b[0m \u001b[38;5;28;01mimport\u001b[39;00m \u001b[38;5;21;01mmysql\u001b[39;00m\u001b[38;5;21;01m.\u001b[39;00m\u001b[38;5;21;01mconnector\u001b[39;00m\n\u001b[0;32m      3\u001b[0m \u001b[38;5;28;01mdef\u001b[39;00m \u001b[38;5;21mmyDB\u001b[39m():\n\u001b[0;32m      4\u001b[0m \u001b[38;5;250m    \u001b[39m\u001b[38;5;124;03m\"\"\"Establish a database connection.\"\"\"\u001b[39;00m\n",
      "File \u001b[1;32m~\\AppData\\Roaming\\Python\\Python312\\site-packages\\mysql\\connector\\__init__.py:34\u001b[0m\n\u001b[0;32m     31\u001b[0m paramstyle \u001b[38;5;241m=\u001b[39m \u001b[38;5;124m'\u001b[39m\u001b[38;5;124mpyformat\u001b[39m\u001b[38;5;124m'\u001b[39m\n\u001b[0;32m     33\u001b[0m \u001b[38;5;66;03m# Read the version from an generated file\u001b[39;00m\n\u001b[1;32m---> 34\u001b[0m \u001b[38;5;28;01mimport\u001b[39;00m \u001b[38;5;21;01m_version\u001b[39;00m\n\u001b[0;32m     35\u001b[0m __version__ \u001b[38;5;241m=\u001b[39m _version\u001b[38;5;241m.\u001b[39mversion\n\u001b[0;32m     37\u001b[0m \u001b[38;5;28;01mfrom\u001b[39;00m \u001b[38;5;21;01mconnection\u001b[39;00m \u001b[38;5;28;01mimport\u001b[39;00m MySQLConnection\n",
      "\u001b[1;31mModuleNotFoundError\u001b[0m: No module named '_version'"
     ]
    }
   ],
   "source": [
    "import mysql.connector\n",
    "\n",
    "def myDB():\n",
    "    \"\"\"Establish a database connection.\"\"\"\n",
    "    dbcon = mysql.connector.connect(\n",
    "        host=\"192.168.29.244\",\n",
    "        user=\"test01\",\n",
    "        password=\"test@123\",\n",
    "        database=\"a\"\n",
    "    )\n",
    "    return dbcon\n",
    "\n",
    "# Create the table\n",
    "def create_table(cursor):\n",
    "    create_table_query = \"\"\"\n",
    "    CREATE TABLE IF NOT EXISTS references (\n",
    "        SerialNumber VARCHAR(10) PRIMARY KEY,\n",
    "        ReferenceText TEXT\n",
    "    )\n",
    "    \"\"\"\n",
    "    cursor.execute(create_table_query)\n",
    "\n",
    "# Insert data into the table\n",
    "def insert_data(cursor, df):\n",
    "    insert_query = \"\"\"\n",
    "    INSERT INTO references (SerialNumber, ReferenceText)\n",
    "    VALUES (%s, %s)\n",
    "    \"\"\"\n",
    "    for _, row in df.iterrows():\n",
    "        cursor.execute(insert_query, (row['SerialNumber'], row['ReferenceText']))\n",
    "\n",
    "# Main process\n",
    "def main():\n",
    "    dbcon = myDB()\n",
    "    cursor = dbcon.cursor()\n",
    "    \n",
    "    # Create table\n",
    "    create_table(cursor)\n",
    "    \n",
    "    # Insert data\n",
    "    insert_data(cursor, df)\n",
    "    \n",
    "    # Commit and close connection\n",
    "    dbcon.commit()\n",
    "    cursor.close()\n",
    "    dbcon.close()\n",
    "\n",
    "if __name__ == \"__main__\":\n",
    "    main()\n",
    "\n"
   ]
  },
  {
   "cell_type": "code",
   "execution_count": 16,
   "metadata": {},
   "outputs": [],
   "source": [
    "%pip uninstall mysql-connector-python"
   ]
  }
 ],
 "metadata": {
  "kernelspec": {
   "display_name": "base",
   "language": "python",
   "name": "python3"
  },
  "language_info": {
   "codemirror_mode": {
    "name": "ipython",
    "version": 3
   },
   "file_extension": ".py",
   "mimetype": "text/x-python",
   "name": "python",
   "nbconvert_exporter": "python",
   "pygments_lexer": "ipython3",
   "version": "3.12.4"
  }
 },
 "nbformat": 4,
 "nbformat_minor": 2
}
