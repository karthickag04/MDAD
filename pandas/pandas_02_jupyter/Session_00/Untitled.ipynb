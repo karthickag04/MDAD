{
 "cells": [
  {
   "cell_type": "code",
   "execution_count": 3,
   "id": "9bbfea76-e051-4724-8af3-75a0357a2f1f",
   "metadata": {},
   "outputs": [
    {
     "name": "stdout",
     "output_type": "stream",
     "text": [
      "       name location     role\n",
      "0  karthick   trichy  trainer\n",
      "             name location     role\n",
      "data_01  karthick   trichy  trainer\n",
      "             name     role\n",
      "data_01  karthick  trainer\n"
     ]
    }
   ],
   "source": [
    "import pandas as pd\n",
    "\n",
    "# declaring data as dictionary\n",
    "data={'name':\"karthick\",\n",
    "      'location':'trichy', 'role':'trainer'}\n",
    "\n",
    "#creating dataframe\n",
    "df=pd.DataFrame(data, index=[0])\n",
    "print(df) #printing dataframe\n",
    "\n",
    "#changeing index from default to assigned\n",
    "df=pd.DataFrame(data, index=['data_01'])\n",
    "print(df)\n",
    "\n",
    "#selecting dataframe by columns - selected two out of three with modified index name\n",
    "df=pd.DataFrame(data, columns=[\"name\",'role'], index=['data_01'])\n",
    "print(df)"
   ]
  },
  {
   "cell_type": "code",
   "execution_count": 7,
   "id": "185c019e-080c-4bac-8a3e-47c67e7122dd",
   "metadata": {},
   "outputs": [
    {
     "name": "stdout",
     "output_type": "stream",
     "text": [
      "      name\n",
      "0    Alice\n",
      "1      Bob\n",
      "2  Charlie\n",
      "3    David\n",
      "       name\n",
      "22    Alice\n",
      "33      Bob\n",
      "44  Charlie\n",
      "55    David\n",
      "       name  Age  Score\n",
      "22    Alice   25     85\n",
      "33      Bob   30     90\n",
      "44  Charlie   35     88\n",
      "55    David   40     92\n"
     ]
    }
   ],
   "source": [
    "import pandas as pd\n",
    "\n",
    "# declaring data as list\n",
    "names = ['Alice', 'Bob', 'Charlie', 'David']\n",
    "\n",
    "\n",
    "# creating dataframe using list\n",
    "df=pd.DataFrame(names,columns=[\"name\"])\n",
    "print(df)\n",
    "\n",
    "#changeing index from default to assigned\n",
    "df=pd.DataFrame(names,columns=[\"name\"], index=[22,33,44,55])\n",
    "print(df)\n",
    "\n",
    "#adding additional columns to the existing data\n",
    "ages = [25, 30, 35, 40]\n",
    "scores = [85, 90, 88, 92]\n",
    "\n",
    "df['Age'] = ages\n",
    "df['Score'] = scores\n",
    "\n",
    "print(df)\n",
    "\n"
   ]
  },
  {
   "cell_type": "code",
   "execution_count": 8,
   "id": "d41e4eaa-800b-4fe6-bd93-595b8a5f1d5d",
   "metadata": {},
   "outputs": [
    {
     "name": "stdout",
     "output_type": "stream",
     "text": [
      "0    10\n",
      "1    20\n",
      "2    30\n",
      "dtype: object\n",
      "sale 2010    10\n",
      "sale 2011    20\n",
      "sale 2020    30\n",
      "dtype: object\n"
     ]
    }
   ],
   "source": [
    "import pandas as pd\n",
    "\n",
    "# declaring data as list\n",
    "data = [\"10\",\"20\", \"30\"]\n",
    "#converting normal list data to series\n",
    "slist=pd.Series(data)\n",
    "print(slist)\n",
    "\n",
    "# changeing defalult index numbers to custom names\n",
    "slist1=pd.Series(data, index=[\"sale 2010\",\"sale 2011\", 'sale 2020'])\n",
    "print(slist1)"
   ]
  },
  {
   "cell_type": "code",
   "execution_count": 9,
   "id": "e7bb53e5-6077-4018-9b46-23e1d004ee87",
   "metadata": {},
   "outputs": [
    {
     "name": "stdout",
     "output_type": "stream",
     "text": [
      "2010     [10, 1, 2, 2, 3, 3, 5]\n",
      "2020     [20, 1, 2, 2, 3, 3, 5]\n",
      "2011    [301, 2, 2, 3, 3, 5, 2]\n",
      "dtype: object\n",
      "<class 'pandas.core.series.Series'>\n"
     ]
    }
   ],
   "source": [
    "#declaring data as Dict\n",
    "data2={\n",
    "    '2010':[10,1,2,2,3,3,5],\n",
    "    '2020':[20,1,2,2,3,3,5],\n",
    "    '2011':[301,2,2,3,3,5,2]\n",
    "       }\n",
    "# converting normal dict data to series using pandas\n",
    "slist2=pd.Series(data2)\n",
    "print(slist2)\n",
    "# knowing the type of data like (series)\n",
    "print(type(slist2))"
   ]
  },
  {
   "cell_type": "code",
   "execution_count": null,
   "id": "6029e08a-8609-4494-9d43-748338d7f697",
   "metadata": {},
   "outputs": [],
   "source": []
  }
 ],
 "metadata": {
  "kernelspec": {
   "display_name": "Python 3 (ipykernel)",
   "language": "python",
   "name": "python3"
  },
  "language_info": {
   "codemirror_mode": {
    "name": "ipython",
    "version": 3
   },
   "file_extension": ".py",
   "mimetype": "text/x-python",
   "name": "python",
   "nbconvert_exporter": "python",
   "pygments_lexer": "ipython3",
   "version": "3.11.7"
  }
 },
 "nbformat": 4,
 "nbformat_minor": 5
}
