{
 "cells": [
  {
   "cell_type": "markdown",
   "metadata": {},
   "source": [
    "## Encoding Methods"
   ]
  },
  {
   "cell_type": "code",
   "execution_count": 10,
   "metadata": {},
   "outputs": [],
   "source": [
    "# Importing necessary libraries\n",
    "import pandas as pd\n",
    "from sklearn.preprocessing import LabelEncoder, OneHotEncoder, OrdinalEncoder\n",
    "from category_encoders import BinaryEncoder, TargetEncoder\n",
    "\n"
   ]
  },
  {
   "cell_type": "code",
   "execution_count": 2,
   "metadata": {},
   "outputs": [],
   "source": [
    "# data\n",
    "\n",
    "# ID,Color,Size,Shape\n",
    "# 1,Red,Large,Circle\n",
    "# 2,Green,Medium,Square\n",
    "# 3,Blue,Small,Triangle\n",
    "# 4,Red,Medium,Square\n",
    "# 5,Green,Small,Circle\n",
    "# 6,Blue,Large,Triangle\n"
   ]
  },
  {
   "cell_type": "code",
   "execution_count": 5,
   "metadata": {},
   "outputs": [
    {
     "name": "stdout",
     "output_type": "stream",
     "text": [
      "Original Dataset:\n",
      "   ID  Color    Size     Shape\n",
      "0   1    Red   Large    Circle\n",
      "1   2  Green  Medium    Square\n",
      "2   3   Blue   Small  Triangle\n",
      "3   4    Red  Medium    Square\n",
      "4   5  Green   Small    Circle\n",
      "5   6   Blue   Large  Triangle\n"
     ]
    }
   ],
   "source": [
    "\n",
    "# Sample dataset for encoding\n",
    "data = {'ID': [1, 2, 3, 4, 5, 6],\n",
    "        'Color': ['Red', 'Green', 'Blue', 'Red', 'Green', 'Blue'],\n",
    "        'Size': ['Large', 'Medium', 'Small', 'Medium', 'Small', 'Large'],\n",
    "        'Shape': ['Circle', 'Square', 'Triangle', 'Square', 'Circle', 'Triangle']}\n",
    "\n",
    "# Create a DataFrame\n",
    "df = pd.DataFrame(data)\n",
    "\n",
    "# Display the dataset\n",
    "print(\"Original Dataset:\")\n",
    "print(df)\n"
   ]
  },
  {
   "cell_type": "markdown",
   "metadata": {},
   "source": [
    "## Label Encoding"
   ]
  },
  {
   "cell_type": "code",
   "execution_count": 6,
   "metadata": {},
   "outputs": [
    {
     "name": "stdout",
     "output_type": "stream",
     "text": [
      "\n",
      "Label Encoded 'Color' column:\n",
      "   Color  Color_Label\n",
      "0    Red            2\n",
      "1  Green            1\n",
      "2   Blue            0\n",
      "3    Red            2\n",
      "4  Green            1\n",
      "5   Blue            0\n"
     ]
    }
   ],
   "source": [
    "\n",
    "# --- Label Encoding (Single column encoding) ---\n",
    "label_encoder = LabelEncoder()\n",
    "df['Color_Label'] = label_encoder.fit_transform(df['Color'])\n",
    "\n",
    "print(\"\\nLabel Encoded 'Color' column:\")\n",
    "print(df[['Color', 'Color_Label']])\n",
    "\n",
    "# Explanation:\n",
    "# Label encoding converts categorical data into numerical format. Each unique category gets a unique integer value.\n",
    "# 'Red' -> 2, 'Green' -> 1, 'Blue' -> 0\n",
    "\n"
   ]
  },
  {
   "cell_type": "markdown",
   "metadata": {},
   "source": [
    "##  One-Hot Encoding"
   ]
  },
  {
   "cell_type": "code",
   "execution_count": 7,
   "metadata": {},
   "outputs": [
    {
     "name": "stdout",
     "output_type": "stream",
     "text": [
      "\n",
      "One-Hot Encoded 'Color' and 'Size' columns:\n",
      "   Color_Green  Color_Red  Size_Medium  Size_Small\n",
      "0        False       True        False       False\n",
      "1         True      False         True       False\n",
      "2        False      False        False        True\n",
      "3        False       True         True       False\n",
      "4         True      False        False        True\n",
      "5        False      False        False       False\n"
     ]
    }
   ],
   "source": [
    "# --- One-Hot Encoding ---\n",
    "one_hot_encoder = pd.get_dummies(df[['Color', 'Size']], drop_first=True)\n",
    "\n",
    "print(\"\\nOne-Hot Encoded 'Color' and 'Size' columns:\")\n",
    "print(one_hot_encoder)\n",
    "\n",
    "# Explanation:\n",
    "# One-Hot encoding creates a binary column for each category of the feature.\n",
    "# `drop_first=True` removes one of the categories to avoid multicollinearity.\n",
    "# 'Color' -> [Color_Green, Color_Red], 'Size' -> [Size_Medium, Size_Small]\n",
    "\n"
   ]
  },
  {
   "cell_type": "markdown",
   "metadata": {},
   "source": [
    "## --  Ordinal Encoding --\n",
    "\n",
    "    # Explanation:\n",
    "    # Ordinal encoding assigns a numerical value to each category based on the order provided.\n",
    "    # Here 'Small' -> 0, 'Medium' -> 1, 'Large' -> 2"
   ]
  },
  {
   "cell_type": "code",
   "execution_count": 8,
   "metadata": {},
   "outputs": [
    {
     "name": "stdout",
     "output_type": "stream",
     "text": [
      "\n",
      "Ordinal Encoded 'Size' column:\n",
      "     Size  Size_Ordinal\n",
      "0   Large           2.0\n",
      "1  Medium           1.0\n",
      "2   Small           0.0\n",
      "3  Medium           1.0\n",
      "4   Small           0.0\n",
      "5   Large           2.0\n"
     ]
    }
   ],
   "source": [
    "# --- Ordinal Encoding (For Ordinal categorical data) ---\n",
    "ordinal_encoder = OrdinalEncoder(categories=[['Small', 'Medium', 'Large']])\n",
    "df['Size_Ordinal'] = ordinal_encoder.fit_transform(df[['Size']])\n",
    "\n",
    "print(\"\\nOrdinal Encoded 'Size' column:\")\n",
    "print(df[['Size', 'Size_Ordinal']])\n",
    "\n",
    "\n",
    "\n"
   ]
  },
  {
   "cell_type": "markdown",
   "metadata": {},
   "source": [
    "# --- Frequency Encoding ---\n",
    "    # Explanation:\n",
    "    # Frequency encoding assigns the count of each category's occurrence in the dataset.\n",
    "    # Example: 'Red' appears 2 times, so it's encoded as 2.\n"
   ]
  },
  {
   "cell_type": "code",
   "execution_count": null,
   "metadata": {},
   "outputs": [],
   "source": [
    "# --- Frequency Encoding ---\n",
    "df['Color_Frequency'] = df.groupby('Color')['Color'].transform('count')\n",
    "print(\"\\nFrequency Encoded 'Color' column:\")\n",
    "print(df[['Color', 'Color_Frequency']])\n",
    "\n",
    "# Explanation:\n",
    "# Frequency encoding assigns the count of each category's occurrence in the dataset.\n",
    "# Example: 'Red' appears 2 times, so it's encoded as 2.\n"
   ]
  },
  {
   "cell_type": "markdown",
   "metadata": {},
   "source": [
    "# --- Binary Encoding ---\n",
    "\n",
    "\n",
    "    # Explanation:\n",
    "    # Binary encoding converts categories into binary representations.\n",
    "    # Each category is first encoded as an integer and then transformed into binary.\n"
   ]
  },
  {
   "cell_type": "code",
   "execution_count": 11,
   "metadata": {},
   "outputs": [
    {
     "name": "stdout",
     "output_type": "stream",
     "text": [
      "\n",
      "Binary Encoded 'Color' column:\n",
      "   Color_0  Color_1\n",
      "0        0        1\n",
      "1        1        0\n",
      "2        1        1\n",
      "3        0        1\n",
      "4        1        0\n",
      "5        1        1\n"
     ]
    }
   ],
   "source": [
    "# --- Binary Encoding ---\n",
    "binary_encoder = BinaryEncoder(cols=['Color'])\n",
    "df_binary = binary_encoder.fit_transform(df['Color'])\n",
    "\n",
    "print(\"\\nBinary Encoded 'Color' column:\")\n",
    "print(df_binary)\n",
    "\n"
   ]
  },
  {
   "cell_type": "markdown",
   "metadata": {},
   "source": [
    "# --- Target Encoding ---\n",
    "    # Assume we have a target variable, let's create a dummy one for this example.\n",
    "\n",
    "    # Explanation:\n",
    "    # Target encoding assigns the mean value of the target variable for each category.\n",
    "    # For example, if 'Red' has target values of [1, 0], its mean will be (1+0)/2 = 0.5.\n"
   ]
  },
  {
   "cell_type": "code",
   "execution_count": 12,
   "metadata": {},
   "outputs": [
    {
     "name": "stdout",
     "output_type": "stream",
     "text": [
      "\n",
      "Target Encoded 'Color' column based on 'Target' variable:\n",
      "   Color  Color_TargetEncoded\n",
      "0    Red                  0.5\n",
      "1  Green                  0.5\n",
      "2   Blue                  0.5\n",
      "3    Red                  0.5\n",
      "4  Green                  0.5\n",
      "5   Blue                  0.5\n"
     ]
    }
   ],
   "source": [
    "# --- Target Encoding ---\n",
    "df['Target'] = [1, 0, 1, 0, 1, 0]\n",
    "\n",
    "target_encoder = TargetEncoder(cols=['Color'])\n",
    "df['Color_TargetEncoded'] = target_encoder.fit_transform(df['Color'], df['Target'])\n",
    "\n",
    "print(\"\\nTarget Encoded 'Color' column based on 'Target' variable:\")\n",
    "print(df[['Color', 'Color_TargetEncoded']])\n"
   ]
  },
  {
   "cell_type": "markdown",
   "metadata": {},
   "source": [
    "# --- Hashing Encoding ---\n",
    "    # Hashing encoding is particularly useful when we have a large number of categories.\n",
    "\n",
    "    # Explanation:\n",
    "    # Hashing encoding applies a hash function to convert each category into a number of binary columns.\n",
    "    # It is memory efficient, but can introduce collisions.\n"
   ]
  },
  {
   "cell_type": "code",
   "execution_count": 15,
   "metadata": {},
   "outputs": [
    {
     "name": "stdout",
     "output_type": "stream",
     "text": [
      "\n",
      "Hashing Encoded 'Color' column:\n",
      "   hash1  hash2  hash3\n",
      "0    0.0    0.0    1.0\n",
      "1    0.0    1.0    0.0\n",
      "2   -1.0    0.0    0.0\n",
      "3    0.0    0.0    1.0\n",
      "4    0.0    1.0    0.0\n",
      "5   -1.0    0.0    0.0\n"
     ]
    }
   ],
   "source": [
    "# --- Hashing Encoding ---\n",
    "hasher = FeatureHasher(input_type='string', n_features=3)  # n_features can be changed based on requirement\n",
    "hashed_features = hasher.transform(df[['Color']].astype(str).values)\n",
    "\n",
    "df_hashed = pd.DataFrame(hashed_features.toarray(), columns=['hash1', 'hash2', 'hash3'])\n",
    "\n",
    "print(\"\\nHashing Encoded 'Color' column:\")\n",
    "print(df_hashed)\n",
    "\n"
   ]
  },
  {
   "cell_type": "markdown",
   "metadata": {},
   "source": [
    "## Output the final dataset with all encodings applied"
   ]
  },
  {
   "cell_type": "code",
   "execution_count": 13,
   "metadata": {},
   "outputs": [
    {
     "ename": "NameError",
     "evalue": "name 'df_hashed' is not defined",
     "output_type": "error",
     "traceback": [
      "\u001b[1;31m---------------------------------------------------------------------------\u001b[0m",
      "\u001b[1;31mNameError\u001b[0m                                 Traceback (most recent call last)",
      "Cell \u001b[1;32mIn[13], line 2\u001b[0m\n\u001b[0;32m      1\u001b[0m \u001b[38;5;66;03m# Output the final dataset with all encodings applied\u001b[39;00m\n\u001b[1;32m----> 2\u001b[0m final_df \u001b[38;5;241m=\u001b[39m pd\u001b[38;5;241m.\u001b[39mconcat([df, one_hot_encoder,df_binary, df_hashed], axis\u001b[38;5;241m=\u001b[39m\u001b[38;5;241m1\u001b[39m)\n\u001b[0;32m      4\u001b[0m \u001b[38;5;28mprint\u001b[39m(\u001b[38;5;124m\"\u001b[39m\u001b[38;5;130;01m\\n\u001b[39;00m\u001b[38;5;124mFinal Dataset with Encodings:\u001b[39m\u001b[38;5;124m\"\u001b[39m)\n\u001b[0;32m      5\u001b[0m \u001b[38;5;28mprint\u001b[39m(final_df)\n",
      "\u001b[1;31mNameError\u001b[0m: name 'df_hashed' is not defined"
     ]
    }
   ],
   "source": [
    "# Output the final dataset with all encodings applied\n",
    "final_df = pd.concat([df, one_hot_encoder,df_binary, df_hashed], axis=1)\n",
    "\n",
    "print(\"\\nFinal Dataset with Encodings:\")\n",
    "print(final_df)\n"
   ]
  }
 ],
 "metadata": {
  "kernelspec": {
   "display_name": "base",
   "language": "python",
   "name": "python3"
  },
  "language_info": {
   "codemirror_mode": {
    "name": "ipython",
    "version": 3
   },
   "file_extension": ".py",
   "mimetype": "text/x-python",
   "name": "python",
   "nbconvert_exporter": "python",
   "pygments_lexer": "ipython3",
   "version": "3.11.7"
  }
 },
 "nbformat": 4,
 "nbformat_minor": 2
}
