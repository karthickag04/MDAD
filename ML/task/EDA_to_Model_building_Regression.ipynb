{
  "cells": [
    {
      "cell_type": "code",
      "execution_count": 1,
      "metadata": {
        "id": "_pEDBUnhd3qw"
      },
      "outputs": [],
      "source": [
        "import pandas as pd\n",
        "import numpy as np\n",
        "import matplotlib.pyplot as plt\n",
        "import seaborn as sns"
      ]
    },
    {
      "cell_type": "code",
      "execution_count": 27,
      "metadata": {
        "id": "-ScnlBebu158"
      },
      "outputs": [],
      "source": [
        "# df = pd.read_csv('data/RealEstateDataset.csv')\n",
        "\n",
        "# Skip bad lines by using the 'on_bad_lines' parameter\n",
        "# df = pd.read_csv('data/RealEstateDataset.csv', on_bad_lines='skip')\n",
        "\n",
        "\n",
        "df = pd.read_csv('data/RealEstateDataset.csv', sep=';')  # Use the correct delimiter\n"
      ]
    },
    {
      "cell_type": "code",
      "execution_count": 7,
      "metadata": {
        "colab": {
          "base_uri": "https://localhost:8080/",
          "height": 272
        },
        "id": "Hz4ke2U8vDNs",
        "outputId": "9d5640e2-4e2a-461b-d6e2-04b94b06285e"
      },
      "outputs": [
        {
          "data": {
            "text/html": [
              "<div>\n",
              "<style scoped>\n",
              "    .dataframe tbody tr th:only-of-type {\n",
              "        vertical-align: middle;\n",
              "    }\n",
              "\n",
              "    .dataframe tbody tr th {\n",
              "        vertical-align: top;\n",
              "    }\n",
              "\n",
              "    .dataframe thead th {\n",
              "        text-align: right;\n",
              "    }\n",
              "</style>\n",
              "<table border=\"1\" class=\"dataframe\">\n",
              "  <thead>\n",
              "    <tr style=\"text-align: right;\">\n",
              "      <th></th>\n",
              "      <th>name_nsi</th>\n",
              "      <th>price</th>\n",
              "      <th>index</th>\n",
              "      <th>environment</th>\n",
              "      <th>quality_of_living</th>\n",
              "      <th>safety</th>\n",
              "      <th>transport</th>\n",
              "      <th>services</th>\n",
              "      <th>relax</th>\n",
              "      <th>condition</th>\n",
              "      <th>...</th>\n",
              "      <th>last_reconstruction</th>\n",
              "      <th>total_floors</th>\n",
              "      <th>floor</th>\n",
              "      <th>lift</th>\n",
              "      <th>balkonies</th>\n",
              "      <th>loggia</th>\n",
              "      <th>cellar</th>\n",
              "      <th>type</th>\n",
              "      <th>rooms</th>\n",
              "      <th>district</th>\n",
              "    </tr>\n",
              "  </thead>\n",
              "  <tbody>\n",
              "    <tr>\n",
              "      <th>0</th>\n",
              "      <td>Semerovo</td>\n",
              "      <td>42000</td>\n",
              "      <td>NaN</td>\n",
              "      <td>NaN</td>\n",
              "      <td>NaN</td>\n",
              "      <td>NaN</td>\n",
              "      <td>NaN</td>\n",
              "      <td>NaN</td>\n",
              "      <td>NaN</td>\n",
              "      <td>Original condition</td>\n",
              "      <td>...</td>\n",
              "      <td>NaN</td>\n",
              "      <td>NaN</td>\n",
              "      <td>NaN</td>\n",
              "      <td>0</td>\n",
              "      <td>NaN</td>\n",
              "      <td>NaN</td>\n",
              "      <td>0</td>\n",
              "      <td>3-room apartment</td>\n",
              "      <td>3</td>\n",
              "      <td>Nové Zámky</td>\n",
              "    </tr>\n",
              "    <tr>\n",
              "      <th>1</th>\n",
              "      <td>Semerovo</td>\n",
              "      <td>42000</td>\n",
              "      <td>NaN</td>\n",
              "      <td>NaN</td>\n",
              "      <td>NaN</td>\n",
              "      <td>NaN</td>\n",
              "      <td>NaN</td>\n",
              "      <td>NaN</td>\n",
              "      <td>NaN</td>\n",
              "      <td>Original condition</td>\n",
              "      <td>...</td>\n",
              "      <td>NaN</td>\n",
              "      <td>2.0</td>\n",
              "      <td>NaN</td>\n",
              "      <td>0</td>\n",
              "      <td>NaN</td>\n",
              "      <td>NaN</td>\n",
              "      <td>0</td>\n",
              "      <td>3-room apartment</td>\n",
              "      <td>3</td>\n",
              "      <td>Nové Zámky</td>\n",
              "    </tr>\n",
              "    <tr>\n",
              "      <th>2</th>\n",
              "      <td>Štúrovo</td>\n",
              "      <td>107000</td>\n",
              "      <td>8,3</td>\n",
              "      <td>NaN</td>\n",
              "      <td>NaN</td>\n",
              "      <td>NaN</td>\n",
              "      <td>NaN</td>\n",
              "      <td>NaN</td>\n",
              "      <td>NaN</td>\n",
              "      <td>Partial reconstruction</td>\n",
              "      <td>...</td>\n",
              "      <td>NaN</td>\n",
              "      <td>5.0</td>\n",
              "      <td>3.0</td>\n",
              "      <td>0</td>\n",
              "      <td>NaN</td>\n",
              "      <td>NaN</td>\n",
              "      <td>0</td>\n",
              "      <td>1-room apartment</td>\n",
              "      <td>1</td>\n",
              "      <td>Nové Zámky</td>\n",
              "    </tr>\n",
              "    <tr>\n",
              "      <th>3</th>\n",
              "      <td>Štúrovo</td>\n",
              "      <td>105000</td>\n",
              "      <td>NaN</td>\n",
              "      <td>NaN</td>\n",
              "      <td>NaN</td>\n",
              "      <td>NaN</td>\n",
              "      <td>NaN</td>\n",
              "      <td>NaN</td>\n",
              "      <td>NaN</td>\n",
              "      <td>Complete reconstruction</td>\n",
              "      <td>...</td>\n",
              "      <td>NaN</td>\n",
              "      <td>7.0</td>\n",
              "      <td>4.0</td>\n",
              "      <td>1</td>\n",
              "      <td>NaN</td>\n",
              "      <td>NaN</td>\n",
              "      <td>0</td>\n",
              "      <td>3-room apartment</td>\n",
              "      <td>3</td>\n",
              "      <td>Nové Zámky</td>\n",
              "    </tr>\n",
              "    <tr>\n",
              "      <th>4</th>\n",
              "      <td>Štúrovo</td>\n",
              "      <td>82000</td>\n",
              "      <td>NaN</td>\n",
              "      <td>NaN</td>\n",
              "      <td>NaN</td>\n",
              "      <td>NaN</td>\n",
              "      <td>NaN</td>\n",
              "      <td>NaN</td>\n",
              "      <td>NaN</td>\n",
              "      <td>Partial reconstruction</td>\n",
              "      <td>...</td>\n",
              "      <td>2018.0</td>\n",
              "      <td>NaN</td>\n",
              "      <td>2.0</td>\n",
              "      <td>0</td>\n",
              "      <td>NaN</td>\n",
              "      <td>NaN</td>\n",
              "      <td>0</td>\n",
              "      <td>2-room apartment</td>\n",
              "      <td>2</td>\n",
              "      <td>Nové Zámky</td>\n",
              "    </tr>\n",
              "  </tbody>\n",
              "</table>\n",
              "<p>5 rows × 27 columns</p>\n",
              "</div>"
            ],
            "text/plain": [
              "   name_nsi   price index environment quality_of_living safety transport  \\\n",
              "0  Semerovo   42000   NaN         NaN               NaN    NaN       NaN   \n",
              "1  Semerovo   42000   NaN         NaN               NaN    NaN       NaN   \n",
              "2   Štúrovo  107000   8,3         NaN               NaN    NaN       NaN   \n",
              "3   Štúrovo  105000   NaN         NaN               NaN    NaN       NaN   \n",
              "4   Štúrovo   82000   NaN         NaN               NaN    NaN       NaN   \n",
              "\n",
              "  services relax                condition  ... last_reconstruction  \\\n",
              "0      NaN   NaN       Original condition  ...                 NaN   \n",
              "1      NaN   NaN       Original condition  ...                 NaN   \n",
              "2      NaN   NaN   Partial reconstruction  ...                 NaN   \n",
              "3      NaN   NaN  Complete reconstruction  ...                 NaN   \n",
              "4      NaN   NaN   Partial reconstruction  ...              2018.0   \n",
              "\n",
              "   total_floors  floor lift balkonies loggia  cellar              type  rooms  \\\n",
              "0           NaN    NaN    0       NaN    NaN       0  3-room apartment      3   \n",
              "1           2.0    NaN    0       NaN    NaN       0  3-room apartment      3   \n",
              "2           5.0    3.0    0       NaN    NaN       0  1-room apartment      1   \n",
              "3           7.0    4.0    1       NaN    NaN       0  3-room apartment      3   \n",
              "4           NaN    2.0    0       NaN    NaN       0  2-room apartment      2   \n",
              "\n",
              "     district  \n",
              "0  Nové Zámky  \n",
              "1  Nové Zámky  \n",
              "2  Nové Zámky  \n",
              "3  Nové Zámky  \n",
              "4  Nové Zámky  \n",
              "\n",
              "[5 rows x 27 columns]"
            ]
          },
          "execution_count": 7,
          "metadata": {},
          "output_type": "execute_result"
        }
      ],
      "source": [
        "df.head(5)"
      ]
    },
    {
      "cell_type": "code",
      "execution_count": 28,
      "metadata": {
        "colab": {
          "base_uri": "https://localhost:8080/"
        },
        "id": "S3X09-ItvFar",
        "outputId": "3d1d6f1e-30b9-402a-ea9f-6aa12fbb0181"
      },
      "outputs": [
        {
          "name": "stdout",
          "output_type": "stream",
          "text": [
            "<class 'pandas.core.frame.DataFrame'>\n",
            "RangeIndex: 15403 entries, 0 to 15402\n",
            "Data columns (total 27 columns):\n",
            " #   Column               Non-Null Count  Dtype  \n",
            "---  ------               --------------  -----  \n",
            " 0   name_nsi             15403 non-null  object \n",
            " 1   price                15403 non-null  int64  \n",
            " 2   index                5162 non-null   object \n",
            " 3   environment          4132 non-null   object \n",
            " 4   quality_of_living    4132 non-null   object \n",
            " 5   safety               4132 non-null   object \n",
            " 6   transport            4132 non-null   object \n",
            " 7   services             4132 non-null   object \n",
            " 8   relax                4132 non-null   object \n",
            " 9   condition            15076 non-null  object \n",
            " 10  area                 14687 non-null  object \n",
            " 11  energy_costs         980 non-null    float64\n",
            " 12  provision            15403 non-null  int64  \n",
            " 13  certificate          6445 non-null   object \n",
            " 14  construction_type    2367 non-null   object \n",
            " 15  orientation          1023 non-null   object \n",
            " 16  year_built           3878 non-null   float64\n",
            " 17  last_reconstruction  682 non-null    float64\n",
            " 18  total_floors         7286 non-null   float64\n",
            " 19  floor                8316 non-null   float64\n",
            " 20  lift                 15403 non-null  int64  \n",
            " 21  balkonies            1767 non-null   float64\n",
            " 22  loggia               1520 non-null   float64\n",
            " 23  cellar               15403 non-null  int64  \n",
            " 24  type                 15403 non-null  object \n",
            " 25  rooms                15403 non-null  int64  \n",
            " 26  district             15403 non-null  object \n",
            "dtypes: float64(7), int64(5), object(15)\n",
            "memory usage: 3.2+ MB\n"
          ]
        }
      ],
      "source": [
        "df.info()"
      ]
    },
    {
      "cell_type": "markdown",
      "metadata": {
        "id": "08gOmS6CvZ1w"
      },
      "source": [
        "#### Data Summary"
      ]
    },
    {
      "cell_type": "code",
      "execution_count": 29,
      "metadata": {},
      "outputs": [
        {
          "name": "stdout",
          "output_type": "stream",
          "text": [
            "Data Information:\n",
            "\n",
            "<class 'pandas.core.frame.DataFrame'>\n",
            "RangeIndex: 15403 entries, 0 to 15402\n",
            "Data columns (total 27 columns):\n",
            " #   Column               Non-Null Count  Dtype  \n",
            "---  ------               --------------  -----  \n",
            " 0   name_nsi             15403 non-null  object \n",
            " 1   price                15403 non-null  int64  \n",
            " 2   index                5162 non-null   object \n",
            " 3   environment          4132 non-null   object \n",
            " 4   quality_of_living    4132 non-null   object \n",
            " 5   safety               4132 non-null   object \n",
            " 6   transport            4132 non-null   object \n",
            " 7   services             4132 non-null   object \n",
            " 8   relax                4132 non-null   object \n",
            " 9   condition            15076 non-null  object \n",
            " 10  area                 14687 non-null  object \n",
            " 11  energy_costs         980 non-null    float64\n",
            " 12  provision            15403 non-null  int64  \n",
            " 13  certificate          6445 non-null   object \n",
            " 14  construction_type    2367 non-null   object \n",
            " 15  orientation          1023 non-null   object \n",
            " 16  year_built           3878 non-null   float64\n",
            " 17  last_reconstruction  682 non-null    float64\n",
            " 18  total_floors         7286 non-null   float64\n",
            " 19  floor                8316 non-null   float64\n",
            " 20  lift                 15403 non-null  int64  \n",
            " 21  balkonies            1767 non-null   float64\n",
            " 22  loggia               1520 non-null   float64\n",
            " 23  cellar               15403 non-null  int64  \n",
            " 24  type                 15403 non-null  object \n",
            " 25  rooms                15403 non-null  int64  \n",
            " 26  district             15403 non-null  object \n",
            "dtypes: float64(7), int64(5), object(15)\n",
            "memory usage: 3.2+ MB\n"
          ]
        }
      ],
      "source": [
        "# 1. Data Summary\n",
        "print(\"Data Information:\\n\")\n",
        "df.info()  # Summary of the dataset\n",
        "\n",
        "\n"
      ]
    },
    {
      "cell_type": "code",
      "execution_count": 30,
      "metadata": {},
      "outputs": [
        {
          "data": {
            "text/plain": [
              "4508      68,7\n",
              "9370        63\n",
              "4526        64\n",
              "11284       64\n",
              "4686     75,67\n",
              "15039      139\n",
              "8644        68\n",
              "12042       55\n",
              "6954        47\n",
              "1253        49\n",
              "5331     52,09\n",
              "10961       27\n",
              "3060        30\n",
              "2936     110,1\n",
              "14526       40\n",
              "8075        62\n",
              "1335        90\n",
              "9954        36\n",
              "7947     59,27\n",
              "777         55\n",
              "Name: area, dtype: object"
            ]
          },
          "execution_count": 30,
          "metadata": {},
          "output_type": "execute_result"
        }
      ],
      "source": [
        "df['area'].sample(20)"
      ]
    },
    {
      "cell_type": "code",
      "execution_count": 31,
      "metadata": {},
      "outputs": [
        {
          "name": "stdout",
          "output_type": "stream",
          "text": [
            "\n",
            "Data Description:\n",
            "\n",
            "              price  energy_costs     provision    year_built  \\\n",
            "count  1.540300e+04    980.000000  15403.000000   3878.000000   \n",
            "mean   1.652057e+05    150.620408      0.156528   1901.702166   \n",
            "std    1.629736e+05     52.324348      0.363367    499.062919   \n",
            "min    1.150000e+04     20.000000      0.000000      1.000000   \n",
            "25%    9.990000e+04    110.000000      0.000000   1971.000000   \n",
            "50%    1.369000e+05    150.000000      0.000000   1980.000000   \n",
            "75%    1.900000e+05    190.000000      0.000000   2020.000000   \n",
            "max    9.936000e+06    365.000000      1.000000  19741.000000   \n",
            "\n",
            "       last_reconstruction  total_floors        floor          lift  \\\n",
            "count           682.000000   7286.000000  8316.000000  15403.000000   \n",
            "mean           2018.302053      5.610760     3.494108      0.271960   \n",
            "std               6.011953      3.662984     2.627088      0.444984   \n",
            "min            1968.000000      1.000000    -7.000000      0.000000   \n",
            "25%            2016.000000      3.000000     2.000000      0.000000   \n",
            "50%            2020.000000      5.000000     3.000000      0.000000   \n",
            "75%            2023.000000      8.000000     5.000000      1.000000   \n",
            "max            2024.000000     46.000000    34.000000      1.000000   \n",
            "\n",
            "         balkonies       loggia        cellar         rooms  \n",
            "count  1767.000000  1520.000000  15403.000000  15403.000000  \n",
            "mean      1.114318     1.107237      0.014802      2.481919  \n",
            "std       0.388763     0.360601      0.120765      0.892906  \n",
            "min       1.000000     1.000000      0.000000      1.000000  \n",
            "25%       1.000000     1.000000      0.000000      2.000000  \n",
            "50%       1.000000     1.000000      0.000000      3.000000  \n",
            "75%       1.000000     1.000000      0.000000      3.000000  \n",
            "max       6.000000     5.000000      1.000000      5.000000  \n"
          ]
        }
      ],
      "source": [
        "print(\"\\nData Description:\\n\")\n",
        "print(df.describe())  # Statistical description"
      ]
    },
    {
      "cell_type": "code",
      "execution_count": 32,
      "metadata": {},
      "outputs": [
        {
          "name": "stdout",
          "output_type": "stream",
          "text": [
            "                                 name_nsi index environment quality_of_living  \\\n",
            "count                               15403  5162        4132              4132   \n",
            "unique                                598    58          58                54   \n",
            "top     Bratislava - mestská časť Ružinov   8,1           8               9,4   \n",
            "freq                                  979   295         292               463   \n",
            "\n",
            "       safety transport services relax                condition   area  \\\n",
            "count    4132      4132     4132  4132                    15076  14687   \n",
            "unique     69        74       80    76                        6   2746   \n",
            "top        10       9,3      9,4   7,1  Complete reconstruction     70   \n",
            "freq      842       734      212   182                     4389    319   \n",
            "\n",
            "       certificate construction_type orientation              type  \\\n",
            "count         6445              2367        1023             15403   \n",
            "unique           8                11           8                 7   \n",
            "top           none             Brick   Southwest  3-room apartment   \n",
            "freq          3748               988         219              6171   \n",
            "\n",
            "             district  \n",
            "count           15403  \n",
            "unique             79  \n",
            "top     Bratislava II  \n",
            "freq             1360  \n"
          ]
        }
      ],
      "source": [
        "\n",
        "print(df.describe(include='object'))  # Statistical description"
      ]
    },
    {
      "cell_type": "markdown",
      "metadata": {},
      "source": [
        "### 2. Check for Missing Values"
      ]
    },
    {
      "cell_type": "code",
      "execution_count": 33,
      "metadata": {},
      "outputs": [
        {
          "name": "stdout",
          "output_type": "stream",
          "text": [
            "\n",
            "Missing Values:\n",
            "\n",
            "name_nsi                   0\n",
            "price                      0\n",
            "index                  10241\n",
            "environment            11271\n",
            "quality_of_living      11271\n",
            "safety                 11271\n",
            "transport              11271\n",
            "services               11271\n",
            "relax                  11271\n",
            "condition                327\n",
            "area                     716\n",
            "energy_costs           14423\n",
            "provision                  0\n",
            "certificate             8958\n",
            "construction_type      13036\n",
            "orientation            14380\n",
            "year_built             11525\n",
            "last_reconstruction    14721\n",
            "total_floors            8117\n",
            "floor                   7087\n",
            "lift                       0\n",
            "balkonies              13636\n",
            "loggia                 13883\n",
            "cellar                     0\n",
            "type                       0\n",
            "rooms                      0\n",
            "district                   0\n",
            "dtype: int64\n"
          ]
        }
      ],
      "source": [
        "# 2. Check for Missing Values\n",
        "print(\"\\nMissing Values:\\n\")\n",
        "print(df.isnull().sum())\n",
        "\n"
      ]
    },
    {
      "cell_type": "code",
      "execution_count": 34,
      "metadata": {},
      "outputs": [
        {
          "data": {
            "text/plain": [
              "Index(['name_nsi', 'price', 'index', 'environment', 'quality_of_living',\n",
              "       'safety', 'transport', 'services', 'relax', 'condition', 'area',\n",
              "       'energy_costs', 'provision', 'certificate', 'construction_type',\n",
              "       'orientation', 'year_built', 'last_reconstruction', 'total_floors',\n",
              "       'floor', 'lift', 'balkonies', 'loggia', 'cellar', 'type', 'rooms',\n",
              "       'district'],\n",
              "      dtype='object')"
            ]
          },
          "execution_count": 34,
          "metadata": {},
          "output_type": "execute_result"
        }
      ],
      "source": [
        "df.columns"
      ]
    },
    {
      "cell_type": "code",
      "execution_count": 35,
      "metadata": {},
      "outputs": [
        {
          "data": {
            "image/png": "[encoded data removed]",
            "text/plain": [
              "<Figure size 1200x600 with 1 Axes>"
            ]
          },
          "metadata": {},
          "output_type": "display_data"
        }
      ],
      "source": [
        "# Visualize missing values\n",
        "plt.figure(figsize=(12, 6))\n",
        "sns.heatmap(df.isnull(), cbar=False, cmap='viridis')\n",
        "plt.title('Missing Values in the Dataset')\n",
        "plt.show()\n",
        "\n"
      ]
    },
    {
      "cell_type": "markdown",
      "metadata": {},
      "source": [
        "## 3. Handling Missing Values"
      ]
    },
    {
      "cell_type": "code",
      "execution_count": 36,
      "metadata": {},
      "outputs": [],
      "source": [
        "# 3. Handling Missing Values\n",
        "# Drop columns with more than 50% missing values\n",
        "threshold = len(df) * 0.5\n",
        "df.dropna(thresh=threshold, axis=1, inplace=True)\n",
        "\n",
        "# For other missing values, you can fill them with median/mode depending on the nature of the column\n",
        "# For numerical columns, fill missing values with the median\n",
        "for col in df.select_dtypes(include=[np.number]).columns:\n",
        "    df[col].fillna(df[col].median(), inplace=True)\n",
        "\n",
        "# For categorical columns, fill missing values with the mode\n",
        "for col in df.select_dtypes(include=[object]).columns:\n",
        "    df[col].fillna(df[col].mode()[0], inplace=True)\n",
        "\n"
      ]
    },
    {
      "cell_type": "code",
      "execution_count": 37,
      "metadata": {},
      "outputs": [
        {
          "name": "stdout",
          "output_type": "stream",
          "text": [
            "\n",
            "Missing Values:\n",
            "\n",
            "name_nsi     0\n",
            "price        0\n",
            "condition    0\n",
            "area         0\n",
            "provision    0\n",
            "floor        0\n",
            "lift         0\n",
            "cellar       0\n",
            "type         0\n",
            "rooms        0\n",
            "district     0\n",
            "dtype: int64\n"
          ]
        }
      ],
      "source": [
        "# 2. Check for Missing Values\n",
        "print(\"\\nMissing Values:\\n\")\n",
        "print(df.isnull().sum())\n"
      ]
    },
    {
      "cell_type": "code",
      "execution_count": 38,
      "metadata": {},
      "outputs": [
        {
          "data": {
            "text/plain": [
              "Index(['name_nsi', 'price', 'condition', 'area', 'provision', 'floor', 'lift',\n",
              "       'cellar', 'type', 'rooms', 'district'],\n",
              "      dtype='object')"
            ]
          },
          "execution_count": 38,
          "metadata": {},
          "output_type": "execute_result"
        }
      ],
      "source": [
        "df.columns\n"
      ]
    },
    {
      "cell_type": "code",
      "execution_count": 39,
      "metadata": {},
      "outputs": [
        {
          "data": {
            "text/html": [
              "<div>\n",
              "<style scoped>\n",
              "    .dataframe tbody tr th:only-of-type {\n",
              "        vertical-align: middle;\n",
              "    }\n",
              "\n",
              "    .dataframe tbody tr th {\n",
              "        vertical-align: top;\n",
              "    }\n",
              "\n",
              "    .dataframe thead th {\n",
              "        text-align: right;\n",
              "    }\n",
              "</style>\n",
              "<table border=\"1\" class=\"dataframe\">\n",
              "  <thead>\n",
              "    <tr style=\"text-align: right;\">\n",
              "      <th></th>\n",
              "      <th>name_nsi</th>\n",
              "      <th>price</th>\n",
              "      <th>condition</th>\n",
              "      <th>area</th>\n",
              "      <th>provision</th>\n",
              "      <th>floor</th>\n",
              "      <th>lift</th>\n",
              "      <th>cellar</th>\n",
              "      <th>type</th>\n",
              "      <th>rooms</th>\n",
              "      <th>district</th>\n",
              "    </tr>\n",
              "  </thead>\n",
              "  <tbody>\n",
              "    <tr>\n",
              "      <th>0</th>\n",
              "      <td>Semerovo</td>\n",
              "      <td>42000</td>\n",
              "      <td>Original condition</td>\n",
              "      <td>58</td>\n",
              "      <td>0</td>\n",
              "      <td>3.0</td>\n",
              "      <td>0</td>\n",
              "      <td>0</td>\n",
              "      <td>3-room apartment</td>\n",
              "      <td>3</td>\n",
              "      <td>Nové Zámky</td>\n",
              "    </tr>\n",
              "    <tr>\n",
              "      <th>1</th>\n",
              "      <td>Semerovo</td>\n",
              "      <td>42000</td>\n",
              "      <td>Original condition</td>\n",
              "      <td>58</td>\n",
              "      <td>0</td>\n",
              "      <td>3.0</td>\n",
              "      <td>0</td>\n",
              "      <td>0</td>\n",
              "      <td>3-room apartment</td>\n",
              "      <td>3</td>\n",
              "      <td>Nové Zámky</td>\n",
              "    </tr>\n",
              "    <tr>\n",
              "      <th>2</th>\n",
              "      <td>Štúrovo</td>\n",
              "      <td>107000</td>\n",
              "      <td>Partial reconstruction</td>\n",
              "      <td>40</td>\n",
              "      <td>0</td>\n",
              "      <td>3.0</td>\n",
              "      <td>0</td>\n",
              "      <td>0</td>\n",
              "      <td>1-room apartment</td>\n",
              "      <td>1</td>\n",
              "      <td>Nové Zámky</td>\n",
              "    </tr>\n",
              "    <tr>\n",
              "      <th>3</th>\n",
              "      <td>Štúrovo</td>\n",
              "      <td>105000</td>\n",
              "      <td>Complete reconstruction</td>\n",
              "      <td>76</td>\n",
              "      <td>1</td>\n",
              "      <td>4.0</td>\n",
              "      <td>1</td>\n",
              "      <td>0</td>\n",
              "      <td>3-room apartment</td>\n",
              "      <td>3</td>\n",
              "      <td>Nové Zámky</td>\n",
              "    </tr>\n",
              "    <tr>\n",
              "      <th>4</th>\n",
              "      <td>Štúrovo</td>\n",
              "      <td>82000</td>\n",
              "      <td>Partial reconstruction</td>\n",
              "      <td>63</td>\n",
              "      <td>0</td>\n",
              "      <td>2.0</td>\n",
              "      <td>0</td>\n",
              "      <td>0</td>\n",
              "      <td>2-room apartment</td>\n",
              "      <td>2</td>\n",
              "      <td>Nové Zámky</td>\n",
              "    </tr>\n",
              "  </tbody>\n",
              "</table>\n",
              "</div>"
            ],
            "text/plain": [
              "   name_nsi   price                condition area  provision  floor  lift  \\\n",
              "0  Semerovo   42000       Original condition   58          0    3.0     0   \n",
              "1  Semerovo   42000       Original condition   58          0    3.0     0   \n",
              "2   Štúrovo  107000   Partial reconstruction   40          0    3.0     0   \n",
              "3   Štúrovo  105000  Complete reconstruction   76          1    4.0     1   \n",
              "4   Štúrovo   82000   Partial reconstruction   63          0    2.0     0   \n",
              "\n",
              "   cellar              type  rooms    district  \n",
              "0       0  3-room apartment      3  Nové Zámky  \n",
              "1       0  3-room apartment      3  Nové Zámky  \n",
              "2       0  1-room apartment      1  Nové Zámky  \n",
              "3       0  3-room apartment      3  Nové Zámky  \n",
              "4       0  2-room apartment      2  Nové Zámky  "
            ]
          },
          "execution_count": 39,
          "metadata": {},
          "output_type": "execute_result"
        }
      ],
      "source": [
        "df.head()"
      ]
    },
    {
      "cell_type": "code",
      "execution_count": 41,
      "metadata": {},
      "outputs": [
        {
          "data": {
            "text/plain": [
              "count                       15403\n",
              "unique                          6\n",
              "top       Complete reconstruction\n",
              "freq                         4716\n",
              "Name: condition, dtype: object"
            ]
          },
          "execution_count": 41,
          "metadata": {},
          "output_type": "execute_result"
        }
      ],
      "source": [
        "df['condition'].describe()"
      ]
    },
    {
      "cell_type": "code",
      "execution_count": 60,
      "metadata": {},
      "outputs": [
        {
          "data": {
            "text/plain": [
              "13871    Complete reconstruction\n",
              "3437          Original condition\n",
              "2644     Complete reconstruction\n",
              "6775      Partial reconstruction\n",
              "5793          Under construction\n",
              "8500                New building\n",
              "14677         Original condition\n",
              "6476                New building\n",
              "4869     Complete reconstruction\n",
              "12877     Partial reconstruction\n",
              "Name: condition, dtype: object"
            ]
          },
          "execution_count": 60,
          "metadata": {},
          "output_type": "execute_result"
        }
      ],
      "source": [
        "df['condition'].sample(10)"
      ]
    },
    {
      "cell_type": "code",
      "execution_count": null,
      "metadata": {},
      "outputs": [],
      "source": []
    },
    {
      "cell_type": "markdown",
      "metadata": {},
      "source": [
        "# 4. Feature Engineering"
      ]
    },
    {
      "cell_type": "code",
      "execution_count": null,
      "metadata": {},
      "outputs": [],
      "source": []
    },
    {
      "cell_type": "code",
      "execution_count": 61,
      "metadata": {},
      "outputs": [
        {
          "name": "stdout",
          "output_type": "stream",
          "text": [
            "0    0\n",
            "1    0\n",
            "2    1\n",
            "3    1\n",
            "4    1\n",
            "Name: condition, dtype: int64\n"
          ]
        }
      ],
      "source": [
        "# 4. Feature Engineering\n",
        "# Extract relevant features from the 'condition' column\n",
        "df['condition'] = df['condition'].apply(lambda x: 1 if 'reconstruction' in str(x).lower() else 0)\n",
        "\n",
        "print(df['condition'].head())\n",
        "\n",
        "# Convert categorical columns to numeric using one-hot encoding\n",
        "df = pd.get_dummies(df, columns=['district', 'type'], drop_first=True)\n",
        "\n",
        "\n"
      ]
    },
    {
      "cell_type": "code",
      "execution_count": 62,
      "metadata": {},
      "outputs": [
        {
          "data": {
            "text/html": [
              "<div>\n",
              "<style scoped>\n",
              "    .dataframe tbody tr th:only-of-type {\n",
              "        vertical-align: middle;\n",
              "    }\n",
              "\n",
              "    .dataframe tbody tr th {\n",
              "        vertical-align: top;\n",
              "    }\n",
              "\n",
              "    .dataframe thead th {\n",
              "        text-align: right;\n",
              "    }\n",
              "</style>\n",
              "<table border=\"1\" class=\"dataframe\">\n",
              "  <thead>\n",
              "    <tr style=\"text-align: right;\">\n",
              "      <th></th>\n",
              "      <th>name_nsi</th>\n",
              "      <th>price</th>\n",
              "      <th>condition</th>\n",
              "      <th>area</th>\n",
              "      <th>provision</th>\n",
              "      <th>floor</th>\n",
              "      <th>lift</th>\n",
              "      <th>cellar</th>\n",
              "      <th>rooms</th>\n",
              "      <th>district_Banská Štiavnica</th>\n",
              "      <th>...</th>\n",
              "      <th>district_Šaľa</th>\n",
              "      <th>district_Žarnovica</th>\n",
              "      <th>district_Žiar nad Hronom</th>\n",
              "      <th>district_Žilina</th>\n",
              "      <th>type_2-room apartment</th>\n",
              "      <th>type_3-room apartment</th>\n",
              "      <th>type_4-room apartment</th>\n",
              "      <th>type_5 or more room apartment</th>\n",
              "      <th>type_Studio</th>\n",
              "      <th>type_Two-room apartment</th>\n",
              "    </tr>\n",
              "  </thead>\n",
              "  <tbody>\n",
              "    <tr>\n",
              "      <th>0</th>\n",
              "      <td>Semerovo</td>\n",
              "      <td>42000</td>\n",
              "      <td>0</td>\n",
              "      <td>58</td>\n",
              "      <td>0</td>\n",
              "      <td>3.0</td>\n",
              "      <td>0</td>\n",
              "      <td>0</td>\n",
              "      <td>3</td>\n",
              "      <td>False</td>\n",
              "      <td>...</td>\n",
              "      <td>False</td>\n",
              "      <td>False</td>\n",
              "      <td>False</td>\n",
              "      <td>False</td>\n",
              "      <td>False</td>\n",
              "      <td>True</td>\n",
              "      <td>False</td>\n",
              "      <td>False</td>\n",
              "      <td>False</td>\n",
              "      <td>False</td>\n",
              "    </tr>\n",
              "    <tr>\n",
              "      <th>1</th>\n",
              "      <td>Semerovo</td>\n",
              "      <td>42000</td>\n",
              "      <td>0</td>\n",
              "      <td>58</td>\n",
              "      <td>0</td>\n",
              "      <td>3.0</td>\n",
              "      <td>0</td>\n",
              "      <td>0</td>\n",
              "      <td>3</td>\n",
              "      <td>False</td>\n",
              "      <td>...</td>\n",
              "      <td>False</td>\n",
              "      <td>False</td>\n",
              "      <td>False</td>\n",
              "      <td>False</td>\n",
              "      <td>False</td>\n",
              "      <td>True</td>\n",
              "      <td>False</td>\n",
              "      <td>False</td>\n",
              "      <td>False</td>\n",
              "      <td>False</td>\n",
              "    </tr>\n",
              "    <tr>\n",
              "      <th>2</th>\n",
              "      <td>Štúrovo</td>\n",
              "      <td>107000</td>\n",
              "      <td>1</td>\n",
              "      <td>40</td>\n",
              "      <td>0</td>\n",
              "      <td>3.0</td>\n",
              "      <td>0</td>\n",
              "      <td>0</td>\n",
              "      <td>1</td>\n",
              "      <td>False</td>\n",
              "      <td>...</td>\n",
              "      <td>False</td>\n",
              "      <td>False</td>\n",
              "      <td>False</td>\n",
              "      <td>False</td>\n",
              "      <td>False</td>\n",
              "      <td>False</td>\n",
              "      <td>False</td>\n",
              "      <td>False</td>\n",
              "      <td>False</td>\n",
              "      <td>False</td>\n",
              "    </tr>\n",
              "    <tr>\n",
              "      <th>3</th>\n",
              "      <td>Štúrovo</td>\n",
              "      <td>105000</td>\n",
              "      <td>1</td>\n",
              "      <td>76</td>\n",
              "      <td>1</td>\n",
              "      <td>4.0</td>\n",
              "      <td>1</td>\n",
              "      <td>0</td>\n",
              "      <td>3</td>\n",
              "      <td>False</td>\n",
              "      <td>...</td>\n",
              "      <td>False</td>\n",
              "      <td>False</td>\n",
              "      <td>False</td>\n",
              "      <td>False</td>\n",
              "      <td>False</td>\n",
              "      <td>True</td>\n",
              "      <td>False</td>\n",
              "      <td>False</td>\n",
              "      <td>False</td>\n",
              "      <td>False</td>\n",
              "    </tr>\n",
              "    <tr>\n",
              "      <th>4</th>\n",
              "      <td>Štúrovo</td>\n",
              "      <td>82000</td>\n",
              "      <td>1</td>\n",
              "      <td>63</td>\n",
              "      <td>0</td>\n",
              "      <td>2.0</td>\n",
              "      <td>0</td>\n",
              "      <td>0</td>\n",
              "      <td>2</td>\n",
              "      <td>False</td>\n",
              "      <td>...</td>\n",
              "      <td>False</td>\n",
              "      <td>False</td>\n",
              "      <td>False</td>\n",
              "      <td>False</td>\n",
              "      <td>True</td>\n",
              "      <td>False</td>\n",
              "      <td>False</td>\n",
              "      <td>False</td>\n",
              "      <td>False</td>\n",
              "      <td>False</td>\n",
              "    </tr>\n",
              "  </tbody>\n",
              "</table>\n",
              "<p>5 rows × 93 columns</p>\n",
              "</div>"
            ],
            "text/plain": [
              "   name_nsi   price  condition area  provision  floor  lift  cellar  rooms  \\\n",
              "0  Semerovo   42000          0   58          0    3.0     0       0      3   \n",
              "1  Semerovo   42000          0   58          0    3.0     0       0      3   \n",
              "2   Štúrovo  107000          1   40          0    3.0     0       0      1   \n",
              "3   Štúrovo  105000          1   76          1    4.0     1       0      3   \n",
              "4   Štúrovo   82000          1   63          0    2.0     0       0      2   \n",
              "\n",
              "   district_Banská Štiavnica  ...  district_Šaľa  district_Žarnovica  \\\n",
              "0                      False  ...          False               False   \n",
              "1                      False  ...          False               False   \n",
              "2                      False  ...          False               False   \n",
              "3                      False  ...          False               False   \n",
              "4                      False  ...          False               False   \n",
              "\n",
              "   district_Žiar nad Hronom  district_Žilina  type_2-room apartment  \\\n",
              "0                     False            False                  False   \n",
              "1                     False            False                  False   \n",
              "2                     False            False                  False   \n",
              "3                     False            False                  False   \n",
              "4                     False            False                   True   \n",
              "\n",
              "   type_3-room apartment  type_4-room apartment  \\\n",
              "0                   True                  False   \n",
              "1                   True                  False   \n",
              "2                  False                  False   \n",
              "3                   True                  False   \n",
              "4                  False                  False   \n",
              "\n",
              "   type_5 or more room apartment  type_Studio  type_Two-room apartment  \n",
              "0                          False        False                    False  \n",
              "1                          False        False                    False  \n",
              "2                          False        False                    False  \n",
              "3                          False        False                    False  \n",
              "4                          False        False                    False  \n",
              "\n",
              "[5 rows x 93 columns]"
            ]
          },
          "execution_count": 62,
          "metadata": {},
          "output_type": "execute_result"
        }
      ],
      "source": [
        "df.head()"
      ]
    },
    {
      "cell_type": "code",
      "execution_count": 12,
      "metadata": {},
      "outputs": [
        {
          "data": {
            "text/plain": [
              "Index(['name_nsi', 'price', 'condition', 'area', 'provision', 'floor', 'lift',\n",
              "       'cellar', 'type', 'rooms', 'district'],\n",
              "      dtype='object')"
            ]
          },
          "execution_count": 12,
          "metadata": {},
          "output_type": "execute_result"
        }
      ],
      "source": [
        "df.columns"
      ]
    },
    {
      "cell_type": "markdown",
      "metadata": {},
      "source": [
        "# 5. Outlier Detection"
      ]
    },
    {
      "cell_type": "code",
      "execution_count": 64,
      "metadata": {},
      "outputs": [
        {
          "data": {
            "image/png": "[encoded data removed]",
            "text/plain": [
              "<Figure size 1000x600 with 1 Axes>"
            ]
          },
          "metadata": {},
          "output_type": "display_data"
        }
      ],
      "source": [
        "# 5. Outlier Detection\n",
        "# Visualize outliers in the 'price' column\n",
        "plt.figure(figsize=(10, 6))\n",
        "sns.boxplot(df['price'])\n",
        "plt.title('Boxplot for Price')\n",
        "plt.show()\n",
        "\n",
        "# Remove outliers using IQR method for 'price'\n",
        "Q1 = df['price'].quantile(0.25)\n",
        "Q3 = df['price'].quantile(0.75)\n",
        "IQR = Q3 - Q1\n",
        "df = df[(df['price'] >= Q1 - 1.5 * IQR) & (df['price'] <= Q3 + 1.5 * IQR)]\n",
        "\n"
      ]
    },
    {
      "cell_type": "code",
      "execution_count": 65,
      "metadata": {},
      "outputs": [
        {
          "name": "stdout",
          "output_type": "stream",
          "text": [
            "Numeric Columns for Correlation:\n",
            " Index(['price', 'condition', 'provision', 'floor', 'lift', 'cellar', 'rooms'], dtype='object')\n"
          ]
        },
        {
          "data": {
            "image/png": "[encoded data removed]",
            "text/plain": [
              "<Figure size 1200x800 with 2 Axes>"
            ]
          },
          "metadata": {},
          "output_type": "display_data"
        }
      ],
      "source": [
        "# 6. Correlation Analysis\n",
        "# Select only numeric columns for the correlation matrix\n",
        "numeric_df = df.select_dtypes(include=[np.number])\n",
        "\n",
        "# Check the numeric columns in the dataframe\n",
        "print(\"Numeric Columns for Correlation:\\n\", numeric_df.columns)\n",
        "\n",
        "# Create a correlation matrix using only the numeric columns\n",
        "plt.figure(figsize=(12, 8))\n",
        "corr = numeric_df.corr()\n",
        "\n",
        "# Plot the correlation matrix\n",
        "sns.heatmap(corr, annot=True, cmap='coolwarm', fmt=\".2f\")\n",
        "plt.title('Correlation Matrix')\n",
        "plt.show()\n",
        "\n"
      ]
    },
    {
      "cell_type": "markdown",
      "metadata": {},
      "source": [
        "# 7. Feature Scaling"
      ]
    },
    {
      "cell_type": "code",
      "execution_count": 67,
      "metadata": {},
      "outputs": [],
      "source": [
        "# 7. Feature Scaling\n",
        "# Apply MinMax Scaling to numeric columns\n",
        "\n",
        "# Convert comma-separated numeric values to float\n",
        "df['area'] = df['area'].apply(lambda x: str(x).replace(',', '.')).astype(float)\n",
        "df['floor'] = df['floor'].apply(lambda x: str(x).replace(',', '.')).astype(float)\n",
        "\n",
        "# Apply the same transformation for any other columns that might have comma-separated values\n",
        "df['price'] = df['price'].apply(lambda x: str(x).replace(',', '.')).astype(float)\n",
        "\n",
        "# Now apply MinMax Scaling to numeric columns\n",
        "from sklearn.preprocessing import MinMaxScaler\n",
        "\n",
        "scaler = MinMaxScaler()\n",
        "numeric_cols = ['price', 'area', 'floor']\n",
        "df[numeric_cols] = scaler.fit_transform(df[numeric_cols])\n",
        "\n"
      ]
    },
    {
      "cell_type": "code",
      "execution_count": 68,
      "metadata": {},
      "outputs": [],
      "source": [
        "# 8. Splitting the Dataset for Modeling\n",
        "# Define your target variable and features\n",
        "X = df.drop(columns=['price'])\n",
        "y = df['price']\n",
        "\n",
        "# Split the data into training and test sets\n",
        "from sklearn.model_selection import train_test_split\n",
        "X_train, X_test, y_train, y_test = train_test_split(X, y, test_size=0.2, random_state=42)\n",
        "\n"
      ]
    },
    {
      "cell_type": "code",
      "execution_count": 27,
      "metadata": {},
      "outputs": [
        {
          "name": "stdout",
          "output_type": "stream",
          "text": [
            "Data Types Before Modeling:\n",
            " name_nsi                          object\n",
            "condition                          int64\n",
            "area                             float64\n",
            "provision                          int64\n",
            "floor                            float64\n",
            "                                  ...   \n",
            "type_3-room apartment               bool\n",
            "type_4-room apartment               bool\n",
            "type_5 or more room apartment       bool\n",
            "type_Studio                         bool\n",
            "type_Two-room apartment             bool\n",
            "Length: 92, dtype: object\n",
            "Mean Squared Error: 1.9447459503832125e+18\n",
            "R-squared: -5.093656264396175e+19\n"
          ]
        },
        {
          "data": {
            "image/png": "[encoded data removed]",
            "text/plain": [
              "<Figure size 1000x600 with 1 Axes>"
            ]
          },
          "metadata": {},
          "output_type": "display_data"
        }
      ],
      "source": [
        "# 9. Model Building - Linear Regression as an example\n",
        "# Check for any remaining non-numeric columns\n",
        "print(\"Data Types Before Modeling:\\n\", X_train.dtypes)\n",
        "\n",
        "# Ensure all categorical columns are one-hot encoded or converted to numeric\n",
        "# This step ensures any remaining non-numeric columns are encoded correctly\n",
        "X_train = pd.get_dummies(X_train, drop_first=True)\n",
        "X_test = pd.get_dummies(X_test, drop_first=True)\n",
        "\n",
        "# Align columns in X_train and X_test after encoding to ensure they have the same number of features\n",
        "X_train, X_test = X_train.align(X_test, join='left', axis=1, fill_value=0)\n",
        "\n",
        "# Now, build the model with the cleaned data\n",
        "from sklearn.linear_model import LinearRegression\n",
        "from sklearn.metrics import mean_squared_error, r2_score\n",
        "\n",
        "# Initialize the model\n",
        "model = LinearRegression()\n",
        "\n",
        "# Train the model\n",
        "model.fit(X_train, y_train)\n",
        "\n",
        "# Make predictions\n",
        "y_pred = model.predict(X_test)\n",
        "\n",
        "# Model Evaluation\n",
        "mse = mean_squared_error(y_test, y_pred)\n",
        "r2 = r2_score(y_test, y_pred)\n",
        "print(f'Mean Squared Error: {mse}')\n",
        "print(f'R-squared: {r2}')\n",
        "\n",
        "# Visualize actual vs predicted values\n",
        "plt.figure(figsize=(10, 6))\n",
        "plt.scatter(y_test, y_pred, alpha=0.6)\n",
        "plt.plot([min(y_test), max(y_test)], [min(y_test), max(y_test)], color='red')\n",
        "plt.title('Actual vs Predicted Prices')\n",
        "plt.xlabel('Actual Prices')\n",
        "plt.ylabel('Predicted Prices')\n",
        "plt.show()\n",
        "\n"
      ]
    }
  ],
  "metadata": {
    "colab": {
      "provenance": []
    },
    "kernelspec": {
      "display_name": "Python 3",
      "name": "python3"
    },
    "language_info": {
      "codemirror_mode": {
        "name": "ipython",
        "version": 3
      },
      "file_extension": ".py",
      "mimetype": "text/x-python",
      "name": "python",
      "nbconvert_exporter": "python",
      "pygments_lexer": "ipython3",
      "version": "3.11.7"
    }
  },
  "nbformat": 4,
  "nbformat_minor": 0
}
